{
 "cells": [
  {
   "cell_type": "code",
   "execution_count": 99,
   "metadata": {},
   "outputs": [],
   "source": [
    "import pandas as pd\n",
    "import re"
   ]
  },
  {
   "cell_type": "code",
   "execution_count": 100,
   "metadata": {},
   "outputs": [],
   "source": [
    "snippets = r\"\"\"\n",
    "\n",
    ".       - Any Character Except New Line\n",
    "\\d      - Digit (0-9)\n",
    "\\D      - Not a Digit (0-9)\n",
    "\\w      - Word Character (a-z, A-Z, 0-9, _)\n",
    "\\W      - Not a Word Character\n",
    "\\s      - Whitespace (space, tab, newline)\n",
    "\\S      - Not Whitespace (space, tab, newline)\n",
    "\n",
    "\\b      - Word Boundary\n",
    "\\B      - Not a Word Boundary\n",
    "^       - Beginning of a String\n",
    "$       - End of a String\n",
    "\n",
    "[]      - Matches Characters in brackets\n",
    "[^ ]    - Matches Characters NOT in brackets\n",
    "|       - Either Or\n",
    "( )     - Group\n",
    "\n",
    "Quantifiers:\n",
    "*       - 0 or More\n",
    "+       - 1 or More\n",
    "?       - 0 or One\n",
    "{3}     - Exact Number\n",
    "{3,4}   - Range of Numbers (Minimum, Maximum)\n",
    "\n",
    "\n",
    "#### Sample Regexs ####\n",
    "\n",
    "[a-zA-Z0-9_.+-]+@[a-zA-Z0-9-]+\\.[a-zA-Z0-9-.]+\n",
    "\"\"\""
   ]
  },
  {
   "cell_type": "code",
   "execution_count": 135,
   "metadata": {},
   "outputs": [
    {
     "name": "stdout",
     "output_type": "stream",
     "text": [
      "\n",
      "MetaCharacters (Need to be escaped):\n",
      ". ^ $ * + ? { } [ ] \\ | ( )\n",
      "\\d \n",
      "\\D \n",
      "this is a objt.\n",
      "this is a obj.\n",
      "this is a objobj\n",
      "this is aobj obj . \n",
      "MT5\\MAM\n",
      "ä90096\n",
      "\\123123\n",
      "333333333\n",
      "33333 \n",
      "\n",
      "\n"
     ]
    }
   ],
   "source": [
    "text = r\"\"\"\n",
    "MetaCharacters (Need to be escaped):\n",
    ". ^ $ * + ? { } [ ] \\ | ( )\n",
    "\\d \n",
    "\\D \n",
    "this is a objt.\n",
    "this is a obj.\n",
    "this is a objobj\n",
    "this is aobj obj . \n",
    "MT5\\MAM\n",
    "ä90096\n",
    "\\123123\n",
    "333333333\n",
    "33333 \n",
    "\n",
    "\"\"\"\n",
    "print(text)"
   ]
  },
  {
   "cell_type": "code",
   "execution_count": 141,
   "metadata": {},
   "outputs": [
    {
     "data": {
      "text/plain": [
       "re.compile(r'333333333', re.UNICODE)"
      ]
     },
     "execution_count": 141,
     "metadata": {},
     "output_type": "execute_result"
    }
   ],
   "source": [
    "pattern = re.compile(r'333333333')\n",
    "pattern"
   ]
  },
  {
   "cell_type": "code",
   "execution_count": 147,
   "metadata": {},
   "outputs": [
    {
     "data": {
      "text/plain": [
       "<re.Match object; span=(165, 170), match='33333'>"
      ]
     },
     "execution_count": 147,
     "metadata": {},
     "output_type": "execute_result"
    }
   ],
   "source": [
    "re.search(pattern, string = text) # return 1st match obj or None.\n",
    "# re.match(pattern, string = text)  # search at the beginning of string\n",
    "# re.split(pattern, string = text)"
   ]
  },
  {
   "cell_type": "code",
   "execution_count": 146,
   "metadata": {},
   "outputs": [
    {
     "name": "stdout",
     "output_type": "stream",
     "text": [
      "<re.Match object; span=(165, 170), match='33333'>\n",
      "<re.Match object; span=(175, 180), match='33333'>\n"
     ]
    }
   ],
   "source": [
    "pattern = re.compile(r'33333')\n",
    "re.findall(pattern, string = text)\n",
    "matches = re.finditer(pattern, text)\n",
    "matches\n",
    "for match in matches:\n",
    "    print(match)"
   ]
  },
  {
   "cell_type": "code",
   "execution_count": 149,
   "metadata": {},
   "outputs": [
    {
     "name": "stdout",
     "output_type": "stream",
     "text": [
      "<re.Match object; span=(165, 173), match='33333333'>\n"
     ]
    }
   ],
   "source": [
    "pattern = re.compile(r'3{7,8}')\n",
    "matches = re.finditer(pattern, text)\n",
    "for match in matches:\n",
    "    print(match)"
   ]
  },
  {
   "cell_type": "code",
   "execution_count": 150,
   "metadata": {},
   "outputs": [
    {
     "name": "stdout",
     "output_type": "stream",
     "text": [
      "<re.Match object; span=(1, 15), match='MetaCharacters'>\n",
      "<re.Match object; span=(17, 21), match='Need'>\n",
      "<re.Match object; span=(22, 24), match='to'>\n",
      "<re.Match object; span=(25, 27), match='be'>\n",
      "<re.Match object; span=(28, 35), match='escaped'>\n",
      "<re.Match object; span=(67, 68), match='d'>\n",
      "<re.Match object; span=(71, 72), match='D'>\n",
      "<re.Match object; span=(74, 78), match='this'>\n",
      "<re.Match object; span=(79, 81), match='is'>\n",
      "<re.Match object; span=(82, 83), match='a'>\n",
      "<re.Match object; span=(84, 88), match='objt'>\n",
      "<re.Match object; span=(90, 94), match='this'>\n",
      "<re.Match object; span=(95, 97), match='is'>\n",
      "<re.Match object; span=(98, 99), match='a'>\n",
      "<re.Match object; span=(100, 103), match='obj'>\n",
      "<re.Match object; span=(105, 109), match='this'>\n",
      "<re.Match object; span=(110, 112), match='is'>\n",
      "<re.Match object; span=(113, 114), match='a'>\n",
      "<re.Match object; span=(115, 121), match='objobj'>\n",
      "<re.Match object; span=(122, 126), match='this'>\n",
      "<re.Match object; span=(127, 129), match='is'>\n",
      "<re.Match object; span=(130, 134), match='aobj'>\n",
      "<re.Match object; span=(135, 138), match='obj'>\n",
      "<re.Match object; span=(142, 145), match='MT5'>\n",
      "<re.Match object; span=(146, 149), match='MAM'>\n",
      "<re.Match object; span=(150, 156), match='ä90096'>\n",
      "<re.Match object; span=(158, 164), match='123123'>\n",
      "<re.Match object; span=(165, 174), match='333333333'>\n",
      "<re.Match object; span=(175, 180), match='33333'>\n"
     ]
    }
   ],
   "source": [
    "pattern = re.compile(r'\\w+')\n",
    "matches = re.finditer(pattern, text)\n",
    "for match in matches:\n",
    "    print(match)"
   ]
  },
  {
   "cell_type": "code",
   "execution_count": 151,
   "metadata": {},
   "outputs": [
    {
     "name": "stdout",
     "output_type": "stream",
     "text": [
      "<re.Match object; span=(0, 0), match=''>\n",
      "<re.Match object; span=(1, 37), match='MetaCharacters (Need to be escaped):'>\n",
      "<re.Match object; span=(37, 37), match=''>\n",
      "<re.Match object; span=(38, 65), match='. ^ $ * + ? { } [ ] \\\\ | ( )'>\n",
      "<re.Match object; span=(65, 65), match=''>\n",
      "<re.Match object; span=(66, 69), match='\\\\d '>\n",
      "<re.Match object; span=(69, 69), match=''>\n",
      "<re.Match object; span=(70, 73), match='\\\\D '>\n",
      "<re.Match object; span=(73, 73), match=''>\n",
      "<re.Match object; span=(74, 89), match='this is a objt.'>\n",
      "<re.Match object; span=(89, 89), match=''>\n",
      "<re.Match object; span=(90, 104), match='this is a obj.'>\n",
      "<re.Match object; span=(104, 104), match=''>\n",
      "<re.Match object; span=(105, 121), match='this is a objobj'>\n",
      "<re.Match object; span=(121, 121), match=''>\n",
      "<re.Match object; span=(122, 141), match='this is aobj obj . '>\n",
      "<re.Match object; span=(141, 141), match=''>\n",
      "<re.Match object; span=(142, 149), match='MT5\\\\MAM'>\n",
      "<re.Match object; span=(149, 149), match=''>\n",
      "<re.Match object; span=(150, 156), match='ä90096'>\n",
      "<re.Match object; span=(156, 156), match=''>\n",
      "<re.Match object; span=(157, 164), match='\\\\123123'>\n",
      "<re.Match object; span=(164, 164), match=''>\n",
      "<re.Match object; span=(165, 174), match='333333333'>\n",
      "<re.Match object; span=(174, 174), match=''>\n",
      "<re.Match object; span=(175, 181), match='33333 '>\n",
      "<re.Match object; span=(181, 181), match=''>\n",
      "<re.Match object; span=(182, 182), match=''>\n",
      "<re.Match object; span=(183, 183), match=''>\n"
     ]
    }
   ],
   "source": [
    "pattern = re.compile(r'.*')\n",
    "matches = re.finditer(pattern, text)\n",
    "for match in matches:\n",
    "    print(match)"
   ]
  },
  {
   "cell_type": "code",
   "execution_count": 109,
   "metadata": {},
   "outputs": [
    {
     "name": "stdout",
     "output_type": "stream",
     "text": [
      "<re.Match object; span=(144, 150), match='5\\\\MAM\\n'>\n",
      "<re.Match object; span=(151, 157), match='90096\\n'>\n",
      "<re.Match object; span=(158, 165), match='123123\\n'>\n",
      "<re.Match object; span=(165, 175), match='333333333\\n'>\n",
      "<re.Match object; span=(175, 183), match='33333 \\n\\n'>\n"
     ]
    }
   ],
   "source": [
    "pattern = re.compile(r'[0-9]+.*\\s*')\n",
    "matches = re.finditer(pattern, text)\n",
    "for match in matches:\n",
    "    print(match)"
   ]
  },
  {
   "cell_type": "code",
   "execution_count": 152,
   "metadata": {},
   "outputs": [
    {
     "name": "stdout",
     "output_type": "stream",
     "text": [
      "<re.Match object; span=(27, 30), match='obj'>\n",
      "<re.Match object; span=(75, 78), match='obj'>\n",
      "<re.Match object; span=(103, 106), match='obj'>\n"
     ]
    }
   ],
   "source": [
    "text = \"\"\"\n",
    "this is a objt.\n",
    "this is a obj.      # match\n",
    "this is a objobj\n",
    "this is aobj obj .  # match\n",
    "this is aobj obj\\n   # match\n",
    "\"\"\"\n",
    "\n",
    "pattern = re.compile(r'\\bobj\\b')\n",
    "matches = re.finditer(pattern, text)\n",
    "for match in matches:\n",
    "    print(match)\n",
    "\n"
   ]
  },
  {
   "cell_type": "code",
   "execution_count": 153,
   "metadata": {},
   "outputs": [
    {
     "name": "stdout",
     "output_type": "stream",
     "text": [
      "<re.Match object; span=(1, 18), match='test123@gmail.com'>\n",
      "<re.Match object; span=(19, 39), match='test.123@nccu.edu.tw'>\n"
     ]
    }
   ],
   "source": [
    "text = \"\"\"\n",
    "test123@gmail.com\n",
    "test.123@nccu.edu.tw\n",
    "test-123@nsysu-edu-tw\n",
    "\"\"\"\n",
    "\n",
    "pattern = re.compile(r'[a-zA-Z0-9_.-]+@[a-zA-Z0-9-]+\\.[a-zA-Z0-9-.]+')\n",
    "\n",
    "matches = pattern.finditer(text)\n",
    "\n",
    "for match in matches:\n",
    "    print(match)"
   ]
  },
  {
   "cell_type": "code",
   "execution_count": 155,
   "metadata": {},
   "outputs": [
    {
     "name": "stdout",
     "output_type": "stream",
     "text": [
      "<re.Match object; span=(4, 5), match='q'>\n",
      "<re.Match object; span=(7, 8), match='q'>\n"
     ]
    }
   ],
   "source": [
    "# Positive and Negative Lookahead\n",
    "\n",
    "text = \"\"\"\n",
    "qu\n",
    "qb\n",
    "qa\n",
    "\"\"\"\n",
    "\n",
    "pattern = re.compile(r'q(?!u)')\n",
    "\n",
    "matches = pattern.finditer(text)\n",
    "\n",
    "for match in matches:\n",
    "    print(match)\n"
   ]
  },
  {
   "cell_type": "code",
   "execution_count": 156,
   "metadata": {},
   "outputs": [
    {
     "name": "stdout",
     "output_type": "stream",
     "text": [
      "<re.Match object; span=(1, 2), match='q'>\n"
     ]
    }
   ],
   "source": [
    "pattern = re.compile(r'q(?=u)')\n",
    "\n",
    "matches = pattern.finditer(text)\n",
    "\n",
    "for match in matches:\n",
    "    print(match)"
   ]
  },
  {
   "cell_type": "code",
   "execution_count": 157,
   "metadata": {},
   "outputs": [
    {
     "name": "stdout",
     "output_type": "stream",
     "text": [
      "<re.Match object; span=(4, 5), match='q'>\n"
     ]
    }
   ],
   "source": [
    "# Positive and Negative Lookbehind\n",
    "\n",
    "text = \"\"\"\n",
    "aq\n",
    "qa\n",
    "\"\"\"\n",
    "\n",
    "pattern = re.compile(r'(?<!a)q')\n",
    "\n",
    "matches = pattern.finditer(text)\n",
    "\n",
    "for match in matches:\n",
    "    print(match)"
   ]
  },
  {
   "cell_type": "code",
   "execution_count": 115,
   "metadata": {},
   "outputs": [
    {
     "name": "stdout",
     "output_type": "stream",
     "text": [
      "<re.Match object; span=(2, 3), match='q'>\n"
     ]
    }
   ],
   "source": [
    "pattern = re.compile(r'(?<=a)q')\n",
    "\n",
    "matches = pattern.finditer(text)\n",
    "\n",
    "for match in matches:\n",
    "    print(match)"
   ]
  },
  {
   "cell_type": "code",
   "execution_count": 158,
   "metadata": {},
   "outputs": [
    {
     "name": "stdout",
     "output_type": "stream",
     "text": [
      "<re.Match object; span=(10, 13), match='MAM'>\n"
     ]
    }
   ],
   "source": [
    "text = \"\"\"\n",
    "VT_Hedge\\MAM\\MAM_VUM_100084_GBP\n",
    "VU_Hedge\\MAM\\MAM_VUM_100084_GBP\n",
    "\"\"\"\n",
    "\n",
    "pattern = re.compile(r'(?<=VT_Hedge\\\\)MAM')\n",
    "\n",
    "matches = pattern.finditer(text)\n",
    "\n",
    "for match in matches:\n",
    "    print(match)"
   ]
  },
  {
   "cell_type": "code",
   "execution_count": 161,
   "metadata": {},
   "outputs": [
    {
     "name": "stdout",
     "output_type": "stream",
     "text": [
      "<re.Match object; span=(1, 2), match='ä'>\n"
     ]
    }
   ],
   "source": [
    "# ASCII \n",
    "text = r\"\"\"\n",
    "ä90096\n",
    "90096\n",
    "\"\"\"\n",
    "# Match ALL ASCII Printable Characters\n",
    "# Match ALL ASCII Characters (including of Non-Printable Characters)\n",
    "# pattern = re.compile(r'[^ -~]')\n",
    "pattern = re.compile(r'[^\\x00-\\x7F]')\n",
    "matches = pattern.finditer(text)\n",
    "\n",
    "for match in matches:\n",
    "    print(match)\n",
    "\n",
    "\n",
    "# print(re.sub(pattern = r'[^\\x00-\\x7F]', repl = '', string = text))"
   ]
  },
  {
   "cell_type": "code",
   "execution_count": 125,
   "metadata": {},
   "outputs": [
    {
     "data": {
      "text/html": [
       "<div>\n",
       "<style scoped>\n",
       "    .dataframe tbody tr th:only-of-type {\n",
       "        vertical-align: middle;\n",
       "    }\n",
       "\n",
       "    .dataframe tbody tr th {\n",
       "        vertical-align: top;\n",
       "    }\n",
       "\n",
       "    .dataframe thead th {\n",
       "        text-align: right;\n",
       "    }\n",
       "</style>\n",
       "<table border=\"1\" class=\"dataframe\">\n",
       "  <thead>\n",
       "    <tr style=\"text-align: right;\">\n",
       "      <th></th>\n",
       "      <th>login</th>\n",
       "      <th>group</th>\n",
       "    </tr>\n",
       "  </thead>\n",
       "  <tbody>\n",
       "    <tr>\n",
       "      <th>0</th>\n",
       "      <td>1</td>\n",
       "      <td>VU_Hedge\\MAM\\MAM_VUM_100084_USD</td>\n",
       "    </tr>\n",
       "    <tr>\n",
       "      <th>1</th>\n",
       "      <td>2</td>\n",
       "      <td>VT_Hedge\\MAM\\MAM_VUM_100084_GBP</td>\n",
       "    </tr>\n",
       "    <tr>\n",
       "      <th>2</th>\n",
       "      <td>3</td>\n",
       "      <td>Moneta_Hedge\\M_MNT_GBP</td>\n",
       "    </tr>\n",
       "    <tr>\n",
       "      <th>3</th>\n",
       "      <td>4</td>\n",
       "      <td>MNT_V_95054_GBP</td>\n",
       "    </tr>\n",
       "    <tr>\n",
       "      <th>4</th>\n",
       "      <td>5</td>\n",
       "      <td>SAM_VFX_MB_USD</td>\n",
       "    </tr>\n",
       "    <tr>\n",
       "      <th>5</th>\n",
       "      <td>6</td>\n",
       "      <td>M_MON_USD</td>\n",
       "    </tr>\n",
       "  </tbody>\n",
       "</table>\n",
       "</div>"
      ],
      "text/plain": [
       "   login                            group\n",
       "0      1  VU_Hedge\\MAM\\MAM_VUM_100084_USD\n",
       "1      2  VT_Hedge\\MAM\\MAM_VUM_100084_GBP\n",
       "2      3           Moneta_Hedge\\M_MNT_GBP\n",
       "3      4                  MNT_V_95054_GBP\n",
       "4      5                   SAM_VFX_MB_USD\n",
       "5      6                        M_MON_USD"
      ]
     },
     "execution_count": 125,
     "metadata": {},
     "output_type": "execute_result"
    }
   ],
   "source": [
    "df = pd.DataFrame({\n",
    "    'login' : [1, 2, 3, 4, 5, 6],\n",
    "    'group' : ['VU_Hedge\\MAM\\MAM_VUM_100084_USD', 'VT_Hedge\\MAM\\MAM_VUM_100084_GBP', 'Moneta_Hedge\\M_MNT_GBP', 'MNT_V_95054_GBP', 'SAM_VFX_MB_USD', 'M_MON_USD']\n",
    "})\n",
    "df"
   ]
  },
  {
   "cell_type": "code",
   "execution_count": 167,
   "metadata": {},
   "outputs": [
    {
     "data": {
      "text/plain": [
       "0    False\n",
       "1    False\n",
       "2     True\n",
       "3    False\n",
       "4     True\n",
       "5     True\n",
       "Name: group, dtype: bool"
      ]
     },
     "execution_count": 167,
     "metadata": {},
     "output_type": "execute_result"
    }
   ],
   "source": [
    "# Series.str.contains(pat, case=True, flags=0, na=None, regex=True)\n",
    "df['group'].str.contains(pat = r'\\\\')\n",
    "# # Series.str.replace(pat, repl, n=- 1, case=None, flags=0, regex=None)\n",
    "df['group'].str.replace(pat = r'\\\\', repl = '', regex = True)\n",
    "# # Series.str.extract(pat, flags=0, expand=True)\n",
    "df['group'].str.extract(pat = r'([0-9]+)')   # 等價於r'(\\d+)'\n",
    "df['group'].str.extract(pat = r'(\\d+)')  \n",
    "# # Exclude Pattern\n",
    "# df['group'].str.contains(pat = r'^((?!MAM).)*$')  \n",
    "df['group'].str.contains(pat = r'^(?!.*MAM).*$')\n",
    "df['group'].str.contains(pat = r'^(?!.*\\d).*$')\n",
    "\n",
    "\n"
   ]
  },
  {
   "cell_type": "code",
   "execution_count": 168,
   "metadata": {},
   "outputs": [
    {
     "data": {
      "text/html": [
       "<div>\n",
       "<style scoped>\n",
       "    .dataframe tbody tr th:only-of-type {\n",
       "        vertical-align: middle;\n",
       "    }\n",
       "\n",
       "    .dataframe tbody tr th {\n",
       "        vertical-align: top;\n",
       "    }\n",
       "\n",
       "    .dataframe thead th {\n",
       "        text-align: right;\n",
       "    }\n",
       "</style>\n",
       "<table border=\"1\" class=\"dataframe\">\n",
       "  <thead>\n",
       "    <tr style=\"text-align: right;\">\n",
       "      <th></th>\n",
       "      <th>symbol</th>\n",
       "      <th>clean_symbol</th>\n",
       "      <th>symbol_type</th>\n",
       "    </tr>\n",
       "  </thead>\n",
       "  <tbody>\n",
       "    <tr>\n",
       "      <th>0</th>\n",
       "      <td>ADAUSD</td>\n",
       "      <td>ADAUSD</td>\n",
       "      <td>Cryptocurrency</td>\n",
       "    </tr>\n",
       "    <tr>\n",
       "      <th>1</th>\n",
       "      <td>AUDCAD</td>\n",
       "      <td>AUDCAD</td>\n",
       "      <td>Forex</td>\n",
       "    </tr>\n",
       "    <tr>\n",
       "      <th>2</th>\n",
       "      <td>AUDCAD.i</td>\n",
       "      <td>AUDCAD</td>\n",
       "      <td>Forex</td>\n",
       "    </tr>\n",
       "    <tr>\n",
       "      <th>3</th>\n",
       "      <td>AUDCAD.ixp</td>\n",
       "      <td>AUDCAD</td>\n",
       "      <td>Forex</td>\n",
       "    </tr>\n",
       "    <tr>\n",
       "      <th>4</th>\n",
       "      <td>AUDCAD.uk+</td>\n",
       "      <td>AUDCAD</td>\n",
       "      <td>Forex</td>\n",
       "    </tr>\n",
       "  </tbody>\n",
       "</table>\n",
       "</div>"
      ],
      "text/plain": [
       "       symbol clean_symbol     symbol_type\n",
       "0      ADAUSD       ADAUSD  Cryptocurrency\n",
       "1      AUDCAD       AUDCAD           Forex\n",
       "2    AUDCAD.i       AUDCAD           Forex\n",
       "3  AUDCAD.ixp       AUDCAD           Forex\n",
       "4  AUDCAD.uk+       AUDCAD           Forex"
      ]
     },
     "execution_count": 168,
     "metadata": {},
     "output_type": "execute_result"
    }
   ],
   "source": [
    "df = pd.read_excel('symbols.xlsx')\n",
    "df.head()"
   ]
  },
  {
   "cell_type": "code",
   "execution_count": 169,
   "metadata": {},
   "outputs": [
    {
     "data": {
      "text/plain": [
       "array([nan, '.i', '.ixp', '.uk+', '+', '.uk', '-OIL+', '#', '-OIL#',\n",
       "       '.m#', '.m+', '.c', '&T', '.r', '.v', '-OIL', '-C', '-Cr', '.',\n",
       "       '.Inst', '.pr', '-OIL.pr', '.pro', '.fr', '-OIL.fr', '.pr+',\n",
       "       '-OIL.pr+', '.sp', '.m', '.a', '.s', '.e', '.y', '.r+', '.A',\n",
       "       '.crp', '-OIL.e', '-OIL.i', '-OIL.s', '.m.e', '.p', '-OIL.p',\n",
       "       '-Cs', '&T.m', '-ECN', '-STD', '-VIP', '.pr.m', '+.m', '.A.m',\n",
       "       '.r.m', '-OIL-ECN', '-OIL-STD', '-OIL-VIP', '-OIL.m', '-OIL.pr.m',\n",
       "       '-C.', '-C.m', '-Cr.m', '.crp.m', '-Cash', '.sc', '.b', '-OIL.',\n",
       "       '-C.i', '-Cb'], dtype=object)"
      ]
     },
     "execution_count": 169,
     "metadata": {},
     "output_type": "execute_result"
    }
   ],
   "source": [
    "df['feature'] = df['symbol'].str.extract(r\"([^A-Za-z0-9].*)\", expand = False)\n",
    "df['feature'].unique()"
   ]
  },
  {
   "cell_type": "code",
   "execution_count": 170,
   "metadata": {},
   "outputs": [
    {
     "data": {
      "text/plain": [
       "array([nan, '.i', '.ixp', '.uk+', '+', '.uk', '#', '.m#', '.m+', '.c', '',\n",
       "       '.r', '.v', '-C', '-Cr', '.', '.Inst', '.pr', '.pro', '.fr',\n",
       "       '.pr+', '.sp', '.m', '.a', '.s', '.e', '.y', '.r+', '.crp', '.m.e',\n",
       "       '.p', '-Cs', '-ECN', '-STD', '-VIP', '.pr.m', '+.m', '.r.m', '-C.',\n",
       "       '-C.m', '-Cr.m', '.crp.m', '-Cash', '.sc', '.b', '-C.i', '-Cb'],\n",
       "      dtype=object)"
      ]
     },
     "execution_count": 170,
     "metadata": {},
     "output_type": "execute_result"
    }
   ],
   "source": [
    "# replace(pat = r'\\\\', repl = '', regex = True)\n",
    "df['feature2'] = df['feature'].str.replace(r'.*-OIL|.*.A|.*&T', repl = '', regex = True)\n",
    "df['feature2'].unique()"
   ]
  },
  {
   "cell_type": "code",
   "execution_count": 171,
   "metadata": {},
   "outputs": [],
   "source": [
    "df['clean_symbol_regex'] = df.apply(lambda row : row['symbol'].replace(str(row['feature2']), ''), axis=1)\n",
    "df_nonmatch = df[df['clean_symbol_regex'] != df['clean_symbol']]"
   ]
  },
  {
   "cell_type": "code",
   "execution_count": 172,
   "metadata": {},
   "outputs": [
    {
     "data": {
      "text/html": [
       "<div>\n",
       "<style scoped>\n",
       "    .dataframe tbody tr th:only-of-type {\n",
       "        vertical-align: middle;\n",
       "    }\n",
       "\n",
       "    .dataframe tbody tr th {\n",
       "        vertical-align: top;\n",
       "    }\n",
       "\n",
       "    .dataframe thead th {\n",
       "        text-align: right;\n",
       "    }\n",
       "</style>\n",
       "<table border=\"1\" class=\"dataframe\">\n",
       "  <thead>\n",
       "    <tr style=\"text-align: right;\">\n",
       "      <th></th>\n",
       "      <th>symbol</th>\n",
       "      <th>clean_symbol</th>\n",
       "      <th>symbol_type</th>\n",
       "      <th>feature</th>\n",
       "      <th>feature2</th>\n",
       "      <th>clean_symbol_regex</th>\n",
       "    </tr>\n",
       "  </thead>\n",
       "  <tbody>\n",
       "    <tr>\n",
       "      <th>26</th>\n",
       "      <td>AUS200</td>\n",
       "      <td>SPI200</td>\n",
       "      <td>Index</td>\n",
       "      <td>NaN</td>\n",
       "      <td>NaN</td>\n",
       "      <td>AUS200</td>\n",
       "    </tr>\n",
       "    <tr>\n",
       "      <th>27</th>\n",
       "      <td>AUS200.i</td>\n",
       "      <td>SPI200</td>\n",
       "      <td>Index</td>\n",
       "      <td>.i</td>\n",
       "      <td>.i</td>\n",
       "      <td>AUS200</td>\n",
       "    </tr>\n",
       "    <tr>\n",
       "      <th>28</th>\n",
       "      <td>AUS200.uk</td>\n",
       "      <td>SPI200</td>\n",
       "      <td>Index</td>\n",
       "      <td>.uk</td>\n",
       "      <td>.uk</td>\n",
       "      <td>AUS200</td>\n",
       "    </tr>\n",
       "    <tr>\n",
       "      <th>32</th>\n",
       "      <td>BTCXBN</td>\n",
       "      <td>BTCBCH</td>\n",
       "      <td>Cryptocurrency</td>\n",
       "      <td>NaN</td>\n",
       "      <td>NaN</td>\n",
       "      <td>BTCXBN</td>\n",
       "    </tr>\n",
       "    <tr>\n",
       "      <th>33</th>\n",
       "      <td>BTCXET</td>\n",
       "      <td>BTCETH</td>\n",
       "      <td>Cryptocurrency</td>\n",
       "      <td>NaN</td>\n",
       "      <td>NaN</td>\n",
       "      <td>BTCXET</td>\n",
       "    </tr>\n",
       "    <tr>\n",
       "      <th>...</th>\n",
       "      <td>...</td>\n",
       "      <td>...</td>\n",
       "      <td>...</td>\n",
       "      <td>...</td>\n",
       "      <td>...</td>\n",
       "      <td>...</td>\n",
       "    </tr>\n",
       "    <tr>\n",
       "      <th>2353</th>\n",
       "      <td>DAX40ft.i</td>\n",
       "      <td>GER40ft</td>\n",
       "      <td>Future</td>\n",
       "      <td>.i</td>\n",
       "      <td>.i</td>\n",
       "      <td>DAX40ft</td>\n",
       "    </tr>\n",
       "    <tr>\n",
       "      <th>2394</th>\n",
       "      <td>GAS-C.i</td>\n",
       "      <td>Gas</td>\n",
       "      <td>Commodities</td>\n",
       "      <td>-C.i</td>\n",
       "      <td>-C.i</td>\n",
       "      <td>GAS</td>\n",
       "    </tr>\n",
       "    <tr>\n",
       "      <th>2395</th>\n",
       "      <td>GAS-Cb</td>\n",
       "      <td>Gas</td>\n",
       "      <td>Commodities</td>\n",
       "      <td>-Cb</td>\n",
       "      <td>-Cb</td>\n",
       "      <td>GAS</td>\n",
       "    </tr>\n",
       "    <tr>\n",
       "      <th>2396</th>\n",
       "      <td>GASOIL-C.i</td>\n",
       "      <td>Gasoil</td>\n",
       "      <td>Commodities</td>\n",
       "      <td>-C.i</td>\n",
       "      <td>-C.i</td>\n",
       "      <td>GASOIL</td>\n",
       "    </tr>\n",
       "    <tr>\n",
       "      <th>2397</th>\n",
       "      <td>GASOIL-Cb</td>\n",
       "      <td>Gasoil</td>\n",
       "      <td>Commodities</td>\n",
       "      <td>-Cb</td>\n",
       "      <td>-Cb</td>\n",
       "      <td>GASOIL</td>\n",
       "    </tr>\n",
       "  </tbody>\n",
       "</table>\n",
       "<p>184 rows × 6 columns</p>\n",
       "</div>"
      ],
      "text/plain": [
       "          symbol clean_symbol     symbol_type feature feature2  \\\n",
       "26        AUS200       SPI200           Index     NaN      NaN   \n",
       "27      AUS200.i       SPI200           Index      .i       .i   \n",
       "28     AUS200.uk       SPI200           Index     .uk      .uk   \n",
       "32        BTCXBN       BTCBCH  Cryptocurrency     NaN      NaN   \n",
       "33        BTCXET       BTCETH  Cryptocurrency     NaN      NaN   \n",
       "...          ...          ...             ...     ...      ...   \n",
       "2353   DAX40ft.i      GER40ft          Future      .i       .i   \n",
       "2394     GAS-C.i          Gas     Commodities    -C.i     -C.i   \n",
       "2395      GAS-Cb          Gas     Commodities     -Cb      -Cb   \n",
       "2396  GASOIL-C.i       Gasoil     Commodities    -C.i     -C.i   \n",
       "2397   GASOIL-Cb       Gasoil     Commodities     -Cb      -Cb   \n",
       "\n",
       "     clean_symbol_regex  \n",
       "26               AUS200  \n",
       "27               AUS200  \n",
       "28               AUS200  \n",
       "32               BTCXBN  \n",
       "33               BTCXET  \n",
       "...                 ...  \n",
       "2353            DAX40ft  \n",
       "2394                GAS  \n",
       "2395                GAS  \n",
       "2396             GASOIL  \n",
       "2397             GASOIL  \n",
       "\n",
       "[184 rows x 6 columns]"
      ]
     },
     "execution_count": 172,
     "metadata": {},
     "output_type": "execute_result"
    }
   ],
   "source": [
    "df_nonmatch"
   ]
  },
  {
   "cell_type": "code",
   "execution_count": null,
   "metadata": {},
   "outputs": [],
   "source": []
  }
 ],
 "metadata": {
  "interpreter": {
   "hash": "38d51dd8e8d25c2b4859ddf5fde4d8615b38902fd48d30a19bf46ddb81d406a6"
  },
  "kernelspec": {
   "display_name": "Python 3.9.12 64-bit (windows store)",
   "language": "python",
   "name": "python3"
  },
  "language_info": {
   "codemirror_mode": {
    "name": "ipython",
    "version": 3
   },
   "file_extension": ".py",
   "mimetype": "text/x-python",
   "name": "python",
   "nbconvert_exporter": "python",
   "pygments_lexer": "ipython3",
   "version": "3.9.7"
  },
  "orig_nbformat": 4
 },
 "nbformat": 4,
 "nbformat_minor": 2
}
