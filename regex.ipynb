{
 "cells": [
  {
   "cell_type": "code",
   "execution_count": 1,
   "metadata": {},
   "outputs": [],
   "source": [
    "import pandas as pd\n",
    "import re"
   ]
  },
  {
   "cell_type": "code",
   "execution_count": null,
   "metadata": {},
   "outputs": [],
   "source": [
    "snippets = r\"\"\"\n",
    "\n",
    ".       - Any Character Except New Line\n",
    "\\d      - Digit (0-9)\n",
    "\\D      - Not a Digit (0-9)\n",
    "\\w      - Word Character (a-z, A-Z, 0-9, _)\n",
    "\\W      - Not a Word Character\n",
    "\\s      - Whitespace (space, tab, newline)\n",
    "\\S      - Not Whitespace (space, tab, newline)\n",
    "\n",
    "\\b      - Word Boundary\n",
    "\\B      - Not a Word Boundary\n",
    "^       - Beginning of a String\n",
    "$       - End of a String\n",
    "\n",
    "[]      - Matches Characters in brackets\n",
    "[^ ]    - Matches Characters NOT in brackets\n",
    "|       - Either Or\n",
    "( )     - Group\n",
    "\n",
    "Quantifiers:\n",
    "*       - 0 or More\n",
    "+       - 1 or More\n",
    "?       - 0 or One\n",
    "{3}     - Exact Number\n",
    "{3,4}   - Range of Numbers (Minimum, Maximum)\n",
    "\n",
    "\n",
    "#### Sample Regexs ####\n",
    "\n",
    "[a-zA-Z0-9_.+-]+@[a-zA-Z0-9-]+\\.[a-zA-Z0-9-.]+\n",
    "\"\"\""
   ]
  },
  {
   "cell_type": "code",
   "execution_count": 49,
   "metadata": {},
   "outputs": [
    {
     "name": "stdout",
     "output_type": "stream",
     "text": [
      "\n",
      "MetaCharacters (Need to be escaped):\n",
      ". ^ $ * + ? { } [ ] \\ | ( )\n",
      "\\d \n",
      "\\D \n",
      "MT5\\MAM\n",
      "ä90096\n",
      "\\123123\n",
      "333333333\n",
      "33333 \n",
      "\n",
      "\n"
     ]
    }
   ],
   "source": [
    "text = r\"\"\"\n",
    "MetaCharacters (Need to be escaped):\n",
    ". ^ $ * + ? { } [ ] \\ | ( )\n",
    "\\d \n",
    "\\D \n",
    "MT5\\MAM\n",
    "ä90096\n",
    "\\123123\n",
    "333333333\n",
    "33333 \n",
    "\n",
    "\"\"\"\n",
    "print(text)"
   ]
  },
  {
   "cell_type": "code",
   "execution_count": 50,
   "metadata": {},
   "outputs": [
    {
     "data": {
      "text/plain": [
       "re.compile(r'333333333', re.UNICODE)"
      ]
     },
     "execution_count": 50,
     "metadata": {},
     "output_type": "execute_result"
    }
   ],
   "source": [
    "pattern = re.compile(r'333333333')\n",
    "pattern"
   ]
  },
  {
   "cell_type": "code",
   "execution_count": 51,
   "metadata": {},
   "outputs": [
    {
     "data": {
      "text/plain": [
       "['\\nMetaCharacters (Need to be escaped):\\n. ^ $ * + ? { } [ ] \\\\ | ( )\\n\\\\d \\n\\\\D \\nMT5\\\\MAM\\nä90096\\n\\\\123123\\n',\n",
       " '\\n33333 \\n\\n']"
      ]
     },
     "execution_count": 51,
     "metadata": {},
     "output_type": "execute_result"
    }
   ],
   "source": [
    "re.search(pattern, string = text) # return 1st match obj or None.\n",
    "re.match(pattern, string = text)  # search at the beginning of string\n",
    "re.split(pattern, string = text)"
   ]
  },
  {
   "cell_type": "code",
   "execution_count": 54,
   "metadata": {},
   "outputs": [
    {
     "name": "stdout",
     "output_type": "stream",
     "text": [
      "<re.Match object; span=(97, 102), match='33333'>\n",
      "<re.Match object; span=(107, 112), match='33333'>\n"
     ]
    }
   ],
   "source": [
    "pattern = re.compile(r'33333')\n",
    "re.findall(pattern, string = text)\n",
    "match_obj = re.finditer(pattern, text)\n",
    "for match in match_obj:\n",
    "    print(match)"
   ]
  },
  {
   "cell_type": "code",
   "execution_count": 61,
   "metadata": {},
   "outputs": [
    {
     "name": "stdout",
     "output_type": "stream",
     "text": [
      "<re.Match object; span=(1, 2), match='ä'>\n",
      "\n",
      "90096\n",
      "90096\n",
      "\n"
     ]
    }
   ],
   "source": [
    "# ASCII \n",
    "text = r\"\"\"\n",
    "ä90096\n",
    "90096\n",
    "\"\"\"\n",
    "# Match ALL ASCII Printable Characters\n",
    "# Match ALL ASCII Characters (including of Non-Printable Characters)\n",
    "pattern = re.compile(r'[^ -~]')\n",
    "pattern = re.compile(r'[^\\x00-\\x7F]')\n",
    "matches = pattern.finditer(text)\n",
    "\n",
    "for match in matches:\n",
    "    print(match)\n",
    "\n",
    "\n",
    "# print(re.sub(pattern = r'[^\\x00-\\x7F]', repl = '', string = text))"
   ]
  },
  {
   "cell_type": "code",
   "execution_count": 38,
   "metadata": {},
   "outputs": [
    {
     "data": {
      "text/plain": [
       "0    True\n",
       "1    True\n",
       "2    True\n",
       "3    True\n",
       "4    True\n",
       "5    True\n",
       "Name: group, dtype: bool"
      ]
     },
     "execution_count": 38,
     "metadata": {},
     "output_type": "execute_result"
    }
   ],
   "source": [
    "df = pd.DataFrame({\n",
    "    'login' : [1, 2, 3, 4, 5, 6],\n",
    "    'group' : ['VU_Hedge\\MAM\\MAM_VUM_100084_USD', 'VU_Hedge\\MAM\\MAM_VUM_100084_GBP', 'Moneta_Hedge\\M_MNT_GBP', 'MNT_V_95054_GBP', 'SAM_VFX_MB_USD', 'M_MON_USD']\n",
    "})\n",
    "# Series.str.contains(pat, case=True, flags=0, na=None, regex=True)\n",
    "df['group'].str.contains(pat = r'\\\\')\n",
    "# Series.str.replace(pat, repl, n=- 1, case=None, flags=0, regex=None)\n",
    "df['group'].str.replace(pat = r'\\\\', repl = '', regex = True)\n",
    "# Series.str.extract(pat, flags=0, expand=True)\n",
    "df['group'].str.extract(pat = r'([0-9]+)')   # 等價於r'(\\d+)'\n",
    "df['group'].str.extract(pat = r'(\\d+)')  \n",
    "# Exclude Pattern\n",
    "df['group'].str.contains(pat = r'^((?!MAM).)*$')  \n",
    "# step1.\n",
    "df['group'].str.contains(pat = r'.*(?!MAM)')  \n",
    "\n",
    "\n"
   ]
  },
  {
   "cell_type": "code",
   "execution_count": 63,
   "metadata": {},
   "outputs": [
    {
     "data": {
      "text/html": [
       "<div>\n",
       "<style scoped>\n",
       "    .dataframe tbody tr th:only-of-type {\n",
       "        vertical-align: middle;\n",
       "    }\n",
       "\n",
       "    .dataframe tbody tr th {\n",
       "        vertical-align: top;\n",
       "    }\n",
       "\n",
       "    .dataframe thead th {\n",
       "        text-align: right;\n",
       "    }\n",
       "</style>\n",
       "<table border=\"1\" class=\"dataframe\">\n",
       "  <thead>\n",
       "    <tr style=\"text-align: right;\">\n",
       "      <th></th>\n",
       "      <th>symbol</th>\n",
       "      <th>clean_symbol</th>\n",
       "      <th>symbol_type</th>\n",
       "    </tr>\n",
       "  </thead>\n",
       "  <tbody>\n",
       "    <tr>\n",
       "      <th>0</th>\n",
       "      <td>ADAUSD</td>\n",
       "      <td>ADAUSD</td>\n",
       "      <td>Cryptocurrency</td>\n",
       "    </tr>\n",
       "    <tr>\n",
       "      <th>1</th>\n",
       "      <td>AUDCAD</td>\n",
       "      <td>AUDCAD</td>\n",
       "      <td>Forex</td>\n",
       "    </tr>\n",
       "    <tr>\n",
       "      <th>2</th>\n",
       "      <td>AUDCAD.i</td>\n",
       "      <td>AUDCAD</td>\n",
       "      <td>Forex</td>\n",
       "    </tr>\n",
       "    <tr>\n",
       "      <th>3</th>\n",
       "      <td>AUDCAD.ixp</td>\n",
       "      <td>AUDCAD</td>\n",
       "      <td>Forex</td>\n",
       "    </tr>\n",
       "    <tr>\n",
       "      <th>4</th>\n",
       "      <td>AUDCAD.uk+</td>\n",
       "      <td>AUDCAD</td>\n",
       "      <td>Forex</td>\n",
       "    </tr>\n",
       "  </tbody>\n",
       "</table>\n",
       "</div>"
      ],
      "text/plain": [
       "       symbol clean_symbol     symbol_type\n",
       "0      ADAUSD       ADAUSD  Cryptocurrency\n",
       "1      AUDCAD       AUDCAD           Forex\n",
       "2    AUDCAD.i       AUDCAD           Forex\n",
       "3  AUDCAD.ixp       AUDCAD           Forex\n",
       "4  AUDCAD.uk+       AUDCAD           Forex"
      ]
     },
     "execution_count": 63,
     "metadata": {},
     "output_type": "execute_result"
    }
   ],
   "source": [
    "df = pd.read_excel('symbols.xlsx')\n",
    "df.head()"
   ]
  },
  {
   "cell_type": "code",
   "execution_count": 64,
   "metadata": {},
   "outputs": [
    {
     "data": {
      "text/plain": [
       "array([nan, '.i', '.ixp', '.uk+', '+', '.uk', '-OIL+', '#', '-OIL#',\n",
       "       '.m#', '.m+', '.c', '&T', '.r', '.v', '-OIL', '-C', '-Cr', '.',\n",
       "       '.Inst', '.pr', '-OIL.pr', '.pro', '.fr', '-OIL.fr', '.pr+',\n",
       "       '-OIL.pr+', '.sp', '.m', '.a', '.s', '.e', '.y', '.r+', '.A',\n",
       "       '.crp', '-OIL.e', '-OIL.i', '-OIL.s', '.m.e', '.p', '-OIL.p',\n",
       "       '-Cs', '&T.m', '-ECN', '-STD', '-VIP', '.pr.m', '+.m', '.A.m',\n",
       "       '.r.m', '-OIL-ECN', '-OIL-STD', '-OIL-VIP', '-OIL.m', '-OIL.pr.m',\n",
       "       '-C.', '-C.m', '-Cr.m', '.crp.m', '-Cash', '.sc', '.b', '-OIL.',\n",
       "       '-C.i', '-Cb'], dtype=object)"
      ]
     },
     "execution_count": 64,
     "metadata": {},
     "output_type": "execute_result"
    }
   ],
   "source": [
    "df['feature'] = df['symbol'].str.extract(r\"([^A-Za-z0-9].*)\", expand = False)\n",
    "df['feature'].unique()"
   ]
  },
  {
   "cell_type": "code",
   "execution_count": 70,
   "metadata": {},
   "outputs": [
    {
     "data": {
      "text/plain": [
       "array([nan, '.i', '.ixp', '.uk+', '+', '.uk', '#', '.m#', '.m+', '.c', '',\n",
       "       '.r', '.v', '-C', '-Cr', '.', '.Inst', '.pr', '.pro', '.fr',\n",
       "       '.pr+', '.sp', '.m', '.a', '.s', '.e', '.y', '.r+', '.crp', '.m.e',\n",
       "       '.p', '-Cs', '-ECN', '-STD', '-VIP', '.pr.m', '+.m', '.r.m', '-C.',\n",
       "       '-C.m', '-Cr.m', '.crp.m', '-Cash', '.sc', '.b', '-C.i', '-Cb'],\n",
       "      dtype=object)"
      ]
     },
     "execution_count": 70,
     "metadata": {},
     "output_type": "execute_result"
    }
   ],
   "source": [
    "# replace(pat = r'\\\\', repl = '', regex = True)\n",
    "df['feature2'] = df['feature'].str.replace(r'.*-OIL|.*.A|.*&T', repl = '', regex = True)\n",
    "df['feature2'].unique()"
   ]
  },
  {
   "cell_type": "code",
   "execution_count": 82,
   "metadata": {},
   "outputs": [
    {
     "ename": "AttributeError",
     "evalue": "'StringMethods' object has no attribute 'removesuffix'",
     "output_type": "error",
     "traceback": [
      "\u001b[1;31m---------------------------------------------------------------------------\u001b[0m",
      "\u001b[1;31mAttributeError\u001b[0m                            Traceback (most recent call last)",
      "\u001b[1;32m<ipython-input-82-f95937aaa4d7>\u001b[0m in \u001b[0;36m<module>\u001b[1;34m\u001b[0m\n\u001b[0;32m      1\u001b[0m \u001b[1;31m# df['clean_symbol_regex'] = df.apply(lambda x: x.symbol)\u001b[0m\u001b[1;33m\u001b[0m\u001b[1;33m\u001b[0m\u001b[1;33m\u001b[0m\u001b[0m\n\u001b[0;32m      2\u001b[0m \u001b[1;31m# str.replace(df['feature2'], repl = '', regex = True)\u001b[0m\u001b[1;33m\u001b[0m\u001b[1;33m\u001b[0m\u001b[1;33m\u001b[0m\u001b[0m\n\u001b[1;32m----> 3\u001b[1;33m \u001b[0mdf\u001b[0m \u001b[1;33m=\u001b[0m \u001b[0mdf\u001b[0m\u001b[1;33m.\u001b[0m\u001b[0massign\u001b[0m\u001b[1;33m(\u001b[0m\u001b[0mclean_symbol_regex\u001b[0m \u001b[1;33m=\u001b[0m \u001b[1;32mlambda\u001b[0m \u001b[0mx\u001b[0m\u001b[1;33m:\u001b[0m \u001b[0mx\u001b[0m\u001b[1;33m[\u001b[0m\u001b[1;34m'symbol'\u001b[0m\u001b[1;33m]\u001b[0m\u001b[1;33m.\u001b[0m\u001b[0mstr\u001b[0m\u001b[1;33m.\u001b[0m\u001b[0mremovesuffix\u001b[0m\u001b[1;33m(\u001b[0m\u001b[1;34m'123'\u001b[0m\u001b[1;33m)\u001b[0m\u001b[1;33m)\u001b[0m\u001b[1;33m\u001b[0m\u001b[1;33m\u001b[0m\u001b[0m\n\u001b[0m",
      "\u001b[1;32m~\\Anaconda3\\lib\\site-packages\\pandas\\core\\frame.py\u001b[0m in \u001b[0;36massign\u001b[1;34m(self, **kwargs)\u001b[0m\n\u001b[0;32m   3828\u001b[0m \u001b[1;33m\u001b[0m\u001b[0m\n\u001b[0;32m   3829\u001b[0m         \u001b[1;32mfor\u001b[0m \u001b[0mk\u001b[0m\u001b[1;33m,\u001b[0m \u001b[0mv\u001b[0m \u001b[1;32min\u001b[0m \u001b[0mkwargs\u001b[0m\u001b[1;33m.\u001b[0m\u001b[0mitems\u001b[0m\u001b[1;33m(\u001b[0m\u001b[1;33m)\u001b[0m\u001b[1;33m:\u001b[0m\u001b[1;33m\u001b[0m\u001b[1;33m\u001b[0m\u001b[0m\n\u001b[1;32m-> 3830\u001b[1;33m             \u001b[0mdata\u001b[0m\u001b[1;33m[\u001b[0m\u001b[0mk\u001b[0m\u001b[1;33m]\u001b[0m \u001b[1;33m=\u001b[0m \u001b[0mcom\u001b[0m\u001b[1;33m.\u001b[0m\u001b[0mapply_if_callable\u001b[0m\u001b[1;33m(\u001b[0m\u001b[0mv\u001b[0m\u001b[1;33m,\u001b[0m \u001b[0mdata\u001b[0m\u001b[1;33m)\u001b[0m\u001b[1;33m\u001b[0m\u001b[1;33m\u001b[0m\u001b[0m\n\u001b[0m\u001b[0;32m   3831\u001b[0m         \u001b[1;32mreturn\u001b[0m \u001b[0mdata\u001b[0m\u001b[1;33m\u001b[0m\u001b[1;33m\u001b[0m\u001b[0m\n\u001b[0;32m   3832\u001b[0m \u001b[1;33m\u001b[0m\u001b[0m\n",
      "\u001b[1;32m~\\Anaconda3\\lib\\site-packages\\pandas\\core\\common.py\u001b[0m in \u001b[0;36mapply_if_callable\u001b[1;34m(maybe_callable, obj, **kwargs)\u001b[0m\n\u001b[0;32m    327\u001b[0m     \"\"\"\n\u001b[0;32m    328\u001b[0m     \u001b[1;32mif\u001b[0m \u001b[0mcallable\u001b[0m\u001b[1;33m(\u001b[0m\u001b[0mmaybe_callable\u001b[0m\u001b[1;33m)\u001b[0m\u001b[1;33m:\u001b[0m\u001b[1;33m\u001b[0m\u001b[1;33m\u001b[0m\u001b[0m\n\u001b[1;32m--> 329\u001b[1;33m         \u001b[1;32mreturn\u001b[0m \u001b[0mmaybe_callable\u001b[0m\u001b[1;33m(\u001b[0m\u001b[0mobj\u001b[0m\u001b[1;33m,\u001b[0m \u001b[1;33m**\u001b[0m\u001b[0mkwargs\u001b[0m\u001b[1;33m)\u001b[0m\u001b[1;33m\u001b[0m\u001b[1;33m\u001b[0m\u001b[0m\n\u001b[0m\u001b[0;32m    330\u001b[0m \u001b[1;33m\u001b[0m\u001b[0m\n\u001b[0;32m    331\u001b[0m     \u001b[1;32mreturn\u001b[0m \u001b[0mmaybe_callable\u001b[0m\u001b[1;33m\u001b[0m\u001b[1;33m\u001b[0m\u001b[0m\n",
      "\u001b[1;32m<ipython-input-82-f95937aaa4d7>\u001b[0m in \u001b[0;36m<lambda>\u001b[1;34m(x)\u001b[0m\n\u001b[0;32m      1\u001b[0m \u001b[1;31m# df['clean_symbol_regex'] = df.apply(lambda x: x.symbol)\u001b[0m\u001b[1;33m\u001b[0m\u001b[1;33m\u001b[0m\u001b[1;33m\u001b[0m\u001b[0m\n\u001b[0;32m      2\u001b[0m \u001b[1;31m# str.replace(df['feature2'], repl = '', regex = True)\u001b[0m\u001b[1;33m\u001b[0m\u001b[1;33m\u001b[0m\u001b[1;33m\u001b[0m\u001b[0m\n\u001b[1;32m----> 3\u001b[1;33m \u001b[0mdf\u001b[0m \u001b[1;33m=\u001b[0m \u001b[0mdf\u001b[0m\u001b[1;33m.\u001b[0m\u001b[0massign\u001b[0m\u001b[1;33m(\u001b[0m\u001b[0mclean_symbol_regex\u001b[0m \u001b[1;33m=\u001b[0m \u001b[1;32mlambda\u001b[0m \u001b[0mx\u001b[0m\u001b[1;33m:\u001b[0m \u001b[0mx\u001b[0m\u001b[1;33m[\u001b[0m\u001b[1;34m'symbol'\u001b[0m\u001b[1;33m]\u001b[0m\u001b[1;33m.\u001b[0m\u001b[0mstr\u001b[0m\u001b[1;33m.\u001b[0m\u001b[0mremovesuffix\u001b[0m\u001b[1;33m(\u001b[0m\u001b[1;34m'123'\u001b[0m\u001b[1;33m)\u001b[0m\u001b[1;33m)\u001b[0m\u001b[1;33m\u001b[0m\u001b[1;33m\u001b[0m\u001b[0m\n\u001b[0m",
      "\u001b[1;31mAttributeError\u001b[0m: 'StringMethods' object has no attribute 'removesuffix'"
     ]
    }
   ],
   "source": [
    "# df['clean_symbol_regex'] = df.apply(lambda x: x.symbol)\n",
    "# str.replace(df['feature2'], repl = '', regex = True)\n",
    "df = df.assign(clean_symbol_regex = lambda x: x['symbol'].str.removesuffix('123'))"
   ]
  }
 ],
 "metadata": {
  "interpreter": {
   "hash": "38d51dd8e8d25c2b4859ddf5fde4d8615b38902fd48d30a19bf46ddb81d406a6"
  },
  "kernelspec": {
   "display_name": "Python 3.9.12 64-bit (windows store)",
   "language": "python",
   "name": "python3"
  },
  "language_info": {
   "codemirror_mode": {
    "name": "ipython",
    "version": 3
   },
   "file_extension": ".py",
   "mimetype": "text/x-python",
   "name": "python",
   "nbconvert_exporter": "python",
   "pygments_lexer": "ipython3",
   "version": "3.8.8"
  },
  "orig_nbformat": 4
 },
 "nbformat": 4,
 "nbformat_minor": 2
}
