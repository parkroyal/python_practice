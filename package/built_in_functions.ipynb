{
 "cells": [
  {
   "cell_type": "code",
   "execution_count": 1,
   "metadata": {},
   "outputs": [
    {
     "data": {
      "text/plain": [
       "[1, 4, 9, 16, 25]"
      ]
     },
     "execution_count": 1,
     "metadata": {},
     "output_type": "execute_result"
    }
   ],
   "source": [
    "\"\"\"\n",
    "map() : 對一或多個iterable中的每個item call function 返回map object (iterator)\n",
    "map(function, iterable, ...)\n",
    "\"\"\"\n",
    "\n",
    "def square(x):  \n",
    "    return x ** 2\n",
    "\n",
    "map_obj = map(square, [1,2,3,4,5])\n",
    "map_obj\n",
    "list(map_obj)\n",
    "# 使用 lambda 匿名函数\n",
    "list(map(lambda x: x ** 2, [1, 2, 3, 4, 5]))   "
   ]
  },
  {
   "cell_type": "code",
   "execution_count": 7,
   "metadata": {},
   "outputs": [
    {
     "data": {
      "text/plain": [
       "True"
      ]
     },
     "execution_count": 7,
     "metadata": {},
     "output_type": "execute_result"
    }
   ],
   "source": [
    "\"\"\"\n",
    "all(): 判斷interable中所有item是否為True\n",
    "元素除了是 0、空、None、False 外都算 True。\n",
    "空元组、空列表返回值为True\n",
    "\"\"\"\n",
    "all([1, 0])\n",
    "all([])             # 空列表"
   ]
  },
  {
   "cell_type": "code",
   "execution_count": null,
   "metadata": {},
   "outputs": [],
   "source": []
  }
 ],
 "metadata": {
  "interpreter": {
   "hash": "5f292722d6d50c2426abae6fd15a85386b49c5393ec98f1c35f79e4e4dd7448b"
  },
  "kernelspec": {
   "display_name": "Python 3.6.5 64-bit ('base': conda)",
   "name": "python3"
  },
  "language_info": {
   "codemirror_mode": {
    "name": "ipython",
    "version": 3
   },
   "file_extension": ".py",
   "mimetype": "text/x-python",
   "name": "python",
   "nbconvert_exporter": "python",
   "pygments_lexer": "ipython3",
   "version": "3.6.5"
  },
  "orig_nbformat": 4
 },
 "nbformat": 4,
 "nbformat_minor": 2
}
