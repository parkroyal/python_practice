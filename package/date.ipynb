{
 "cells": [
  {
   "cell_type": "code",
   "execution_count": 20,
   "metadata": {},
   "outputs": [],
   "source": [
    "from datetime import date, timedelta\n",
    "from typing import List"
   ]
  },
  {
   "cell_type": "code",
   "execution_count": 58,
   "metadata": {},
   "outputs": [],
   "source": [
    "\n",
    "from datetime import date, timedelta\n",
    "from typing import List\n",
    "# 日期物件\n",
    "class Date:\n",
    "    def __init__(self, search_date:date = None) -> None:\n",
    "        # 最新營業日期\n",
    "        if search_date:\n",
    "            self.nowDate = search_date\n",
    "        else:\n",
    "            if date.today().isoweekday() == 1:\n",
    "                self.nowDate = date.today() - timedelta(days = 3)\n",
    "            elif date.today().isoweekday() == 7:\n",
    "                self.nowDate = date.today() - timedelta(days = 2)\n",
    "            else:\n",
    "                self.nowDate = date.today() - timedelta(days = 1)\n",
    "    def get_week_date(self, type = \"current_week\"):\n",
    "        if type == \"current_week\":\n",
    "            # 找禮拜一\n",
    "            start_date = self.nowDate\n",
    "            while start_date.isoweekday() != 1:\n",
    "                start_date -= timedelta(days=1)\n",
    "            end_date = start_date + timedelta(days=6)\n",
    "        else:\n",
    "            start_date = self.nowDate - timedelta(days=7)\n",
    "            while start_date.isoweekday() != 1:\n",
    "                start_date -= timedelta(days=1)\n",
    "            end_date = start_date + timedelta(days=6)\n",
    "        \n",
    "        return start_date, end_date\n",
    "    def get_month_date(self, type = \"current_month\"):\n",
    "        if type == \"current_month\":\n",
    "            end_day = self.nowDate.replace(month=self.nowDate.month + 1) - timedelta(days = 1)\n",
    "            start_day = self.nowDate.replace(day = 1)\n",
    "        else:\n",
    "            end_day = self.nowDate.replace(day = 1) - timedelta(days = 1)\n",
    "            start_day = end_day.replace(day = 1)\n",
    "        \n",
    "        return start_day, end_day\n",
    "\n"
   ]
  },
  {
   "cell_type": "code",
   "execution_count": 59,
   "metadata": {},
   "outputs": [
    {
     "name": "stdout",
     "output_type": "stream",
     "text": [
      "2022-01-21\n",
      "(datetime.date(2022, 1, 1), datetime.date(2022, 2, 20))\n",
      "(datetime.date(2021, 12, 1), datetime.date(2021, 12, 31))\n",
      "2022-01-01\n",
      "(datetime.date(2022, 1, 17), datetime.date(2022, 1, 23))\n",
      "(datetime.date(2022, 1, 10), datetime.date(2022, 1, 16))\n"
     ]
    }
   ],
   "source": [
    "test = Date()\n",
    "# print(test.nowDate)\n",
    "# test = Date(date(2022,1,1))\n",
    "print(test.nowDate)\n",
    "print(test.get_month_date())\n",
    "print(test.get_month_date(type = 'last'))\n",
    "start_date, end_date = test.get_month_date()\n",
    "print(start_date)\n",
    "start_date.isoweekday()\n",
    "print(test.get_week_date())\n",
    "print(test.get_week_date(type = 'last'))"
   ]
  },
  {
   "cell_type": "code",
   "execution_count": 22,
   "metadata": {},
   "outputs": [
    {
     "name": "stdout",
     "output_type": "stream",
     "text": [
      "False\n"
     ]
    },
    {
     "data": {
      "text/plain": [
       "False"
      ]
     },
     "execution_count": 22,
     "metadata": {},
     "output_type": "execute_result"
    }
   ],
   "source": [
    "test = None\n",
    "if test:\n",
    "    print('TRUE')\n",
    "else:\n",
    "    print('False')\n",
    "\n",
    "test == False"
   ]
  },
  {
   "cell_type": "code",
   "execution_count": 16,
   "metadata": {},
   "outputs": [],
   "source": [
    "test = Date()\n",
    "test.last_month_date()"
   ]
  },
  {
   "cell_type": "code",
   "execution_count": 9,
   "metadata": {},
   "outputs": [
    {
     "data": {
      "text/plain": [
       "5"
      ]
     },
     "execution_count": 9,
     "metadata": {},
     "output_type": "execute_result"
    }
   ],
   "source": [
    "date.today().weekday()"
   ]
  },
  {
   "cell_type": "code",
   "execution_count": null,
   "metadata": {},
   "outputs": [],
   "source": [
    "if date.today().weekday() == 0:\n",
    "    nowDate = date.today() - timedelta(days = 3)\n",
    "elif date.today().weekday() == 6:\n",
    "    nowDate = date.today() - timedelta(days = 2)\n",
    "else:\n",
    "    nowDate = date.today() - timedelta(days = 1)\n",
    "\n",
    "# 昨日日期\n",
    "if nowDate.weekday() == 0:\n",
    "    nowDate_lag = nowDate - timedelta(days = 3)\n",
    "elif nowDate.weekday() == 6:\n",
    "    nowDate_lag = date.today() - timedelta(days = 2)\n",
    "else:\n",
    "    nowDate_lag = nowDate - timedelta(days = 1)"
   ]
  }
 ],
 "metadata": {
  "interpreter": {
   "hash": "c9162ea8a9d6e8e3a66928e9474269864be0f2497c097c3cf841bb4177602c3e"
  },
  "kernelspec": {
   "display_name": "Python 3.9.7 64-bit ('base': conda)",
   "language": "python",
   "name": "python3"
  },
  "language_info": {
   "codemirror_mode": {
    "name": "ipython",
    "version": 3
   },
   "file_extension": ".py",
   "mimetype": "text/x-python",
   "name": "python",
   "nbconvert_exporter": "python",
   "pygments_lexer": "ipython3",
   "version": "3.9.7"
  },
  "orig_nbformat": 4
 },
 "nbformat": 4,
 "nbformat_minor": 2
}
