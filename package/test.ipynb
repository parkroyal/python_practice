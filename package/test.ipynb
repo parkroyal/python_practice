{
 "cells": [
  {
   "cell_type": "code",
   "execution_count": 1,
   "metadata": {},
   "outputs": [],
   "source": [
    "from utils import Date"
   ]
  },
  {
   "cell_type": "code",
   "execution_count": 2,
   "metadata": {},
   "outputs": [
    {
     "data": {
      "text/plain": [
       "(datetime.date(2022, 1, 17), datetime.date(2022, 1, 23))"
      ]
     },
     "execution_count": 2,
     "metadata": {},
     "output_type": "execute_result"
    }
   ],
   "source": [
    "test = Date()\n",
    "test.nowDate\n",
    "test.get_week_date()"
   ]
  },
  {
   "cell_type": "markdown",
   "metadata": {},
   "source": [
    "Logging 測試"
   ]
  },
  {
   "cell_type": "code",
   "execution_count": 8,
   "metadata": {},
   "outputs": [],
   "source": [
    "import datetime\n",
    "import logging\n",
    "logging.debug(msg=f'{datetime.date.today()}')\n",
    "\n",
    "# log_filename = datetime.datetime.now().strftime(\"log/tk%Y-%m-%d_%H_%M_%S.log\")\n",
    "# logging.basicConfig(level=logging.DEBUG,\n",
    "#             format='%(asctime)s %(name)-12s %(levelname)-8s %(message)s',\n",
    "#             datefmt='%m-%d %H:%M:%S',\n",
    "#             filename=log_filename)\n",
    "# # 定義 handler 輸出 sys.stderr\n",
    "# console = logging.StreamHandler()\n",
    "# console.setLevel(logging.INFO)\n",
    "# # 設定輸出格式\n",
    "# formatter = logging.Formatter('%(name)-12s: %(levelname)-8s %(message)s')\n",
    "# # handler 設定輸出格式\n",
    "# console.setFormatter(formatter)\n",
    "# # 加入 hander 到 root logger\n",
    "# logging.getLogger('').addHandler(console)"
   ]
  },
  {
   "cell_type": "code",
   "execution_count": 9,
   "metadata": {},
   "outputs": [
    {
     "name": "stderr",
     "output_type": "stream",
     "text": [
      "WARNING:root:2022-01-22\n"
     ]
    }
   ],
   "source": [
    "logging.basicConfig(filename=\"TEST.log\", level=logging.DEBUG)\n",
    "logging.warning(msg=f'{datetime.date.today()}')\n",
    "# logging.debug(msg=f'1')"
   ]
  },
  {
   "cell_type": "code",
   "execution_count": null,
   "metadata": {},
   "outputs": [],
   "source": []
  }
 ],
 "metadata": {
  "interpreter": {
   "hash": "c9162ea8a9d6e8e3a66928e9474269864be0f2497c097c3cf841bb4177602c3e"
  },
  "kernelspec": {
   "display_name": "Python 3.9.7 64-bit ('base': conda)",
   "language": "python",
   "name": "python3"
  },
  "language_info": {
   "codemirror_mode": {
    "name": "ipython",
    "version": 3
   },
   "file_extension": ".py",
   "mimetype": "text/x-python",
   "name": "python",
   "nbconvert_exporter": "python",
   "pygments_lexer": "ipython3",
   "version": "3.9.7"
  },
  "orig_nbformat": 4
 },
 "nbformat": 4,
 "nbformat_minor": 2
}
