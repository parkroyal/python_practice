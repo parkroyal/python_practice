{
 "cells": [
  {
   "cell_type": "code",
   "execution_count": 7,
   "metadata": {},
   "outputs": [
    {
     "ename": "IndentationError",
     "evalue": "expected an indented block after 'for' statement on line 29 (Temp/ipykernel_13884/1365493920.py, line 30)",
     "output_type": "error",
     "traceback": [
      "\u001b[1;36m  File \u001b[1;32m\"C:\\Users\\powensu\\AppData\\Local\\Temp/ipykernel_13884/1365493920.py\"\u001b[1;36m, line \u001b[1;32m30\u001b[0m\n\u001b[1;33m    print([row[i] for row in matrix])\u001b[0m\n\u001b[1;37m    ^\u001b[0m\n\u001b[1;31mIndentationError\u001b[0m\u001b[1;31m:\u001b[0m expected an indented block after 'for' statement on line 29\n"
     ]
    }
   ],
   "source": [
    "# List Comprehensions\n",
    "# map(function, iterable, ...)\n",
    "squares = list(map(lambda x: x**2, range(1,10)))\n",
    "def square(x):\n",
    "    return(x**2)\n",
    "squares2 = list(map(square, range(1,10)))    \n",
    "# A list comprehension consists of brackets containing an expression followed by a for clause, then zero or more for or if clauses.\n",
    "[(x, y) for x in [1,2,3] for y in [3,1,4] if x != y]\n",
    "# call a method on each element\n",
    "freshfruit = ['  banana', '  loganberry ', 'passion fruit  ']\n",
    "[x.strip().upper() for x in freshfruit]\n",
    "# create a list of 2-tuples like (number, square)\n",
    "# the tuple must be parenthesized, otherwise an error is raised\n",
    "[(x, x**2) for x in range(6)]\n",
    "\"\"\"\n",
    "\n",
    "\"\"\"\n",
    "matrix = [\n",
    "[1, 2, 3, 4],\n",
    "[5, 6, 7, 8],\n",
    "[9, 10, 11, 12],\n",
    "]\n",
    "# The following list comprehension will transpose rows and columns:\n",
    "# [row for row in matrix]\n",
    "# matrix[0]\n",
    "[[row[i] for row in matrix] for i in range(4)]\n",
    "\n",
    "transposed = []\n",
    "# for i in range(4):\n",
    "#   print([row[i] for row in matrix])\n",
    "#   transposed.append([row[i] for row in matrix])\n",
    "list(zip(*matrix))"
   ]
  },
  {
   "cell_type": "code",
   "execution_count": 4,
   "metadata": {},
   "outputs": [
    {
     "data": {
      "text/plain": [
       "[('a', 1), ('b', 2), ('c', 3)]"
      ]
     },
     "execution_count": 4,
     "metadata": {},
     "output_type": "execute_result"
    }
   ],
   "source": [
    "\"\"\"\n",
    "zip function\n",
    "Iterate over several iterables in parallel, producing tuples with an item from each one.\n",
    "zip() is that it turns rows into columns, and columns into rows. This is similar to transposing a matrix.\n",
    "The elements won’t be processed until the iterable is iterated on, e.g. by a for loop or by wrapping in a list.\n",
    "\"\"\"\n",
    "# for item in zip([1, 2, 3], ['sugar', 'spice', 'everything nice']):\n",
    "#     print(item)\n",
    "\n",
    "a = list(zip(([1,2,3], ['sugar', 'spice', 'else'])))   # wrap\n",
    "b = zip(([1,2,3], ['sugar', 'spice', 'else']))         # not processed\n",
    "c = [zip(([1,2,3], ['sugar', 'spice', 'else']))]         # not processed\n",
    "\n",
    "# 預設執行到最短長度的iterable\n",
    "list(zip('abcd', '123'))\n",
    "# \n",
    "list(zip(('a', 'b', 'c'), (1, 2, 3), strict=True))\n"
   ]
  },
  {
   "cell_type": "code",
   "execution_count": null,
   "metadata": {},
   "outputs": [],
   "source": [
    "# two sum \n",
    "class Solution:\n",
    "   def twoSum(self, nums: list, target: int) -> list:\n",
    "       seen = {}\n",
    "       for i, value in enumerate(nums): #1\n",
    "           remaining = target - nums[i] #2\n",
    "           \n",
    "           if remaining in seen: #3\n",
    "               return [i, seen[remaining]]  #4\n",
    "           else:\n",
    "               seen[value] = i  #5\n",
    "\n",
    "test = Solution()\n",
    "test.twoSum([2,7,11,19], 18)\n",
    "\n",
    "\n",
    "class Solution:\n",
    "    def twoSum(self, numbers: list, target: int) -> list:\n",
    "        \n",
    "        seen = {}\n",
    "        for i, value in enumerate(numbers): \n",
    "            remaining = target - numbers[i] \n",
    "           \n",
    "            if remaining in seen: \n",
    "                return [seen[remaining]+1, i+1]  #4\n",
    "            else:\n",
    "                seen[value] = i  \n",
    "\n",
    "test = Solution()\n",
    "test.twoSum([2,7,11,19], 18)\n"
   ]
  }
 ],
 "metadata": {
  "interpreter": {
   "hash": "5c17a50bfdc5fce5d9105bafc0dc25526516d57c1a9209ac38152154287cc86a"
  },
  "kernelspec": {
   "display_name": "Python 3.10.0 64-bit",
   "name": "python3"
  },
  "language_info": {
   "codemirror_mode": {
    "name": "ipython",
    "version": 3
   },
   "file_extension": ".py",
   "mimetype": "text/x-python",
   "name": "python",
   "nbconvert_exporter": "python",
   "pygments_lexer": "ipython3",
   "version": "3.10.0"
  },
  "orig_nbformat": 4
 },
 "nbformat": 4,
 "nbformat_minor": 2
}
