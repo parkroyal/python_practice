{
 "cells": [
  {
   "cell_type": "code",
   "execution_count": 25,
   "metadata": {},
   "outputs": [
    {
     "name": "stdout",
     "output_type": "stream",
     "text": [
      "[1, 2, 3, 4]\n",
      "[1, 5, 9]\n",
      "[5, 6, 7, 8]\n",
      "[2, 6, 10]\n",
      "[9, 10, 11, 12]\n",
      "[3, 7, 11]\n"
     ]
    },
    {
     "ename": "IndexError",
     "evalue": "list index out of range",
     "output_type": "error",
     "traceback": [
      "\u001b[1;31m---------------------------------------------------------------------------\u001b[0m",
      "\u001b[1;31mIndexError\u001b[0m                                Traceback (most recent call last)",
      "\u001b[1;32m<ipython-input-25-bfa458e4426c>\u001b[0m in \u001b[0;36m<module>\u001b[1;34m\u001b[0m\n\u001b[0;32m     27\u001b[0m \u001b[0mtransposed\u001b[0m \u001b[1;33m=\u001b[0m \u001b[1;33m[\u001b[0m\u001b[1;33m]\u001b[0m\u001b[1;33m\u001b[0m\u001b[1;33m\u001b[0m\u001b[0m\n\u001b[0;32m     28\u001b[0m \u001b[1;32mfor\u001b[0m \u001b[0mi\u001b[0m \u001b[1;32min\u001b[0m \u001b[0mrange\u001b[0m\u001b[1;33m(\u001b[0m\u001b[1;36m4\u001b[0m\u001b[1;33m)\u001b[0m\u001b[1;33m:\u001b[0m\u001b[1;33m\u001b[0m\u001b[1;33m\u001b[0m\u001b[0m\n\u001b[1;32m---> 29\u001b[1;33m     \u001b[0mprint\u001b[0m\u001b[1;33m(\u001b[0m\u001b[0mmatrix\u001b[0m\u001b[1;33m[\u001b[0m\u001b[0mi\u001b[0m\u001b[1;33m]\u001b[0m\u001b[1;33m)\u001b[0m\u001b[1;33m\u001b[0m\u001b[1;33m\u001b[0m\u001b[0m\n\u001b[0m\u001b[0;32m     30\u001b[0m     \u001b[0mprint\u001b[0m\u001b[1;33m(\u001b[0m\u001b[1;33m[\u001b[0m\u001b[0mrow\u001b[0m\u001b[1;33m[\u001b[0m\u001b[0mi\u001b[0m\u001b[1;33m]\u001b[0m \u001b[1;32mfor\u001b[0m \u001b[0mrow\u001b[0m \u001b[1;32min\u001b[0m \u001b[0mmatrix\u001b[0m\u001b[1;33m]\u001b[0m\u001b[1;33m)\u001b[0m\u001b[1;33m\u001b[0m\u001b[1;33m\u001b[0m\u001b[0m\n\u001b[0;32m     31\u001b[0m     \u001b[0mtransposed\u001b[0m\u001b[1;33m.\u001b[0m\u001b[0mappend\u001b[0m\u001b[1;33m(\u001b[0m\u001b[1;33m[\u001b[0m\u001b[0mrow\u001b[0m\u001b[1;33m[\u001b[0m\u001b[0mi\u001b[0m\u001b[1;33m]\u001b[0m \u001b[1;32mfor\u001b[0m \u001b[0mrow\u001b[0m \u001b[1;32min\u001b[0m \u001b[0mmatrix\u001b[0m\u001b[1;33m]\u001b[0m\u001b[1;33m)\u001b[0m\u001b[1;33m\u001b[0m\u001b[1;33m\u001b[0m\u001b[0m\n",
      "\u001b[1;31mIndexError\u001b[0m: list index out of range"
     ]
    }
   ],
   "source": [
    "# List Comprehensions\n",
    "# map(function, iterable, ...)\n",
    "squares = list(map(lambda x: x**2, range(1,10)))\n",
    "def square(x):\n",
    "    return(x**2)\n",
    "squares2 = list(map(square, range(1,10)))    \n",
    "# A list comprehension consists of brackets containing an expression followed by a for clause, then zero or more for or if clauses.\n",
    "[(x, y) for x in [1,2,3] for y in [3,1,4] if x != y]\n",
    "# call a method on each element\n",
    "freshfruit = ['  banana', '  loganberry ', 'passion fruit  ']\n",
    "[x.strip().upper() for x in freshfruit]\n",
    "# create a list of 2-tuples like (number, square)\n",
    "# the tuple must be parenthesized, otherwise an error is raised\n",
    "[(x, x**2) for x in range(6)]\n",
    "\"\"\"\n",
    "\n",
    "\"\"\"\n",
    "matrix = [\n",
    "[1, 2, 3, 4],\n",
    "[5, 6, 7, 8],\n",
    "[9, 10, 11, 12],\n",
    "]\n",
    "# The following list comprehension will transpose rows and columns:\n",
    "# [row for row in matrix]\n",
    "# matrix[0]\n",
    "# [[row[i] for row in matrix] for i in range(4)]\n",
    "transposed = []\n",
    "for i in range(4):\n",
    "    print([row[i] for row in matrix])\n",
    "    transposed.append([row[i] for row in matrix])\n"
   ]
  },
  {
   "cell_type": "code",
   "execution_count": null,
   "metadata": {},
   "outputs": [],
   "source": [
    "# two sum \n",
    "class Solution:\n",
    "   def twoSum(self, nums: list, target: int) -> list:\n",
    "       seen = {}\n",
    "       for i, value in enumerate(nums): #1\n",
    "           remaining = target - nums[i] #2\n",
    "           \n",
    "           if remaining in seen: #3\n",
    "               return [i, seen[remaining]]  #4\n",
    "           else:\n",
    "               seen[value] = i  #5\n",
    "\n",
    "test = Solution()\n",
    "test.twoSum([2,7,11,19], 18)\n",
    "\n",
    "\n",
    "class Solution:\n",
    "    def twoSum(self, numbers: list, target: int) -> list:\n",
    "        \n",
    "        seen = {}\n",
    "        for i, value in enumerate(numbers): \n",
    "            remaining = target - numbers[i] \n",
    "           \n",
    "            if remaining in seen: \n",
    "                return [seen[remaining]+1, i+1]  #4\n",
    "            else:\n",
    "                seen[value] = i  \n",
    "\n",
    "test = Solution()\n",
    "test.twoSum([2,7,11,19], 18)\n"
   ]
  }
 ],
 "metadata": {
  "interpreter": {
   "hash": "c9162ea8a9d6e8e3a66928e9474269864be0f2497c097c3cf841bb4177602c3e"
  },
  "kernelspec": {
   "display_name": "Python 3.7.4 64-bit ('base': conda)",
   "name": "python3"
  },
  "language_info": {
   "codemirror_mode": {
    "name": "ipython",
    "version": 3
   },
   "file_extension": ".py",
   "mimetype": "text/x-python",
   "name": "python",
   "nbconvert_exporter": "python",
   "pygments_lexer": "ipython3",
   "version": "3.7.4"
  },
  "orig_nbformat": 4
 },
 "nbformat": 4,
 "nbformat_minor": 2
}
