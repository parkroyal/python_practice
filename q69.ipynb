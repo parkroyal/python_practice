{
 "cells": [
  {
   "cell_type": "code",
   "execution_count": 1,
   "metadata": {},
   "outputs": [],
   "source": [
    "# # Sqrt(x)\n",
    "# Given a non-negative integer x, compute and return the square root of x.\n",
    "\n",
    "# Since the return type is an integer, the decimal digits are truncated, and only the integer part of the result is returned.\n",
    "\n",
    "# Note: You are not allowed to use any built-in exponent function or operator, such as pow(x, 0.5) or x ** 0.5"
   ]
  },
  {
   "cell_type": "code",
   "execution_count": 2,
   "metadata": {},
   "outputs": [],
   "source": [
    "# Input: x = 4\n",
    "# Output: 2\n",
    "\n",
    "# Input: x = 8\n",
    "# Output: 2"
   ]
  },
  {
   "cell_type": "code",
   "execution_count": 4,
   "metadata": {},
   "outputs": [
    {
     "name": "stdout",
     "output_type": "stream",
     "text": [
      "2025\n",
      "484\n",
      "121\n",
      "25\n",
      "64\n",
      "100\n",
      "81\n"
     ]
    },
    {
     "data": {
      "text/plain": [
       "9"
      ]
     },
     "execution_count": 4,
     "metadata": {},
     "output_type": "execute_result"
    }
   ],
   "source": [
    "class Solution:\n",
    "    def mySqrt(self, x: int) -> int:\n",
    "        # binary search\n",
    "        left = 0 \n",
    "        right = x+1\n",
    "        while left < right:\n",
    "            mid = left + (right - left) // 2\n",
    "            print(mid **2 )\n",
    "            if mid**2 > x:\n",
    "                right = mid\n",
    "            else:\n",
    "                left = mid + 1\n",
    "        return left-1\n",
    "test = Solution()\n",
    "test.mySqrt(90)"
   ]
  }
 ],
 "metadata": {
  "interpreter": {
   "hash": "5f292722d6d50c2426abae6fd15a85386b49c5393ec98f1c35f79e4e4dd7448b"
  },
  "kernelspec": {
   "display_name": "Python 3.8.8 64-bit ('base': conda)",
   "language": "python",
   "name": "python3"
  },
  "language_info": {
   "codemirror_mode": {
    "name": "ipython",
    "version": 3
   },
   "file_extension": ".py",
   "mimetype": "text/x-python",
   "name": "python",
   "nbconvert_exporter": "python",
   "pygments_lexer": "ipython3",
   "version": "3.8.8"
  },
  "orig_nbformat": 4
 },
 "nbformat": 4,
 "nbformat_minor": 2
}
