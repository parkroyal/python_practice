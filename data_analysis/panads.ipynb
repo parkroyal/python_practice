{
 "cells": [
  {
   "cell_type": "code",
   "execution_count": 28,
   "metadata": {},
   "outputs": [],
   "source": [
    "import pandas as pd\n",
    "import numpy as np"
   ]
  },
  {
   "cell_type": "code",
   "execution_count": 29,
   "metadata": {},
   "outputs": [
    {
     "data": {
      "text/plain": [
       "Index(['A', 'B', 'F', 'D'], dtype='object')"
      ]
     },
     "execution_count": 29,
     "metadata": {},
     "output_type": "execute_result"
    }
   ],
   "source": [
    "df = pd.util.testing.makeDataFrame()\n",
    "df1 = pd.DataFrame(np.random())\n",
    "df2 = pd.util.testing.makeDataFrame()\n",
    "df2 = df2.rename(columns={'C' : \"F\"})\n",
    "df2.columns"
   ]
  },
  {
   "cell_type": "code",
   "execution_count": 31,
   "metadata": {},
   "outputs": [
    {
     "data": {
      "text/html": [
       "<div>\n",
       "<style scoped>\n",
       "    .dataframe tbody tr th:only-of-type {\n",
       "        vertical-align: middle;\n",
       "    }\n",
       "\n",
       "    .dataframe tbody tr th {\n",
       "        vertical-align: top;\n",
       "    }\n",
       "\n",
       "    .dataframe thead th {\n",
       "        text-align: right;\n",
       "    }\n",
       "</style>\n",
       "<table border=\"1\" class=\"dataframe\">\n",
       "  <thead>\n",
       "    <tr style=\"text-align: right;\">\n",
       "      <th></th>\n",
       "      <th>A</th>\n",
       "      <th>B</th>\n",
       "    </tr>\n",
       "  </thead>\n",
       "  <tbody>\n",
       "    <tr>\n",
       "      <th>BFL72J3Pkg</th>\n",
       "      <td>1.308266</td>\n",
       "      <td>0.778900</td>\n",
       "    </tr>\n",
       "    <tr>\n",
       "      <th>cLzCCihAgQ</th>\n",
       "      <td>2.464598</td>\n",
       "      <td>-0.702319</td>\n",
       "    </tr>\n",
       "    <tr>\n",
       "      <th>hx9ZyCww2V</th>\n",
       "      <td>1.296576</td>\n",
       "      <td>0.327940</td>\n",
       "    </tr>\n",
       "    <tr>\n",
       "      <th>Hj27Z6vvfj</th>\n",
       "      <td>1.821580</td>\n",
       "      <td>1.635463</td>\n",
       "    </tr>\n",
       "  </tbody>\n",
       "</table>\n",
       "</div>"
      ],
      "text/plain": [
       "                   A         B\n",
       "BFL72J3Pkg  1.308266  0.778900\n",
       "cLzCCihAgQ  2.464598 -0.702319\n",
       "hx9ZyCww2V  1.296576  0.327940\n",
       "Hj27Z6vvfj  1.821580  1.635463"
      ]
     },
     "execution_count": 31,
     "metadata": {},
     "output_type": "execute_result"
    }
   ],
   "source": [
    "df.iloc[5:10, [0,1]]  # 不包含末端\n",
    "# df.loc[\"P7nhGaeqzg\": \"yORQMYx1Gm\", ['A', 'B']] # 包含末端\n",
    "df.iloc[:, [0,1]][df['A'] > 1]\n",
    "pd.DataFrame()\n"
   ]
  },
  {
   "cell_type": "code",
   "execution_count": null,
   "metadata": {},
   "outputs": [],
   "source": [
    " "
   ]
  }
 ],
 "metadata": {
  "interpreter": {
   "hash": "5f292722d6d50c2426abae6fd15a85386b49c5393ec98f1c35f79e4e4dd7448b"
  },
  "kernelspec": {
   "display_name": "Python 3.6.5 64-bit ('base': conda)",
   "name": "python3"
  },
  "language_info": {
   "codemirror_mode": {
    "name": "ipython",
    "version": 3
   },
   "file_extension": ".py",
   "mimetype": "text/x-python",
   "name": "python",
   "nbconvert_exporter": "python",
   "pygments_lexer": "ipython3",
   "version": "3.6.5"
  },
  "orig_nbformat": 4
 },
 "nbformat": 4,
 "nbformat_minor": 2
}
