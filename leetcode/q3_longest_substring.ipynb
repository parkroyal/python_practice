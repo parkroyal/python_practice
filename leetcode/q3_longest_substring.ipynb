{
 "cells": [
  {
   "cell_type": "code",
   "execution_count": 5,
   "metadata": {},
   "outputs": [
    {
     "name": "stdout",
     "output_type": "stream",
     "text": [
      "right : 0, longest : 1, seen: {'a': 0}, left : 0\n",
      "right : 1, longest : 2, seen: {'a': 0, 'b': 1}, left : 0\n",
      "right : 2, longest : 3, seen: {'a': 0, 'b': 1, 'c': 2}, left : 0\n",
      "right : 3, longest : 3, seen: {'a': 3, 'b': 1, 'c': 2}, left : 1\n"
     ]
    },
    {
     "data": {
      "text/plain": [
       "3"
      ]
     },
     "execution_count": 5,
     "metadata": {},
     "output_type": "execute_result"
    }
   ],
   "source": [
    "def lengthOfLongestSubstring(s):\n",
    "    \"\"\"\n",
    "    :type s: str\n",
    "    :rtype: int \n",
    "    \"\"\"\n",
    "    if len(s) == 0:\n",
    "        return 0\n",
    "    seen = {}\n",
    "    left, right = 0, 0\n",
    "    longest = 1\n",
    "    while right < len(s):\n",
    "        if s[right] in seen:\n",
    "            left = seen[s[right]]+1\n",
    "        test = right - left + 1\n",
    "        longest = max(longest, right - left + 1)\n",
    "        seen[s[right]] = right\n",
    "        print(f'right : {right}, longest : {longest}, seen: {seen}, left : {left}')\n",
    "        right += 1\n",
    "    return longest\n",
    "\n",
    "\n",
    "lengthOfLongestSubstring(list('abca'))"
   ]
  },
  {
   "cell_type": "code",
   "execution_count": null,
   "metadata": {},
   "outputs": [],
   "source": [
    "def lengthOfLongestSubstring(s: str) -> int:\n",
    "    left = 0\n",
    "    longest = 0\n",
    "    hashSet = {}\n",
    "    if len(s) == 0:\n",
    "        return 0\n",
    "    for right in range(len(s)):\n",
    "        # 假如現在的字母有出現過 則左邊指針更新到最新的字母位置\n",
    "        if s[right] in hashSet:\n",
    "            left = max(hashSet[s[right]]+1, left)\n",
    "        # 儲存字母出現的位置\n",
    "        hashSet[s[right]] = right\n",
    "        # 計算現在長度\n",
    "        print(f's[right]: {s[right]}, hashSet: {hashSet}, left: {left}, right: {right}')\n",
    "        length = right - left + 1\n",
    "        # 跟先前最長長度比較\n",
    "        longest = max(longest, length)\n",
    "\n",
    "        # if s[index] in hashSet:\n",
    "    return longest\n",
    "        \n",
    "        \n",
    "\n",
    "s = \"abcaabbdcabcd\"\n",
    "s = \"abba\"\n",
    "# s = \"\"\n",
    "lengthOfLongestSubstring(s)"
   ]
  }
 ],
 "metadata": {
  "interpreter": {
   "hash": "38d51dd8e8d25c2b4859ddf5fde4d8615b38902fd48d30a19bf46ddb81d406a6"
  },
  "kernelspec": {
   "display_name": "Python 3.9.9 64-bit (windows store)",
   "language": "python",
   "name": "python3"
  },
  "language_info": {
   "codemirror_mode": {
    "name": "ipython",
    "version": 3
   },
   "file_extension": ".py",
   "mimetype": "text/x-python",
   "name": "python",
   "nbconvert_exporter": "python",
   "pygments_lexer": "ipython3",
   "version": "3.9.9"
  },
  "orig_nbformat": 4
 },
 "nbformat": 4,
 "nbformat_minor": 2
}
