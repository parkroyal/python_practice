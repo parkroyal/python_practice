{
 "cells": [
  {
   "cell_type": "code",
   "execution_count": 2,
   "metadata": {},
   "outputs": [],
   "source": [
    "# 34. Find First and Last Position of Element in Sorted Array\n",
    "\n",
    "# \"\"\"\n",
    "# Given an array of integers nums sorted in non-decreasing order, find the starting and ending position of a given target value.\n",
    "\n",
    "# If target is not found in the array, return [-1, -1].\n",
    "\n",
    "# You must write an algorithm with O(log n) runtime complexity.\n",
    "\n",
    "# Input: nums = [5,7,7,8,8,10], target = 8\n",
    "# Output: [3,4]\n",
    "\n",
    "# Input: nums = [], target = 0\n",
    "# Output: [-1,-1]\n",
    "# \"\"\""
   ]
  },
  {
   "cell_type": "code",
   "execution_count": 17,
   "metadata": {},
   "outputs": [
    {
     "name": "stdout",
     "output_type": "stream",
     "text": [
      "left:0\n",
      "left:4\n",
      "left:4\n"
     ]
    },
    {
     "data": {
      "text/plain": [
       "5"
      ]
     },
     "execution_count": 17,
     "metadata": {},
     "output_type": "execute_result"
    }
   ],
   "source": [
    "from typing import List\n",
    "\n",
    "class Solution:\n",
    "    def searchRange(self, nums: List[int], target: int) -> List[int]:\n",
    "        left = self.findStart(nums, target)\n",
    "        right = self.findEnd(nums, target)\n",
    "        if left == right:\n",
    "            return [-1, -1]\n",
    "        else:\n",
    "            return [left, right - 1]\n",
    "    def findStart(self, nums, target):\n",
    "        # 左邊二分\n",
    "        left, right = 0, len(nums)\n",
    "        # 一直二分 直到left >= right\n",
    "        while left < right:\n",
    "            mid = left + (right - left)//2\n",
    "            if nums[mid] < target:\n",
    "                left = mid + 1\n",
    "            else:\n",
    "                right = mid\n",
    "        return left\n",
    "    def findEnd(self, nums, target):\n",
    "        # 右邊二分\n",
    "        left, right = 0, len(nums)\n",
    "        # 一直二分 直到left >= right\n",
    "        # 要找到同數字最右邊的位置\n",
    "        while left < right:\n",
    "            mid = left + (right - left)//2\n",
    "            # print(f'left:{left}')\n",
    "            if nums[mid] <= target:\n",
    "                left = mid + 1\n",
    "            else:\n",
    "                right = mid\n",
    "        return left\n",
    "    \n",
    "\n",
    "obj = Solution()\n",
    "obj.findStart([5,7,7,8,8,10], 8)\n",
    "obj.findEnd([5,7,7,8,8,9,10], 8)\n",
    "# obj.searchRange([5,7,7,8,8,9,10], 8)"
   ]
  }
 ],
 "metadata": {
  "interpreter": {
   "hash": "c9162ea8a9d6e8e3a66928e9474269864be0f2497c097c3cf841bb4177602c3e"
  },
  "kernelspec": {
   "display_name": "Python 3.9.7 64-bit ('base': conda)",
   "language": "python",
   "name": "python3"
  },
  "language_info": {
   "codemirror_mode": {
    "name": "ipython",
    "version": 3
   },
   "file_extension": ".py",
   "mimetype": "text/x-python",
   "name": "python",
   "nbconvert_exporter": "python",
   "pygments_lexer": "ipython3",
   "version": "3.9.7"
  },
  "orig_nbformat": 4
 },
 "nbformat": 4,
 "nbformat_minor": 2
}
