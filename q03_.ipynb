{
 "cells": [
  {
   "cell_type": "code",
   "execution_count": 22,
   "metadata": {},
   "outputs": [
    {
     "name": "stdout",
     "output_type": "stream",
     "text": [
      "s[right]: a, hashSet: {'a': 0}, left: 0, right: 0\n",
      "s[right]: b, hashSet: {'a': 0, 'b': 1}, left: 0, right: 1\n",
      "s[right]: b, hashSet: {'a': 0, 'b': 2}, left: 2, right: 2\n",
      "s[right]: a, hashSet: {'a': 3, 'b': 2}, left: 1, right: 3\n",
      "s[right]: a, hashSet: {'a': 4, 'b': 2}, left: 4, right: 4\n",
      "s[right]: b, hashSet: {'a': 4, 'b': 5}, left: 3, right: 5\n",
      "s[right]: c, hashSet: {'a': 4, 'b': 5, 'c': 6}, left: 3, right: 6\n",
      "s[right]: d, hashSet: {'a': 4, 'b': 5, 'c': 6, 'd': 7}, left: 3, right: 7\n"
     ]
    },
    {
     "data": {
      "text/plain": [
       "5"
      ]
     },
     "execution_count": 22,
     "metadata": {},
     "output_type": "execute_result"
    }
   ],
   "source": [
    "def lengthOfLongestSubstring(s: str) -> int:\n",
    "    left = 0\n",
    "    longest = 0\n",
    "    hashSet = {}\n",
    "    if len(s) == 0:\n",
    "        return 0\n",
    "    for right in range(len(s)):\n",
    "        # 假如現在的字母有出現過 則左邊指針更新到最新的字母位置\n",
    "        if s[right] in hashSet:\n",
    "            left = hashSet[s[right]]+1\n",
    "        # 儲存字母出現的位置\n",
    "        hashSet[s[right]] = right\n",
    "        # 計算現在長度\n",
    "        print(f's[right]: {s[right]}, hashSet: {hashSet}, left: {left}, right: {right}')\n",
    "        length = right - left + 1\n",
    "        # 跟先前最長長度比較\n",
    "        longest = max(longest, length)\n",
    "\n",
    "        # if s[index] in hashSet:\n",
    "    return longest\n",
    "        \n",
    "        \n",
    "\n",
    "s = \"abcaabbdcabcd\"\n",
    "s = \"abbaabcd\"\n",
    "# s = \"\"\n",
    "lengthOfLongestSubstring(s)"
   ]
  },
  {
   "cell_type": "code",
   "execution_count": 8,
   "metadata": {},
   "outputs": [
    {
     "data": {
      "text/plain": [
       "range(0, 3)"
      ]
     },
     "execution_count": 8,
     "metadata": {},
     "output_type": "execute_result"
    }
   ],
   "source": [
    "s = \"123\"\n",
    "len(s) == 0\n",
    "range(len(s))"
   ]
  }
 ],
 "metadata": {
  "interpreter": {
   "hash": "c9162ea8a9d6e8e3a66928e9474269864be0f2497c097c3cf841bb4177602c3e"
  },
  "kernelspec": {
   "display_name": "Python 3.9.7 64-bit ('base': conda)",
   "language": "python",
   "name": "python3"
  },
  "language_info": {
   "codemirror_mode": {
    "name": "ipython",
    "version": 3
   },
   "file_extension": ".py",
   "mimetype": "text/x-python",
   "name": "python",
   "nbconvert_exporter": "python",
   "pygments_lexer": "ipython3",
   "version": "3.9.7"
  },
  "orig_nbformat": 4
 },
 "nbformat": 4,
 "nbformat_minor": 2
}
