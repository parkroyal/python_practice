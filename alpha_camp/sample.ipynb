{
  "cells": [
    {
      "cell_type": "markdown",
      "id": "ZLd6n-dV_CVk",
      "metadata": {
        "id": "ZLd6n-dV_CVk"
      },
      "source": [
        "# Sample Code"
      ]
    },
    {
      "cell_type": "markdown",
      "id": "xvrXKYBh_CVo",
      "metadata": {
        "id": "xvrXKYBh_CVo"
      },
      "source": [
        "## 基礎建設"
      ]
    },
    {
      "cell_type": "code",
      "execution_count": 1,
      "id": "E7uO3D6j_CVo",
      "metadata": {
        "id": "E7uO3D6j_CVo",
        "scrolled": true
      },
      "outputs": [],
      "source": [
        "import pandas as pd\n",
        "import gzip, json\n",
        "\n",
        "def parse(path):\n",
        "    g = gzip.open(path, 'rb')\n",
        "    for l in g:\n",
        "        yield json.loads(l)\n",
        "\n",
        "def getDF(path):\n",
        "    i = 0\n",
        "    df = {}\n",
        "    for d in parse(path):\n",
        "        df[i] = d\n",
        "        i += 1\n",
        "    return pd.DataFrame.from_dict(df, orient='index')"
      ]
    },
    {
      "cell_type": "markdown",
      "id": "tst2vwMI_CVq",
      "metadata": {
        "id": "tst2vwMI_CVq"
      },
      "source": [
        "## 載入資料"
      ]
    },
    {
      "cell_type": "code",
      "execution_count": 10,
      "id": "TZ83151K_CVr",
      "metadata": {
        "colab": {
          "base_uri": "https://localhost:8080/"
        },
        "id": "TZ83151K_CVr",
        "outputId": "9b50b36d-62f7-4d05-e46c-5fc8eadc3c07"
      },
      "outputs": [
        {
          "name": "stderr",
          "output_type": "stream",
          "text": [
            "'wget' ���O�����Υ~���R�O�B�i���檺�{���Χ妸�ɡC\n",
            "'wget' ���O�����Υ~���R�O�B�i���檺�{���Χ妸�ɡC\n"
          ]
        }
      ],
      "source": [
        "!wget http://deepyeti.ucsd.edu/jianmo/amazon/categoryFilesSmall/All_Beauty.csv\n",
        "!wget http://deepyeti.ucsd.edu/jianmo/amazon/metaFiles2/meta_All_Beauty.json.gz"
      ]
    },
    {
      "cell_type": "code",
      "execution_count": 2,
      "id": "3mULJ_mG_CVr",
      "metadata": {
        "id": "3mULJ_mG_CVr"
      },
      "outputs": [],
      "source": [
        "metadata = getDF('../content/meta_All_Beauty.json.gz')\n",
        "ratings = pd.read_csv('../content/All_Beauty.csv', names=['asin', 'reviewerID', 'overall', 'unixReviewTime'], header=None)"
      ]
    },
    {
      "cell_type": "code",
      "execution_count": 3,
      "id": "WyKxuvgd_CVs",
      "metadata": {
        "colab": {
          "base_uri": "https://localhost:8080/",
          "height": 997
        },
        "id": "WyKxuvgd_CVs",
        "outputId": "9c3060e1-5585-40b1-92f0-c91b10c0c85a"
      },
      "outputs": [
        {
          "data": {
            "text/html": [
              "<div>\n",
              "<style scoped>\n",
              "    .dataframe tbody tr th:only-of-type {\n",
              "        vertical-align: middle;\n",
              "    }\n",
              "\n",
              "    .dataframe tbody tr th {\n",
              "        vertical-align: top;\n",
              "    }\n",
              "\n",
              "    .dataframe thead th {\n",
              "        text-align: right;\n",
              "    }\n",
              "</style>\n",
              "<table border=\"1\" class=\"dataframe\">\n",
              "  <thead>\n",
              "    <tr style=\"text-align: right;\">\n",
              "      <th></th>\n",
              "      <th>category</th>\n",
              "      <th>tech1</th>\n",
              "      <th>description</th>\n",
              "      <th>fit</th>\n",
              "      <th>title</th>\n",
              "      <th>also_buy</th>\n",
              "      <th>tech2</th>\n",
              "      <th>brand</th>\n",
              "      <th>feature</th>\n",
              "      <th>rank</th>\n",
              "      <th>also_view</th>\n",
              "      <th>details</th>\n",
              "      <th>main_cat</th>\n",
              "      <th>similar_item</th>\n",
              "      <th>date</th>\n",
              "      <th>price</th>\n",
              "      <th>asin</th>\n",
              "      <th>imageURL</th>\n",
              "      <th>imageURLHighRes</th>\n",
              "    </tr>\n",
              "  </thead>\n",
              "  <tbody>\n",
              "    <tr>\n",
              "      <th>0</th>\n",
              "      <td>[]</td>\n",
              "      <td></td>\n",
              "      <td>[Loud 'N Clear Personal Sound Amplifier allows...</td>\n",
              "      <td></td>\n",
              "      <td>Loud 'N Clear&amp;trade; Personal Sound Amplifier</td>\n",
              "      <td>[]</td>\n",
              "      <td></td>\n",
              "      <td>idea village</td>\n",
              "      <td>[]</td>\n",
              "      <td>2,938,573 in Beauty &amp; Personal Care (</td>\n",
              "      <td>[]</td>\n",
              "      <td>{'ASIN: ': '6546546450'}</td>\n",
              "      <td>All Beauty</td>\n",
              "      <td></td>\n",
              "      <td></td>\n",
              "      <td></td>\n",
              "      <td>6546546450</td>\n",
              "      <td>[]</td>\n",
              "      <td>[]</td>\n",
              "    </tr>\n",
              "    <tr>\n",
              "      <th>1</th>\n",
              "      <td>[]</td>\n",
              "      <td></td>\n",
              "      <td>[No7 Lift &amp; Luminate Triple Action Serum 50ml ...</td>\n",
              "      <td></td>\n",
              "      <td>No7 Lift &amp;amp; Luminate Triple Action Serum 50...</td>\n",
              "      <td>[B01E7LCSL6, B008X5RVME]</td>\n",
              "      <td></td>\n",
              "      <td></td>\n",
              "      <td>[]</td>\n",
              "      <td>872,854 in Beauty &amp; Personal Care (</td>\n",
              "      <td>[]</td>\n",
              "      <td>{'Shipping Weight:': '0.3 ounces (', 'ASIN: ':...</td>\n",
              "      <td>All Beauty</td>\n",
              "      <td>class=\"a-bordered a-horizontal-stripes  a-spa...</td>\n",
              "      <td></td>\n",
              "      <td>$44.99</td>\n",
              "      <td>7178680776</td>\n",
              "      <td>[]</td>\n",
              "      <td>[]</td>\n",
              "    </tr>\n",
              "    <tr>\n",
              "      <th>2</th>\n",
              "      <td>[]</td>\n",
              "      <td></td>\n",
              "      <td>[No7 Stay Perfect Foundation now stays perfect...</td>\n",
              "      <td></td>\n",
              "      <td>No7 Stay Perfect Foundation Cool Vanilla by No7</td>\n",
              "      <td>[]</td>\n",
              "      <td></td>\n",
              "      <td>No7</td>\n",
              "      <td>[]</td>\n",
              "      <td>956,696 in Beauty &amp; Personal Care (</td>\n",
              "      <td>[B01B8BR0O8, B01B8BR0NO, B014MHXXM8]</td>\n",
              "      <td>{'Shipping Weight:': '3.5 ounces (', 'ASIN: ':...</td>\n",
              "      <td>All Beauty</td>\n",
              "      <td></td>\n",
              "      <td></td>\n",
              "      <td>$28.76</td>\n",
              "      <td>7250468162</td>\n",
              "      <td>[]</td>\n",
              "      <td>[]</td>\n",
              "    </tr>\n",
              "    <tr>\n",
              "      <th>3</th>\n",
              "      <td>[]</td>\n",
              "      <td></td>\n",
              "      <td>[]</td>\n",
              "      <td></td>\n",
              "      <td>Wella Koleston Perfect Hair Colour 44/44 Mediu...</td>\n",
              "      <td>[B0041PBXX8]</td>\n",
              "      <td></td>\n",
              "      <td></td>\n",
              "      <td>[]</td>\n",
              "      <td>1,870,258 in Beauty &amp; Personal Care (</td>\n",
              "      <td>[]</td>\n",
              "      <td>{'\n",
              "    Item Weight: \n",
              "    ': '1.76 ounces', 'Sh...</td>\n",
              "      <td>All Beauty</td>\n",
              "      <td></td>\n",
              "      <td></td>\n",
              "      <td></td>\n",
              "      <td>7367905066</td>\n",
              "      <td>[https://images-na.ssl-images-amazon.com/image...</td>\n",
              "      <td>[https://images-na.ssl-images-amazon.com/image...</td>\n",
              "    </tr>\n",
              "    <tr>\n",
              "      <th>4</th>\n",
              "      <td>[]</td>\n",
              "      <td></td>\n",
              "      <td>[Lacto Calamine Skin Balance Daily Nourishing ...</td>\n",
              "      <td></td>\n",
              "      <td>Lacto Calamine Skin Balance Oil control 120 ml...</td>\n",
              "      <td>[]</td>\n",
              "      <td></td>\n",
              "      <td>Pirmal Healthcare</td>\n",
              "      <td>[]</td>\n",
              "      <td>67,701 in Beauty &amp; Personal Care (</td>\n",
              "      <td>[3254895630, B007VL1D9S, B00EH9A0RI, B0773MBG4...</td>\n",
              "      <td>{'Shipping Weight:': '12 ounces (', 'ASIN: ': ...</td>\n",
              "      <td>All Beauty</td>\n",
              "      <td></td>\n",
              "      <td></td>\n",
              "      <td>$12.15</td>\n",
              "      <td>7414204790</td>\n",
              "      <td>[https://images-na.ssl-images-amazon.com/image...</td>\n",
              "      <td>[https://images-na.ssl-images-amazon.com/image...</td>\n",
              "    </tr>\n",
              "  </tbody>\n",
              "</table>\n",
              "</div>"
            ],
            "text/plain": [
              "  category tech1                                        description fit  \\\n",
              "0       []        [Loud 'N Clear Personal Sound Amplifier allows...       \n",
              "1       []        [No7 Lift & Luminate Triple Action Serum 50ml ...       \n",
              "2       []        [No7 Stay Perfect Foundation now stays perfect...       \n",
              "3       []                                                       []       \n",
              "4       []        [Lacto Calamine Skin Balance Daily Nourishing ...       \n",
              "\n",
              "                                               title  \\\n",
              "0      Loud 'N Clear&trade; Personal Sound Amplifier   \n",
              "1  No7 Lift &amp; Luminate Triple Action Serum 50...   \n",
              "2    No7 Stay Perfect Foundation Cool Vanilla by No7   \n",
              "3  Wella Koleston Perfect Hair Colour 44/44 Mediu...   \n",
              "4  Lacto Calamine Skin Balance Oil control 120 ml...   \n",
              "\n",
              "                   also_buy tech2              brand feature  \\\n",
              "0                        []             idea village      []   \n",
              "1  [B01E7LCSL6, B008X5RVME]                               []   \n",
              "2                        []                      No7      []   \n",
              "3              [B0041PBXX8]                               []   \n",
              "4                        []        Pirmal Healthcare      []   \n",
              "\n",
              "                                    rank  \\\n",
              "0  2,938,573 in Beauty & Personal Care (   \n",
              "1    872,854 in Beauty & Personal Care (   \n",
              "2    956,696 in Beauty & Personal Care (   \n",
              "3  1,870,258 in Beauty & Personal Care (   \n",
              "4     67,701 in Beauty & Personal Care (   \n",
              "\n",
              "                                           also_view  \\\n",
              "0                                                 []   \n",
              "1                                                 []   \n",
              "2               [B01B8BR0O8, B01B8BR0NO, B014MHXXM8]   \n",
              "3                                                 []   \n",
              "4  [3254895630, B007VL1D9S, B00EH9A0RI, B0773MBG4...   \n",
              "\n",
              "                                             details    main_cat  \\\n",
              "0                           {'ASIN: ': '6546546450'}  All Beauty   \n",
              "1  {'Shipping Weight:': '0.3 ounces (', 'ASIN: ':...  All Beauty   \n",
              "2  {'Shipping Weight:': '3.5 ounces (', 'ASIN: ':...  All Beauty   \n",
              "3  {'\n",
              "    Item Weight: \n",
              "    ': '1.76 ounces', 'Sh...  All Beauty   \n",
              "4  {'Shipping Weight:': '12 ounces (', 'ASIN: ': ...  All Beauty   \n",
              "\n",
              "                                        similar_item date   price        asin  \\\n",
              "0                                                                  6546546450   \n",
              "1   class=\"a-bordered a-horizontal-stripes  a-spa...       $44.99  7178680776   \n",
              "2                                                          $28.76  7250468162   \n",
              "3                                                                  7367905066   \n",
              "4                                                          $12.15  7414204790   \n",
              "\n",
              "                                            imageURL  \\\n",
              "0                                                 []   \n",
              "1                                                 []   \n",
              "2                                                 []   \n",
              "3  [https://images-na.ssl-images-amazon.com/image...   \n",
              "4  [https://images-na.ssl-images-amazon.com/image...   \n",
              "\n",
              "                                     imageURLHighRes  \n",
              "0                                                 []  \n",
              "1                                                 []  \n",
              "2                                                 []  \n",
              "3  [https://images-na.ssl-images-amazon.com/image...  \n",
              "4  [https://images-na.ssl-images-amazon.com/image...  "
            ]
          },
          "execution_count": 3,
          "metadata": {},
          "output_type": "execute_result"
        }
      ],
      "source": [
        "metadata.head()"
      ]
    },
    {
      "cell_type": "code",
      "execution_count": 4,
      "id": "E9uZOpT7_CVs",
      "metadata": {
        "colab": {
          "base_uri": "https://localhost:8080/",
          "height": 206
        },
        "id": "E9uZOpT7_CVs",
        "outputId": "3a4503c8-5040-4b08-e69e-deabaeadbe21"
      },
      "outputs": [
        {
          "data": {
            "text/html": [
              "<div>\n",
              "<style scoped>\n",
              "    .dataframe tbody tr th:only-of-type {\n",
              "        vertical-align: middle;\n",
              "    }\n",
              "\n",
              "    .dataframe tbody tr th {\n",
              "        vertical-align: top;\n",
              "    }\n",
              "\n",
              "    .dataframe thead th {\n",
              "        text-align: right;\n",
              "    }\n",
              "</style>\n",
              "<table border=\"1\" class=\"dataframe\">\n",
              "  <thead>\n",
              "    <tr style=\"text-align: right;\">\n",
              "      <th></th>\n",
              "      <th>asin</th>\n",
              "      <th>reviewerID</th>\n",
              "      <th>overall</th>\n",
              "      <th>unixReviewTime</th>\n",
              "    </tr>\n",
              "  </thead>\n",
              "  <tbody>\n",
              "    <tr>\n",
              "      <th>0</th>\n",
              "      <td>0143026860</td>\n",
              "      <td>A1V6B6TNIC10QE</td>\n",
              "      <td>1.0</td>\n",
              "      <td>1424304000</td>\n",
              "    </tr>\n",
              "    <tr>\n",
              "      <th>1</th>\n",
              "      <td>0143026860</td>\n",
              "      <td>A2F5GHSXFQ0W6J</td>\n",
              "      <td>4.0</td>\n",
              "      <td>1418860800</td>\n",
              "    </tr>\n",
              "    <tr>\n",
              "      <th>2</th>\n",
              "      <td>0143026860</td>\n",
              "      <td>A1572GUYS7DGSR</td>\n",
              "      <td>4.0</td>\n",
              "      <td>1407628800</td>\n",
              "    </tr>\n",
              "    <tr>\n",
              "      <th>3</th>\n",
              "      <td>0143026860</td>\n",
              "      <td>A1PSGLFK1NSVO</td>\n",
              "      <td>5.0</td>\n",
              "      <td>1362960000</td>\n",
              "    </tr>\n",
              "    <tr>\n",
              "      <th>4</th>\n",
              "      <td>0143026860</td>\n",
              "      <td>A6IKXKZMTKGSC</td>\n",
              "      <td>5.0</td>\n",
              "      <td>1324771200</td>\n",
              "    </tr>\n",
              "  </tbody>\n",
              "</table>\n",
              "</div>"
            ],
            "text/plain": [
              "         asin      reviewerID  overall  unixReviewTime\n",
              "0  0143026860  A1V6B6TNIC10QE      1.0      1424304000\n",
              "1  0143026860  A2F5GHSXFQ0W6J      4.0      1418860800\n",
              "2  0143026860  A1572GUYS7DGSR      4.0      1407628800\n",
              "3  0143026860   A1PSGLFK1NSVO      5.0      1362960000\n",
              "4  0143026860   A6IKXKZMTKGSC      5.0      1324771200"
            ]
          },
          "execution_count": 4,
          "metadata": {},
          "output_type": "execute_result"
        }
      ],
      "source": [
        "ratings.head()"
      ]
    },
    {
      "cell_type": "markdown",
      "id": "1jt4bk4z_CVt",
      "metadata": {
        "id": "1jt4bk4z_CVt"
      },
      "source": [
        "## 資料整理"
      ]
    },
    {
      "cell_type": "code",
      "execution_count": 5,
      "id": "_VEsxmFW_CVu",
      "metadata": {
        "id": "_VEsxmFW_CVu"
      },
      "outputs": [],
      "source": [
        "ratings['DATE'] = pd.to_datetime(ratings['unixReviewTime'], unit='s')"
      ]
    },
    {
      "cell_type": "markdown",
      "id": "8if7Mz1R_CVu",
      "metadata": {
        "id": "8if7Mz1R_CVu"
      },
      "source": [
        "## 資料切分"
      ]
    },
    {
      "cell_type": "code",
      "execution_count": 6,
      "id": "CBk3OCBP_CVu",
      "metadata": {
        "id": "CBk3OCBP_CVu"
      },
      "outputs": [],
      "source": [
        "ratings_trainings = ratings[\n",
        "    (ratings['DATE'] < '2018-09-01')\n",
        "]\n",
        "\n",
        "ratings_testings = ratings[\n",
        "    (ratings['DATE'] >= '2018-09-01') & \n",
        "    (ratings['DATE'] <= '2018-09-30')\n",
        "]\n",
        "\n",
        "\n",
        "ratings_testings_by_user = ratings_testings.groupby('reviewerID').agg(list).reset_index()[['reviewerID', 'asin']].to_dict('records')\n",
        "ratings_testings_by_user = { rating['reviewerID']: rating['asin'] for rating in ratings_testings_by_user }\n",
        "users = list(ratings_testings_by_user.keys())"
      ]
    },
    {
      "cell_type": "code",
      "execution_count": 7,
      "id": "ceede637",
      "metadata": {},
      "outputs": [],
      "source": [
        "metadata = metadata[['asin', 'also_buy', 'also_view']]\n",
        "k = 10\n",
        "# 先以Also_Buy 推薦 再以Also_Review推薦 若使用者為新客戶(先前無資料 則推薦最熱門的產品)\n",
        "# 針對metadata每個購買清單也會購買的產品排序\n",
        "# also_buy\n",
        "df_also_buy = metadata[['asin', 'also_buy']].apply(pd.Series.explode).reset_index(drop=True).dropna().value_counts().reset_index(name = 'also_buy_counts')\n",
        "# also_review\n",
        "df_also_view = metadata[['asin', 'also_view']].apply(pd.Series.explode).reset_index(drop=True).dropna().value_counts().reset_index(name = 'also_view_counts')\n",
        "# df = df_also_view.merge(df_also_buy, how = 'outer', on = 'asin')\n",
        "# training_data = ratings_trainings\n",
        "# training_data.loc[:,['reviewerID']].value_counts().reset_index(name = 'counts').sort_values('counts', ascending = False)\n",
        "# 前百大熱門產品\n",
        "popularity = ratings_trainings[\"asin\"].value_counts().index.to_list()[0:100]\n"
      ]
    },
    {
      "cell_type": "markdown",
      "id": "c8Q-oT55_CVw",
      "metadata": {
        "id": "c8Q-oT55_CVw"
      },
      "source": [
        "## 結果評估"
      ]
    },
    {
      "cell_type": "code",
      "execution_count": 9,
      "id": "XpMDYALD_CVw",
      "metadata": {
        "id": "XpMDYALD_CVw",
        "outputId": "0a050c27-e929-4601-fe97-9f129b0728b1"
      },
      "outputs": [],
      "source": [
        "def evaluate(ratings_testings_by_user={}, ratings_by_user={}, method=None):\n",
        "    '''\n",
        "    * ratings_testings_by_user: dict 真實被購買的商品資料（2018-09-01 以後資料）\n",
        "    * ratings_by_user: dict 利用訓練資料學習的推薦商品\n",
        "    * method: str\n",
        "    * score: float\n",
        "    '''\n",
        "    total = 0\n",
        "    for d in ratings_testings_by_user:\n",
        "        if d in ratings_by_user:\n",
        "            total += len(set(ratings_by_user[d]) & set(ratings_testings_by_user[d]))\n",
        "\n",
        "    score = total / len(ratings_testings)\n",
        "    return score\n"
      ]
    },
    {
      "cell_type": "markdown",
      "id": "cO_Ps3V2_CVv",
      "metadata": {
        "id": "cO_Ps3V2_CVv"
      },
      "source": [
        "## 產生推薦\n",
        "### 推薦系統1. 歷史購買次數Top K"
      ]
    },
    {
      "cell_type": "code",
      "execution_count": 8,
      "id": "2e9caa20",
      "metadata": {},
      "outputs": [],
      "source": [
        "def recommender_1(training_data, users=[], k=10):\n",
        "    '''\n",
        "    * training_data: dataframe 輸入的訓練資料集（2018-09-01 以前資料）\n",
        "    * users: [] 需要被推薦的使用者\n",
        "    * k: int 每個使用者需要推薦的商品數\n",
        "    * recommendations: dict\n",
        "      {\n",
        "          使用者一： [推薦商品一, 推薦商品二, ...],\n",
        "          使用者二： [...], ...\n",
        "      }\n",
        "    '''\n",
        "    recommendations = {}\n",
        "    popularity = training_data[\"asin\"].value_counts().index.to_list()[0:k]\n",
        "    for user in users:\n",
        "      # user_recommendations = list(set(user_recommendations))[0:k]\n",
        "      recommendations[user] = popularity\n",
        "    # popularity = training_data[\"asin\"].value_counts().index.to_list()[0:k]\n",
        "    # recommendations = {x: popularity for x in users}\n",
        "    \n",
        "    return recommendations"
      ]
    },
    {
      "cell_type": "markdown",
      "id": "e2c2f1f6",
      "metadata": {},
      "source": [
        "## 推薦系統測試2 熱門前百大產品 依序推薦"
      ]
    },
    {
      "cell_type": "code",
      "execution_count": 10,
      "id": "a9RuCG2K_CVv",
      "metadata": {
        "id": "a9RuCG2K_CVv",
        "outputId": "e11277fc-0327-49d4-efb1-49d1d3d56125"
      },
      "outputs": [],
      "source": [
        "def recommender_2(training_data, users=[], k=10):\n",
        "    '''\n",
        "    * training_data: dataframe 輸入的訓練資料集（2018-09-01 以前資料）\n",
        "    * users: [] 需要被推薦的使用者\n",
        "    * k: int 每個使用者需要推薦的商品數\n",
        "    * recommendations: dict\n",
        "      {\n",
        "          使用者一： [推薦商品一, 推薦商品二, ...],\n",
        "          使用者二： [...], ...\n",
        "      }\n",
        "    '''\n",
        "    recommendations = {}\n",
        "    # 前百大熱門產品\n",
        "    popularity = training_data[\"asin\"].value_counts().index.to_list()[0:100]\n",
        "    for user in users:\n",
        "        # print(user)\n",
        "        user_review = training_data[training_data['reviewerID'] == user]\n",
        "        user_review_rank = user_review.groupby(['asin']).agg({'overall': 'mean'}).reset_index().sort_values(['overall'], ascending = False)\n",
        "        # 1.篩選最喜好的產品top k \n",
        "        user_review_rank_max = user_review_rank[user_review_rank['overall'] >= user_review_rank.overall.max()]\n",
        "        # 判斷是否有在熱門清單裡面 並重新推薦給客戶\n",
        "        popularity_and_have_buy = [item for item in user_review_rank_max.asin if item in popularity][0:k]\n",
        "        # popularity user_review_rank.asin\n",
        "        # 2.篩選買過的產品 其他人 Also_buy 在熱門清單選項\n",
        "        also_buy = df_also_buy[df_also_buy.asin.isin(user_review_rank.asin)]\n",
        "        also_buy = [item for item in also_buy.also_buy if item in popularity]\n",
        "        # 3.篩選買過的產品 其他人 Also_view 在熱門清單選項\n",
        "        also_view = df_also_view[df_also_view.asin.isin(user_review_rank.asin)]\n",
        "        also_view = [item for item in also_view.also_view if item in popularity]\n",
        "        # 4.熱門產品補滿至Topk\n",
        "        user_recommendations = popularity_and_have_buy + also_buy + also_view #+ popularity\n",
        "        # user_recommendations = popularity\n",
        "        # user_recommendations = list(set(user_recommendations))[0:k]\n",
        "        # user_recommendations = user_recommendations\n",
        "        recommendations[user] = user_recommendations[0:k]\n",
        "    return recommendations"
      ]
    },
    {
      "cell_type": "markdown",
      "id": "9476ff61",
      "metadata": {},
      "source": [
        "### 推薦系統3 : 隨機推薦Also_buy/ Also_view"
      ]
    },
    {
      "cell_type": "code",
      "execution_count": 21,
      "id": "e3aee36f",
      "metadata": {},
      "outputs": [],
      "source": [
        "def recommender_3(training_data, users=[], k=10):\n",
        "    '''\n",
        "    * training_data: dataframe 輸入的訓練資料集（2018-09-01 以前資料）\n",
        "    * users: [] 需要被推薦的使用者\n",
        "    * k: int 每個使用者需要推薦的商品數\n",
        "    * recommendations: dict\n",
        "      {\n",
        "          使用者一： [推薦商品一, 推薦商品二, ...],\n",
        "          使用者二： [...], ...\n",
        "      }\n",
        "    '''\n",
        "    recommendations = {}\n",
        "    # 前百大熱門產品\n",
        "    popularity = training_data[\"asin\"].value_counts().index.to_list()[0:100]\n",
        "    for user in users:\n",
        "        # print(user)\n",
        "        user_review = training_data[training_data['reviewerID'] == user]\n",
        "        user_review_rank = user_review.groupby(['asin']).agg({'overall': 'mean'}).reset_index().sort_values(['overall'], ascending = False)\n",
        "        # 1.篩選最喜好的產品top k \n",
        "        user_review_rank_max = user_review_rank[user_review_rank['overall'] >= user_review_rank.overall.max()]\n",
        "        # 判斷是否有在熱門清單裡面 並重新推薦給客戶\n",
        "        popularity_and_have_buy = [item for item in user_review_rank_max.asin if item in popularity][0:k]\n",
        "        # popularity user_review_rank.asin\n",
        "        # 2.篩選其他人買過的產品 \n",
        "        also_buy = df_also_buy[df_also_buy.asin.isin(user_review_rank.asin)]\n",
        "        also_buy = [item for item in also_buy.also_buy]\n",
        "        # 3.篩選其他人看過的產品\n",
        "        also_view = df_also_view[df_also_view.asin.isin(user_review_rank.asin)]\n",
        "        also_view = [item for item in also_view.also_view]\n",
        "        # 4.熱門產品補滿至Topk\n",
        "        user_recommendations = popularity_and_have_buy + also_buy + also_view + popularity\n",
        "        recommendations[user] = user_recommendations[0:k]\n",
        "    return recommendations"
      ]
    },
    {
      "cell_type": "markdown",
      "id": "0b678218",
      "metadata": {},
      "source": [
        "### 推薦系統1 評分"
      ]
    },
    {
      "cell_type": "code",
      "execution_count": 12,
      "id": "e1764751",
      "metadata": {},
      "outputs": [
        {
          "name": "stdout",
          "output_type": "stream",
          "text": [
            "Method1 Score: 0.08305084745762711\n"
          ]
        }
      ],
      "source": [
        "ratings_by_user_1 = recommender_1(ratings_trainings, users)\n",
        "method_1 = evaluate(ratings_testings_by_user, ratings_by_user_1)\n",
        "print(f'Method1 Score: {method_1}')"
      ]
    },
    {
      "cell_type": "code",
      "execution_count": 32,
      "id": "bf79c131",
      "metadata": {},
      "outputs": [
        {
          "name": "stdout",
          "output_type": "stream",
          "text": [
            "Method1 2018-06-01 - 2018-09-01 Score: 0.13389830508474576\n"
          ]
        }
      ],
      "source": [
        "# 近三個月資料\n",
        "train_start_date = \"2018-06-01\"\n",
        "train_end_date = '2018-09-01'\n",
        "train_3months = ratings_trainings[\n",
        "    (ratings_trainings['DATE'] >= train_start_date) & \n",
        "    (ratings_trainings['DATE'] < train_end_date)\n",
        "]\n",
        "ratings_by_user_1 = recommender_1(train_3months, users)\n",
        "method_1_time = evaluate(ratings_testings_by_user, ratings_by_user_1)\n",
        "print(f'Method1 {train_start_date} - {train_end_date} Score: {method_1_time}')"
      ]
    },
    {
      "cell_type": "markdown",
      "id": "c32dea49",
      "metadata": {},
      "source": [
        "### 推薦系統2 評分"
      ]
    },
    {
      "cell_type": "code",
      "execution_count": 13,
      "id": "b7VSaCQD_CVw",
      "metadata": {
        "id": "b7VSaCQD_CVw"
      },
      "outputs": [
        {
          "name": "stdout",
          "output_type": "stream",
          "text": [
            "Method2 Score: 0.0\n"
          ]
        }
      ],
      "source": [
        "ratings_by_user_2 = recommender_2(ratings_trainings, users)\n",
        "method_2 = evaluate(ratings_testings_by_user, ratings_by_user_2)\n",
        "print(f'Method2 Score: {method_2}')"
      ]
    },
    {
      "cell_type": "code",
      "execution_count": 34,
      "id": "bfc4f793",
      "metadata": {},
      "outputs": [
        {
          "name": "stdout",
          "output_type": "stream",
          "text": [
            "Method2 2018-06-01 - 2018-09-01 Score: 0.0\n"
          ]
        }
      ],
      "source": [
        "ratings_by_user_2 = recommender_2(train_3months, users)\n",
        "method_2_time = evaluate(ratings_testings_by_user, ratings_by_user_2)\n",
        "print(f'Method2 {train_start_date} - {train_end_date} Score: {method_2_time}')"
      ]
    },
    {
      "cell_type": "markdown",
      "id": "e41eae5c",
      "metadata": {},
      "source": [
        "### 推薦系統3 評分"
      ]
    },
    {
      "cell_type": "code",
      "execution_count": 22,
      "id": "62bc9a02",
      "metadata": {},
      "outputs": [
        {
          "name": "stdout",
          "output_type": "stream",
          "text": [
            "Method3 Score: 0.08305084745762711\n"
          ]
        }
      ],
      "source": [
        "ratings_by_user_3 = recommender_3(ratings_trainings, users)\n",
        "method_3 = evaluate(ratings_testings_by_user, ratings_by_user_3)\n",
        "print(f'Method3 Score: {method_3}')"
      ]
    },
    {
      "cell_type": "code",
      "execution_count": 35,
      "id": "7e7aeaf7",
      "metadata": {},
      "outputs": [
        {
          "name": "stdout",
          "output_type": "stream",
          "text": [
            "method_3 2018-06-01 - 2018-09-01 Score: 0.13389830508474576\n"
          ]
        }
      ],
      "source": [
        "ratings_by_user_3 = recommender_3(train_3months, users)\n",
        "method_3_time = evaluate(ratings_testings_by_user, ratings_by_user_3)\n",
        "print(f'method_3 {train_start_date} - {train_end_date} Score: {method_3_time}')"
      ]
    },
    {
      "cell_type": "code",
      "execution_count": 47,
      "id": "a0c292d4",
      "metadata": {},
      "outputs": [],
      "source": [
        "test = metadata.loc[:,[\"category\"]]\n",
        ".drop_duplicates()"
      ]
    }
  ],
  "metadata": {
    "colab": {
      "name": "sample.ipynb",
      "provenance": []
    },
    "kernelspec": {
      "display_name": "Python 3",
      "language": "python",
      "name": "python3"
    },
    "language_info": {
      "codemirror_mode": {
        "name": "ipython",
        "version": 3
      },
      "file_extension": ".py",
      "mimetype": "text/x-python",
      "name": "python",
      "nbconvert_exporter": "python",
      "pygments_lexer": "ipython3",
      "version": "3.8.8"
    }
  },
  "nbformat": 4,
  "nbformat_minor": 5
}
