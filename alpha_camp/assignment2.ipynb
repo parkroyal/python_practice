{
  "cells": [
    {
      "cell_type": "markdown",
      "id": "ZLd6n-dV_CVk",
      "metadata": {
        "id": "ZLd6n-dV_CVk"
      },
      "source": [
        "# Sample Code"
      ]
    },
    {
      "cell_type": "markdown",
      "id": "xvrXKYBh_CVo",
      "metadata": {
        "id": "xvrXKYBh_CVo"
      },
      "source": [
        "## 基礎建設"
      ]
    },
    {
      "cell_type": "code",
      "execution_count": 112,
      "id": "E7uO3D6j_CVo",
      "metadata": {
        "id": "E7uO3D6j_CVo",
        "scrolled": true
      },
      "outputs": [],
      "source": [
        "import pandas as pd\n",
        "import gzip, json\n",
        "import numpy as np\n",
        "import re \n",
        "import matplotlib.pyplot as plt\n",
        "from sklearn.feature_extraction.text import TfidfVectorizer\n",
        "\n",
        "def parse(path):\n",
        "    g = gzip.open(path, 'rb')\n",
        "    for l in g:\n",
        "        yield json.loads(l)\n",
        "\n",
        "def getDF(path):\n",
        "    i = 0\n",
        "    df = {}\n",
        "    for d in parse(path):\n",
        "        df[i] = d\n",
        "        i += 1\n",
        "    return pd.DataFrame.from_dict(df, orient='index')"
      ]
    },
    {
      "cell_type": "markdown",
      "id": "tst2vwMI_CVq",
      "metadata": {
        "id": "tst2vwMI_CVq"
      },
      "source": [
        "## 載入資料"
      ]
    },
    {
      "cell_type": "code",
      "execution_count": 10,
      "id": "TZ83151K_CVr",
      "metadata": {
        "colab": {
          "base_uri": "https://localhost:8080/"
        },
        "id": "TZ83151K_CVr",
        "outputId": "9b50b36d-62f7-4d05-e46c-5fc8eadc3c07"
      },
      "outputs": [
        {
          "name": "stderr",
          "output_type": "stream",
          "text": [
            "'wget' ���O�����Υ~���R�O�B�i���檺�{���Χ妸�ɡC\n",
            "'wget' ���O�����Υ~���R�O�B�i���檺�{���Χ妸�ɡC\n"
          ]
        }
      ],
      "source": [
        "!wget http://deepyeti.ucsd.edu/jianmo/amazon/categoryFilesSmall/All_Beauty.csv\n",
        "!wget http://deepyeti.ucsd.edu/jianmo/amazon/metaFiles2/meta_All_Beauty.json.gz"
      ]
    },
    {
      "cell_type": "code",
      "execution_count": 86,
      "id": "3mULJ_mG_CVr",
      "metadata": {
        "id": "3mULJ_mG_CVr"
      },
      "outputs": [],
      "source": [
        "metadata = getDF('../content/meta_All_Beauty.json.gz')\n",
        "ratings = pd.read_csv('../content/All_Beauty.csv', names=['asin', 'reviewerID', 'overall', 'unixReviewTime'], header=None)"
      ]
    },
    {
      "cell_type": "code",
      "execution_count": 14,
      "id": "WyKxuvgd_CVs",
      "metadata": {
        "colab": {
          "base_uri": "https://localhost:8080/",
          "height": 997
        },
        "id": "WyKxuvgd_CVs",
        "outputId": "9c3060e1-5585-40b1-92f0-c91b10c0c85a"
      },
      "outputs": [
        {
          "data": {
            "text/html": [
              "<div>\n",
              "<style scoped>\n",
              "    .dataframe tbody tr th:only-of-type {\n",
              "        vertical-align: middle;\n",
              "    }\n",
              "\n",
              "    .dataframe tbody tr th {\n",
              "        vertical-align: top;\n",
              "    }\n",
              "\n",
              "    .dataframe thead th {\n",
              "        text-align: right;\n",
              "    }\n",
              "</style>\n",
              "<table border=\"1\" class=\"dataframe\">\n",
              "  <thead>\n",
              "    <tr style=\"text-align: right;\">\n",
              "      <th></th>\n",
              "      <th>category</th>\n",
              "      <th>tech1</th>\n",
              "      <th>description</th>\n",
              "      <th>fit</th>\n",
              "      <th>title</th>\n",
              "      <th>also_buy</th>\n",
              "      <th>tech2</th>\n",
              "      <th>brand</th>\n",
              "      <th>feature</th>\n",
              "      <th>rank</th>\n",
              "      <th>also_view</th>\n",
              "      <th>details</th>\n",
              "      <th>main_cat</th>\n",
              "      <th>similar_item</th>\n",
              "      <th>date</th>\n",
              "      <th>price</th>\n",
              "      <th>asin</th>\n",
              "      <th>imageURL</th>\n",
              "      <th>imageURLHighRes</th>\n",
              "    </tr>\n",
              "  </thead>\n",
              "  <tbody>\n",
              "    <tr>\n",
              "      <th>0</th>\n",
              "      <td>[]</td>\n",
              "      <td></td>\n",
              "      <td>[Loud 'N Clear Personal Sound Amplifier allows...</td>\n",
              "      <td></td>\n",
              "      <td>Loud 'N Clear&amp;trade; Personal Sound Amplifier</td>\n",
              "      <td>[]</td>\n",
              "      <td></td>\n",
              "      <td>idea village</td>\n",
              "      <td>[]</td>\n",
              "      <td>2,938,573 in Beauty &amp; Personal Care (</td>\n",
              "      <td>[]</td>\n",
              "      <td>{'ASIN: ': '6546546450'}</td>\n",
              "      <td>All Beauty</td>\n",
              "      <td></td>\n",
              "      <td></td>\n",
              "      <td></td>\n",
              "      <td>6546546450</td>\n",
              "      <td>[]</td>\n",
              "      <td>[]</td>\n",
              "    </tr>\n",
              "    <tr>\n",
              "      <th>1</th>\n",
              "      <td>[]</td>\n",
              "      <td></td>\n",
              "      <td>[No7 Lift &amp; Luminate Triple Action Serum 50ml ...</td>\n",
              "      <td></td>\n",
              "      <td>No7 Lift &amp;amp; Luminate Triple Action Serum 50...</td>\n",
              "      <td>[B01E7LCSL6, B008X5RVME]</td>\n",
              "      <td></td>\n",
              "      <td></td>\n",
              "      <td>[]</td>\n",
              "      <td>872,854 in Beauty &amp; Personal Care (</td>\n",
              "      <td>[]</td>\n",
              "      <td>{'Shipping Weight:': '0.3 ounces (', 'ASIN: ':...</td>\n",
              "      <td>All Beauty</td>\n",
              "      <td>class=\"a-bordered a-horizontal-stripes  a-spa...</td>\n",
              "      <td></td>\n",
              "      <td>$44.99</td>\n",
              "      <td>7178680776</td>\n",
              "      <td>[]</td>\n",
              "      <td>[]</td>\n",
              "    </tr>\n",
              "    <tr>\n",
              "      <th>2</th>\n",
              "      <td>[]</td>\n",
              "      <td></td>\n",
              "      <td>[No7 Stay Perfect Foundation now stays perfect...</td>\n",
              "      <td></td>\n",
              "      <td>No7 Stay Perfect Foundation Cool Vanilla by No7</td>\n",
              "      <td>[]</td>\n",
              "      <td></td>\n",
              "      <td>No7</td>\n",
              "      <td>[]</td>\n",
              "      <td>956,696 in Beauty &amp; Personal Care (</td>\n",
              "      <td>[B01B8BR0O8, B01B8BR0NO, B014MHXXM8]</td>\n",
              "      <td>{'Shipping Weight:': '3.5 ounces (', 'ASIN: ':...</td>\n",
              "      <td>All Beauty</td>\n",
              "      <td></td>\n",
              "      <td></td>\n",
              "      <td>$28.76</td>\n",
              "      <td>7250468162</td>\n",
              "      <td>[]</td>\n",
              "      <td>[]</td>\n",
              "    </tr>\n",
              "    <tr>\n",
              "      <th>3</th>\n",
              "      <td>[]</td>\n",
              "      <td></td>\n",
              "      <td>[]</td>\n",
              "      <td></td>\n",
              "      <td>Wella Koleston Perfect Hair Colour 44/44 Mediu...</td>\n",
              "      <td>[B0041PBXX8]</td>\n",
              "      <td></td>\n",
              "      <td></td>\n",
              "      <td>[]</td>\n",
              "      <td>1,870,258 in Beauty &amp; Personal Care (</td>\n",
              "      <td>[]</td>\n",
              "      <td>{'\n",
              "    Item Weight: \n",
              "    ': '1.76 ounces', 'Sh...</td>\n",
              "      <td>All Beauty</td>\n",
              "      <td></td>\n",
              "      <td></td>\n",
              "      <td></td>\n",
              "      <td>7367905066</td>\n",
              "      <td>[https://images-na.ssl-images-amazon.com/image...</td>\n",
              "      <td>[https://images-na.ssl-images-amazon.com/image...</td>\n",
              "    </tr>\n",
              "    <tr>\n",
              "      <th>4</th>\n",
              "      <td>[]</td>\n",
              "      <td></td>\n",
              "      <td>[Lacto Calamine Skin Balance Daily Nourishing ...</td>\n",
              "      <td></td>\n",
              "      <td>Lacto Calamine Skin Balance Oil control 120 ml...</td>\n",
              "      <td>[]</td>\n",
              "      <td></td>\n",
              "      <td>Pirmal Healthcare</td>\n",
              "      <td>[]</td>\n",
              "      <td>67,701 in Beauty &amp; Personal Care (</td>\n",
              "      <td>[3254895630, B007VL1D9S, B00EH9A0RI, B0773MBG4...</td>\n",
              "      <td>{'Shipping Weight:': '12 ounces (', 'ASIN: ': ...</td>\n",
              "      <td>All Beauty</td>\n",
              "      <td></td>\n",
              "      <td></td>\n",
              "      <td>$12.15</td>\n",
              "      <td>7414204790</td>\n",
              "      <td>[https://images-na.ssl-images-amazon.com/image...</td>\n",
              "      <td>[https://images-na.ssl-images-amazon.com/image...</td>\n",
              "    </tr>\n",
              "  </tbody>\n",
              "</table>\n",
              "</div>"
            ],
            "text/plain": [
              "  category tech1                                        description fit  \\\n",
              "0       []        [Loud 'N Clear Personal Sound Amplifier allows...       \n",
              "1       []        [No7 Lift & Luminate Triple Action Serum 50ml ...       \n",
              "2       []        [No7 Stay Perfect Foundation now stays perfect...       \n",
              "3       []                                                       []       \n",
              "4       []        [Lacto Calamine Skin Balance Daily Nourishing ...       \n",
              "\n",
              "                                               title  \\\n",
              "0      Loud 'N Clear&trade; Personal Sound Amplifier   \n",
              "1  No7 Lift &amp; Luminate Triple Action Serum 50...   \n",
              "2    No7 Stay Perfect Foundation Cool Vanilla by No7   \n",
              "3  Wella Koleston Perfect Hair Colour 44/44 Mediu...   \n",
              "4  Lacto Calamine Skin Balance Oil control 120 ml...   \n",
              "\n",
              "                   also_buy tech2              brand feature  \\\n",
              "0                        []             idea village      []   \n",
              "1  [B01E7LCSL6, B008X5RVME]                               []   \n",
              "2                        []                      No7      []   \n",
              "3              [B0041PBXX8]                               []   \n",
              "4                        []        Pirmal Healthcare      []   \n",
              "\n",
              "                                    rank  \\\n",
              "0  2,938,573 in Beauty & Personal Care (   \n",
              "1    872,854 in Beauty & Personal Care (   \n",
              "2    956,696 in Beauty & Personal Care (   \n",
              "3  1,870,258 in Beauty & Personal Care (   \n",
              "4     67,701 in Beauty & Personal Care (   \n",
              "\n",
              "                                           also_view  \\\n",
              "0                                                 []   \n",
              "1                                                 []   \n",
              "2               [B01B8BR0O8, B01B8BR0NO, B014MHXXM8]   \n",
              "3                                                 []   \n",
              "4  [3254895630, B007VL1D9S, B00EH9A0RI, B0773MBG4...   \n",
              "\n",
              "                                             details    main_cat  \\\n",
              "0                           {'ASIN: ': '6546546450'}  All Beauty   \n",
              "1  {'Shipping Weight:': '0.3 ounces (', 'ASIN: ':...  All Beauty   \n",
              "2  {'Shipping Weight:': '3.5 ounces (', 'ASIN: ':...  All Beauty   \n",
              "3  {'\n",
              "    Item Weight: \n",
              "    ': '1.76 ounces', 'Sh...  All Beauty   \n",
              "4  {'Shipping Weight:': '12 ounces (', 'ASIN: ': ...  All Beauty   \n",
              "\n",
              "                                        similar_item date   price        asin  \\\n",
              "0                                                                  6546546450   \n",
              "1   class=\"a-bordered a-horizontal-stripes  a-spa...       $44.99  7178680776   \n",
              "2                                                          $28.76  7250468162   \n",
              "3                                                                  7367905066   \n",
              "4                                                          $12.15  7414204790   \n",
              "\n",
              "                                            imageURL  \\\n",
              "0                                                 []   \n",
              "1                                                 []   \n",
              "2                                                 []   \n",
              "3  [https://images-na.ssl-images-amazon.com/image...   \n",
              "4  [https://images-na.ssl-images-amazon.com/image...   \n",
              "\n",
              "                                     imageURLHighRes  \n",
              "0                                                 []  \n",
              "1                                                 []  \n",
              "2                                                 []  \n",
              "3  [https://images-na.ssl-images-amazon.com/image...  \n",
              "4  [https://images-na.ssl-images-amazon.com/image...  "
            ]
          },
          "execution_count": 14,
          "metadata": {},
          "output_type": "execute_result"
        }
      ],
      "source": [
        "metadata.head()"
      ]
    },
    {
      "cell_type": "code",
      "execution_count": 4,
      "id": "E9uZOpT7_CVs",
      "metadata": {
        "colab": {
          "base_uri": "https://localhost:8080/",
          "height": 206
        },
        "id": "E9uZOpT7_CVs",
        "outputId": "3a4503c8-5040-4b08-e69e-deabaeadbe21"
      },
      "outputs": [
        {
          "data": {
            "text/html": [
              "<div>\n",
              "<style scoped>\n",
              "    .dataframe tbody tr th:only-of-type {\n",
              "        vertical-align: middle;\n",
              "    }\n",
              "\n",
              "    .dataframe tbody tr th {\n",
              "        vertical-align: top;\n",
              "    }\n",
              "\n",
              "    .dataframe thead th {\n",
              "        text-align: right;\n",
              "    }\n",
              "</style>\n",
              "<table border=\"1\" class=\"dataframe\">\n",
              "  <thead>\n",
              "    <tr style=\"text-align: right;\">\n",
              "      <th></th>\n",
              "      <th>asin</th>\n",
              "      <th>reviewerID</th>\n",
              "      <th>overall</th>\n",
              "      <th>unixReviewTime</th>\n",
              "    </tr>\n",
              "  </thead>\n",
              "  <tbody>\n",
              "    <tr>\n",
              "      <th>0</th>\n",
              "      <td>0143026860</td>\n",
              "      <td>A1V6B6TNIC10QE</td>\n",
              "      <td>1.0</td>\n",
              "      <td>1424304000</td>\n",
              "    </tr>\n",
              "    <tr>\n",
              "      <th>1</th>\n",
              "      <td>0143026860</td>\n",
              "      <td>A2F5GHSXFQ0W6J</td>\n",
              "      <td>4.0</td>\n",
              "      <td>1418860800</td>\n",
              "    </tr>\n",
              "    <tr>\n",
              "      <th>2</th>\n",
              "      <td>0143026860</td>\n",
              "      <td>A1572GUYS7DGSR</td>\n",
              "      <td>4.0</td>\n",
              "      <td>1407628800</td>\n",
              "    </tr>\n",
              "    <tr>\n",
              "      <th>3</th>\n",
              "      <td>0143026860</td>\n",
              "      <td>A1PSGLFK1NSVO</td>\n",
              "      <td>5.0</td>\n",
              "      <td>1362960000</td>\n",
              "    </tr>\n",
              "    <tr>\n",
              "      <th>4</th>\n",
              "      <td>0143026860</td>\n",
              "      <td>A6IKXKZMTKGSC</td>\n",
              "      <td>5.0</td>\n",
              "      <td>1324771200</td>\n",
              "    </tr>\n",
              "  </tbody>\n",
              "</table>\n",
              "</div>"
            ],
            "text/plain": [
              "         asin      reviewerID  overall  unixReviewTime\n",
              "0  0143026860  A1V6B6TNIC10QE      1.0      1424304000\n",
              "1  0143026860  A2F5GHSXFQ0W6J      4.0      1418860800\n",
              "2  0143026860  A1572GUYS7DGSR      4.0      1407628800\n",
              "3  0143026860   A1PSGLFK1NSVO      5.0      1362960000\n",
              "4  0143026860   A6IKXKZMTKGSC      5.0      1324771200"
            ]
          },
          "execution_count": 4,
          "metadata": {},
          "output_type": "execute_result"
        }
      ],
      "source": [
        "ratings.head()"
      ]
    },
    {
      "cell_type": "markdown",
      "id": "1jt4bk4z_CVt",
      "metadata": {
        "id": "1jt4bk4z_CVt"
      },
      "source": [
        "## 資料整理"
      ]
    },
    {
      "cell_type": "code",
      "execution_count": 87,
      "id": "_VEsxmFW_CVu",
      "metadata": {
        "id": "_VEsxmFW_CVu"
      },
      "outputs": [],
      "source": [
        "ratings['DATE'] = pd.to_datetime(ratings['unixReviewTime'], unit='s')"
      ]
    },
    {
      "cell_type": "markdown",
      "id": "8if7Mz1R_CVu",
      "metadata": {
        "id": "8if7Mz1R_CVu"
      },
      "source": [
        "## 資料切分"
      ]
    },
    {
      "cell_type": "code",
      "execution_count": 88,
      "id": "CBk3OCBP_CVu",
      "metadata": {
        "id": "CBk3OCBP_CVu"
      },
      "outputs": [],
      "source": [
        "# Training date \n",
        "training_start_date = '2018-01-01'\n",
        "training_end_date = '2018-09-01'\n",
        "testing_end_date = '2018-09-30'\n",
        "\n",
        "def split_data(training_end_date, testing_end_date, training_start_date = None):\n",
        "    if training_start_date is None:\n",
        "        ratings_trainings = ratings[\n",
        "            (ratings['DATE'] < training_end_date)\n",
        "        ]   \n",
        "        ratings_testings = ratings[\n",
        "            (ratings['DATE'] >= training_end_date) & \n",
        "            (ratings['DATE'] <= testing_end_date)\n",
        "        ]\n",
        "    else:\n",
        "        ratings_trainings = ratings[\n",
        "            (ratings['DATE'] >= training_start_date) & \n",
        "            (ratings['DATE'] < training_end_date)\n",
        "        ]   \n",
        "        ratings_testings = ratings[\n",
        "            (ratings['DATE'] >= training_end_date) & \n",
        "            (ratings['DATE'] <= testing_end_date)\n",
        "        ]\n",
        "    return ratings_trainings, ratings_testings\n",
        "\n",
        "ratings_trainings, ratings_testings = split_data(training_end_date = training_start_date, testing_end_date = testing_end_date)\n",
        "ratings_testings_by_user = ratings_testings.groupby('reviewerID').agg(list).reset_index()[['reviewerID', 'asin']].to_dict('records')\n",
        "ratings_testings_by_user = { rating['reviewerID']: rating['asin'] for rating in ratings_testings_by_user }\n",
        "users = list(ratings_testings_by_user.keys())"
      ]
    },
    {
      "cell_type": "markdown",
      "id": "3e2827af",
      "metadata": {},
      "source": [
        "## 資料清洗"
      ]
    },
    {
      "cell_type": "code",
      "execution_count": 89,
      "id": "8d226e01",
      "metadata": {},
      "outputs": [
        {
          "name": "stdout",
          "output_type": "stream",
          "text": [
            "category               1\n",
            "tech1                 11\n",
            "description        13751\n",
            "fit                    1\n",
            "title              32300\n",
            "also_buy            6482\n",
            "tech2                  1\n",
            "brand               7863\n",
            "feature              230\n",
            "rank               31949\n",
            "also_view           7894\n",
            "details            32329\n",
            "main_cat               1\n",
            "similar_item        1301\n",
            "date                  20\n",
            "price               3530\n",
            "asin               32488\n",
            "imageURL           15737\n",
            "imageURLHighRes    15737\n",
            "dtype: int64\n"
          ]
        }
      ],
      "source": [
        "# 觀察資料型態 \n",
        "# metadata.nunique(axis = 0, dropna = True) -> error, 因資料型態為list -> 強制轉str\n",
        "print(metadata.astype(str).nunique())\n",
        "# category/ fit/ tech2/ main_cat為空資料\n",
        "# tech1/ date/ feture 資訊 or 重複資料量過多 \n",
        "# 此次不使用圖片連結\n",
        "# 篩選Content-Based 模型與 user profiling 可能使用到的欄位 與 刪除資料量過少/重複資料過多欄位\n",
        "metadata = metadata[['asin', 'description', 'title', 'also_buy', 'brand', 'rank', 'also_view', 'price', 'details']]\n",
        "metadata = metadata.drop_duplicates('asin')"
      ]
    },
    {
      "cell_type": "code",
      "execution_count": 90,
      "id": "c26c03ae",
      "metadata": {},
      "outputs": [
        {
          "name": "stdout",
          "output_type": "stream",
          "text": [
            "15570\n"
          ]
        },
        {
          "data": {
            "text/plain": [
              "                     15570\n",
              "VAGA                   252\n",
              "L'Oreal Paris          110\n",
              "Betty Dain              82\n",
              "Unknown                 79\n",
              "EG GIFTS                79\n",
              "b.m.c                   75\n",
              "Gillette                73\n",
              "Victoria's Secret       70\n",
              "Bath & Body Works       69\n",
              "Name: brand, dtype: int64"
            ]
          },
          "execution_count": 90,
          "metadata": {},
          "output_type": "execute_result"
        },
        {
          "data": {
            "image/png": "[encoded data removed]",
            "text/plain": [
              "<Figure size 720x864 with 1 Axes>"
            ]
          },
          "metadata": {
            "needs_background": "light"
          },
          "output_type": "display_data"
        }
      ],
      "source": [
        "# 品牌資料\n",
        "# 品牌空值資料數\n",
        "print(len(metadata_clean[metadata_clean['brand']== '']))\n",
        "# 填補缺值\n",
        "metadata['brand'] = metadata['brand'].apply(lambda x:x if x else '')\n",
        "metadata['brand'].value_counts(ascending=True).iloc[-10:-1].to_frame().plot(kind='barh',figsize=(10,12))\n",
        "metadata['brand'].value_counts(ascending=False)[0:10]\n",
        "# Unknown : 不確定是否為品牌 or 缺失資料 暫不處理"
      ]
    },
    {
      "cell_type": "code",
      "execution_count": 91,
      "id": "96e13f92",
      "metadata": {},
      "outputs": [
        {
          "data": {
            "text/plain": [
              " Beauty  Personal Care       32015\n",
              " Grocery  Gourmet Food          37\n",
              " Health  Household              21\n",
              " Toys  Games                     3\n",
              " Sports  Outdoors                3\n",
              " Baby                            2\n",
              " Cloth                           2\n",
              " Automotive                      1\n",
              " Tools  Home Improvement         1\n",
              " Home  Kitchen                   1\n",
              "Name: Sub_type, dtype: int64"
            ]
          },
          "execution_count": 91,
          "metadata": {},
          "output_type": "execute_result"
        },
        {
          "data": {
            "image/png": "[encoded data removed]",
            "text/plain": [
              "<Figure size 720x864 with 1 Axes>"
            ]
          },
          "metadata": {
            "needs_background": "light"
          },
          "output_type": "display_data"
        }
      ],
      "source": [
        "# rank 資料\n",
        "metadata['Sub_type'] = metadata['rank'].str.split('in').str[1]\n",
        "metadata['Sub_type'] = metadata['Sub_type'].str.replace(r'(','', regex=True)\n",
        "metadata['Sub_type'] = metadata['Sub_type'].str.replace(r'&.*;','', regex=True)\n",
        "metadata['Sub_type'] = metadata['Sub_type'].str.replace(r'&','', regex=True)\n",
        "metadata['Sub_type'].value_counts(ascending=True).iloc[-10:-1].to_frame().plot(kind='barh',figsize=(10,12))\n",
        "metadata['Sub_type'].value_counts()"
      ]
    },
    {
      "cell_type": "code",
      "execution_count": 94,
      "id": "6158f4ef",
      "metadata": {},
      "outputs": [],
      "source": [
        "# price 資料\n",
        "# 價格正則\n",
        "regex = re.compile(r'^\\$[0-9]+\\.[0-9]+$')\n",
        "metadata.price.head(10)\n",
        "# 空值/ , / .a-box-inner{background-color:#fff}#al...\n",
        "metadata['price'] = metadata['price'].apply(lambda x:float(x.replace('$','').replace(',','')) if regex.match(x) else np.nan)"
      ]
    },
    {
      "cell_type": "code",
      "execution_count": 99,
      "id": "dd0314e6",
      "metadata": {},
      "outputs": [
        {
          "name": "stdout",
          "output_type": "stream",
          "text": [
            "              price\n",
            "count  11171.000000\n",
            "mean      27.784923\n",
            "std       47.212652\n",
            "min        0.010000\n",
            "25%        8.990000\n",
            "50%       15.990000\n",
            "75%       29.990000\n",
            "max      999.990000\n"
          ]
        },
        {
          "data": {
            "text/plain": [
              "Text(0.5, 0, 'US dollars')"
            ]
          },
          "execution_count": 99,
          "metadata": {},
          "output_type": "execute_result"
        },
        {
          "data": {
            "image/png": "[encoded data removed]",
            "text/plain": [
              "<Figure size 432x288 with 1 Axes>"
            ]
          },
          "metadata": {
            "needs_background": "light"
          },
          "output_type": "display_data"
        }
      ],
      "source": [
        "price = metadata.dropna(subset = ['price'])\n",
        "print(price.describe())\n",
        "plt.hist(metadata[metadata['price'] != '']['price'],bins=1000)\n",
        "plt.xlim(0,1000)\n",
        "plt.xlabel('USD')"
      ]
    },
    {
      "cell_type": "code",
      "execution_count": 109,
      "id": "9892599a",
      "metadata": {},
      "outputs": [],
      "source": [
        "# # 使用四分位數進行初步價格分類( & 無資料)\n",
        "conditions = [\n",
        "    np.isnan(metadata['price']),\n",
        "    metadata['price'] <= 8.99,\n",
        "    (metadata['price'] > 8.99) & (metadata['price'] <= 15.99),\n",
        "    (metadata['price'] > 15.99) & (metadata['price'] <= 29.99),\n",
        "    metadata['price'] > 29.99 \n",
        "]\n",
        "\n",
        "choices = ['No Data', 'Q1', 'Q2', 'Q3', 'Q4']\n",
        "metadata['price_catgory'] = np.select(conditions, choices)"
      ]
    },
    {
      "cell_type": "markdown",
      "id": "7af12076",
      "metadata": {},
      "source": [
        "## TF/IDF處理\n"
      ]
    },
    {
      "cell_type": "code",
      "execution_count": 122,
      "id": "a068fc88",
      "metadata": {},
      "outputs": [],
      "source": [
        "# 計算商品用標題所表示的 tfidf 矩陣\n",
        "df = metadata.drop_duplicates('title')\n",
        "# tf = TfidfVectorizer(analyzer='word')\n",
        "# tfidf_matrix = tf.fit_transform(df['title'])\n",
        "\n",
        "# 計算商品間的相似程度\n",
        "# from sklearn.metrics.pairwise import cosine_similarity\n",
        "# similarity_matrix = cosine_similarity(tfidf_matrix)\n",
        "# mapping = pd.Series(df.index,index = df['title'])\n",
        "\n",
        "# 每個商品回傳 k 個最相近的商品\n",
        "def recommend_item(item_input, k=2):\n",
        "    try:\n",
        "        item_index = mapping[item_input]\n",
        "        similarity_score = list(enumerate(similarity_matrix[item_index]))\n",
        "        similarity_score = sorted(similarity_score, key=lambda x: x[1], reverse=True)\n",
        "        similarity_score = similarity_score[:k]\n",
        "        item_indices = [i[0] for i in similarity_score]\n",
        "        return (df['asin'].iloc[item_indices].tolist())\n",
        "    except:\n",
        "        return []\n",
        "\n",
        "# 利用使用者購買過的商品產生推薦\n",
        "def recommend_items(items, k):\n",
        "    res = []\n",
        "    for d in items:\n",
        "        res.extend(recommend_item(d, k))\n",
        "    return res"
      ]
    },
    {
      "cell_type": "code",
      "execution_count": 114,
      "id": "bba1b6c1",
      "metadata": {},
      "outputs": [],
      "source": [
        "# 合併 title/brand/Sub_type 同時提取特徵值\n",
        "def concat(x):\n",
        "    # 使用書名/ 簡介/ 價格分類/ 品牌合併文本\n",
        "    words = f'{\"\".join(x[\"title\"])}, {\"\".join((x[\"description\"]))}, {\"\".join((x[\"price_category\"]))}, {\"\".join((x[\"brand\"]))} '\n",
        "    # 刪除特殊符號\n",
        "    words = re.sub(r'\\,())&;,./', \"\", words)\n",
        "    words = words.lower()\n",
        "    return words"
      ]
    },
    {
      "cell_type": "code",
      "execution_count": 115,
      "id": "4ef10869",
      "metadata": {},
      "outputs": [
        {
          "ename": "KeyError",
          "evalue": "'price_category'",
          "output_type": "error",
          "traceback": [
            "\u001b[1;31m---------------------------------------------------------------------------\u001b[0m",
            "\u001b[1;31mKeyError\u001b[0m                                  Traceback (most recent call last)",
            "\u001b[1;32m~\\Anaconda3\\lib\\site-packages\\pandas\\core\\indexes\\base.py\u001b[0m in \u001b[0;36mget_loc\u001b[1;34m(self, key, method, tolerance)\u001b[0m\n\u001b[0;32m   3079\u001b[0m             \u001b[1;32mtry\u001b[0m\u001b[1;33m:\u001b[0m\u001b[1;33m\u001b[0m\u001b[1;33m\u001b[0m\u001b[0m\n\u001b[1;32m-> 3080\u001b[1;33m                 \u001b[1;32mreturn\u001b[0m \u001b[0mself\u001b[0m\u001b[1;33m.\u001b[0m\u001b[0m_engine\u001b[0m\u001b[1;33m.\u001b[0m\u001b[0mget_loc\u001b[0m\u001b[1;33m(\u001b[0m\u001b[0mcasted_key\u001b[0m\u001b[1;33m)\u001b[0m\u001b[1;33m\u001b[0m\u001b[1;33m\u001b[0m\u001b[0m\n\u001b[0m\u001b[0;32m   3081\u001b[0m             \u001b[1;32mexcept\u001b[0m \u001b[0mKeyError\u001b[0m \u001b[1;32mas\u001b[0m \u001b[0merr\u001b[0m\u001b[1;33m:\u001b[0m\u001b[1;33m\u001b[0m\u001b[1;33m\u001b[0m\u001b[0m\n",
            "\u001b[1;32mpandas\\_libs\\index.pyx\u001b[0m in \u001b[0;36mpandas._libs.index.IndexEngine.get_loc\u001b[1;34m()\u001b[0m\n",
            "\u001b[1;32mpandas\\_libs\\index.pyx\u001b[0m in \u001b[0;36mpandas._libs.index.IndexEngine.get_loc\u001b[1;34m()\u001b[0m\n",
            "\u001b[1;32mpandas\\_libs\\hashtable_class_helper.pxi\u001b[0m in \u001b[0;36mpandas._libs.hashtable.PyObjectHashTable.get_item\u001b[1;34m()\u001b[0m\n",
            "\u001b[1;32mpandas\\_libs\\hashtable_class_helper.pxi\u001b[0m in \u001b[0;36mpandas._libs.hashtable.PyObjectHashTable.get_item\u001b[1;34m()\u001b[0m\n",
            "\u001b[1;31mKeyError\u001b[0m: 'price_category'",
            "\nThe above exception was the direct cause of the following exception:\n",
            "\u001b[1;31mKeyError\u001b[0m                                  Traceback (most recent call last)",
            "\u001b[1;32m<ipython-input-115-38e28d9a465e>\u001b[0m in \u001b[0;36m<module>\u001b[1;34m\u001b[0m\n\u001b[1;32m----> 1\u001b[1;33m \u001b[0mmetadata\u001b[0m\u001b[1;33m[\u001b[0m\u001b[1;34m'All_feature'\u001b[0m\u001b[1;33m]\u001b[0m \u001b[1;33m=\u001b[0m \u001b[0mmetadata\u001b[0m\u001b[1;33m.\u001b[0m\u001b[0mapply\u001b[0m\u001b[1;33m(\u001b[0m\u001b[0mconcat\u001b[0m\u001b[1;33m,\u001b[0m \u001b[0maxis\u001b[0m \u001b[1;33m=\u001b[0m\u001b[1;36m1\u001b[0m\u001b[1;33m)\u001b[0m\u001b[1;33m\u001b[0m\u001b[1;33m\u001b[0m\u001b[0m\n\u001b[0m\u001b[0;32m      2\u001b[0m \u001b[0mmetadata\u001b[0m\u001b[1;33m[\u001b[0m\u001b[1;34m'All_feature'\u001b[0m\u001b[1;33m]\u001b[0m\u001b[1;33m.\u001b[0m\u001b[0mhead\u001b[0m\u001b[1;33m(\u001b[0m\u001b[1;36m10\u001b[0m\u001b[1;33m)\u001b[0m\u001b[1;33m\u001b[0m\u001b[1;33m\u001b[0m\u001b[0m\n",
            "\u001b[1;32m~\\Anaconda3\\lib\\site-packages\\pandas\\core\\frame.py\u001b[0m in \u001b[0;36mapply\u001b[1;34m(self, func, axis, raw, result_type, args, **kwds)\u001b[0m\n\u001b[0;32m   7766\u001b[0m             \u001b[0mkwds\u001b[0m\u001b[1;33m=\u001b[0m\u001b[0mkwds\u001b[0m\u001b[1;33m,\u001b[0m\u001b[1;33m\u001b[0m\u001b[1;33m\u001b[0m\u001b[0m\n\u001b[0;32m   7767\u001b[0m         )\n\u001b[1;32m-> 7768\u001b[1;33m         \u001b[1;32mreturn\u001b[0m \u001b[0mop\u001b[0m\u001b[1;33m.\u001b[0m\u001b[0mget_result\u001b[0m\u001b[1;33m(\u001b[0m\u001b[1;33m)\u001b[0m\u001b[1;33m\u001b[0m\u001b[1;33m\u001b[0m\u001b[0m\n\u001b[0m\u001b[0;32m   7769\u001b[0m \u001b[1;33m\u001b[0m\u001b[0m\n\u001b[0;32m   7770\u001b[0m     \u001b[1;32mdef\u001b[0m \u001b[0mapplymap\u001b[0m\u001b[1;33m(\u001b[0m\u001b[0mself\u001b[0m\u001b[1;33m,\u001b[0m \u001b[0mfunc\u001b[0m\u001b[1;33m,\u001b[0m \u001b[0mna_action\u001b[0m\u001b[1;33m:\u001b[0m \u001b[0mOptional\u001b[0m\u001b[1;33m[\u001b[0m\u001b[0mstr\u001b[0m\u001b[1;33m]\u001b[0m \u001b[1;33m=\u001b[0m \u001b[1;32mNone\u001b[0m\u001b[1;33m)\u001b[0m \u001b[1;33m->\u001b[0m \u001b[0mDataFrame\u001b[0m\u001b[1;33m:\u001b[0m\u001b[1;33m\u001b[0m\u001b[1;33m\u001b[0m\u001b[0m\n",
            "\u001b[1;32m~\\Anaconda3\\lib\\site-packages\\pandas\\core\\apply.py\u001b[0m in \u001b[0;36mget_result\u001b[1;34m(self)\u001b[0m\n\u001b[0;32m    183\u001b[0m             \u001b[1;32mreturn\u001b[0m \u001b[0mself\u001b[0m\u001b[1;33m.\u001b[0m\u001b[0mapply_raw\u001b[0m\u001b[1;33m(\u001b[0m\u001b[1;33m)\u001b[0m\u001b[1;33m\u001b[0m\u001b[1;33m\u001b[0m\u001b[0m\n\u001b[0;32m    184\u001b[0m \u001b[1;33m\u001b[0m\u001b[0m\n\u001b[1;32m--> 185\u001b[1;33m         \u001b[1;32mreturn\u001b[0m \u001b[0mself\u001b[0m\u001b[1;33m.\u001b[0m\u001b[0mapply_standard\u001b[0m\u001b[1;33m(\u001b[0m\u001b[1;33m)\u001b[0m\u001b[1;33m\u001b[0m\u001b[1;33m\u001b[0m\u001b[0m\n\u001b[0m\u001b[0;32m    186\u001b[0m \u001b[1;33m\u001b[0m\u001b[0m\n\u001b[0;32m    187\u001b[0m     \u001b[1;32mdef\u001b[0m \u001b[0mapply_empty_result\u001b[0m\u001b[1;33m(\u001b[0m\u001b[0mself\u001b[0m\u001b[1;33m)\u001b[0m\u001b[1;33m:\u001b[0m\u001b[1;33m\u001b[0m\u001b[1;33m\u001b[0m\u001b[0m\n",
            "\u001b[1;32m~\\Anaconda3\\lib\\site-packages\\pandas\\core\\apply.py\u001b[0m in \u001b[0;36mapply_standard\u001b[1;34m(self)\u001b[0m\n\u001b[0;32m    274\u001b[0m \u001b[1;33m\u001b[0m\u001b[0m\n\u001b[0;32m    275\u001b[0m     \u001b[1;32mdef\u001b[0m \u001b[0mapply_standard\u001b[0m\u001b[1;33m(\u001b[0m\u001b[0mself\u001b[0m\u001b[1;33m)\u001b[0m\u001b[1;33m:\u001b[0m\u001b[1;33m\u001b[0m\u001b[1;33m\u001b[0m\u001b[0m\n\u001b[1;32m--> 276\u001b[1;33m         \u001b[0mresults\u001b[0m\u001b[1;33m,\u001b[0m \u001b[0mres_index\u001b[0m \u001b[1;33m=\u001b[0m \u001b[0mself\u001b[0m\u001b[1;33m.\u001b[0m\u001b[0mapply_series_generator\u001b[0m\u001b[1;33m(\u001b[0m\u001b[1;33m)\u001b[0m\u001b[1;33m\u001b[0m\u001b[1;33m\u001b[0m\u001b[0m\n\u001b[0m\u001b[0;32m    277\u001b[0m \u001b[1;33m\u001b[0m\u001b[0m\n\u001b[0;32m    278\u001b[0m         \u001b[1;31m# wrap results\u001b[0m\u001b[1;33m\u001b[0m\u001b[1;33m\u001b[0m\u001b[1;33m\u001b[0m\u001b[0m\n",
            "\u001b[1;32m~\\Anaconda3\\lib\\site-packages\\pandas\\core\\apply.py\u001b[0m in \u001b[0;36mapply_series_generator\u001b[1;34m(self)\u001b[0m\n\u001b[0;32m    288\u001b[0m             \u001b[1;32mfor\u001b[0m \u001b[0mi\u001b[0m\u001b[1;33m,\u001b[0m \u001b[0mv\u001b[0m \u001b[1;32min\u001b[0m \u001b[0menumerate\u001b[0m\u001b[1;33m(\u001b[0m\u001b[0mseries_gen\u001b[0m\u001b[1;33m)\u001b[0m\u001b[1;33m:\u001b[0m\u001b[1;33m\u001b[0m\u001b[1;33m\u001b[0m\u001b[0m\n\u001b[0;32m    289\u001b[0m                 \u001b[1;31m# ignore SettingWithCopy here in case the user mutates\u001b[0m\u001b[1;33m\u001b[0m\u001b[1;33m\u001b[0m\u001b[1;33m\u001b[0m\u001b[0m\n\u001b[1;32m--> 290\u001b[1;33m                 \u001b[0mresults\u001b[0m\u001b[1;33m[\u001b[0m\u001b[0mi\u001b[0m\u001b[1;33m]\u001b[0m \u001b[1;33m=\u001b[0m \u001b[0mself\u001b[0m\u001b[1;33m.\u001b[0m\u001b[0mf\u001b[0m\u001b[1;33m(\u001b[0m\u001b[0mv\u001b[0m\u001b[1;33m)\u001b[0m\u001b[1;33m\u001b[0m\u001b[1;33m\u001b[0m\u001b[0m\n\u001b[0m\u001b[0;32m    291\u001b[0m                 \u001b[1;32mif\u001b[0m \u001b[0misinstance\u001b[0m\u001b[1;33m(\u001b[0m\u001b[0mresults\u001b[0m\u001b[1;33m[\u001b[0m\u001b[0mi\u001b[0m\u001b[1;33m]\u001b[0m\u001b[1;33m,\u001b[0m \u001b[0mABCSeries\u001b[0m\u001b[1;33m)\u001b[0m\u001b[1;33m:\u001b[0m\u001b[1;33m\u001b[0m\u001b[1;33m\u001b[0m\u001b[0m\n\u001b[0;32m    292\u001b[0m                     \u001b[1;31m# If we have a view on v, we need to make a copy because\u001b[0m\u001b[1;33m\u001b[0m\u001b[1;33m\u001b[0m\u001b[1;33m\u001b[0m\u001b[0m\n",
            "\u001b[1;32m<ipython-input-114-b9b7d8d68e6b>\u001b[0m in \u001b[0;36mconcat\u001b[1;34m(x)\u001b[0m\n\u001b[0;32m      2\u001b[0m \u001b[1;32mdef\u001b[0m \u001b[0mconcat\u001b[0m\u001b[1;33m(\u001b[0m\u001b[0mx\u001b[0m\u001b[1;33m)\u001b[0m\u001b[1;33m:\u001b[0m\u001b[1;33m\u001b[0m\u001b[1;33m\u001b[0m\u001b[0m\n\u001b[0;32m      3\u001b[0m     \u001b[1;31m# 使用書名/ 簡介/ 價格分類/ 品牌合併文本\u001b[0m\u001b[1;33m\u001b[0m\u001b[1;33m\u001b[0m\u001b[1;33m\u001b[0m\u001b[0m\n\u001b[1;32m----> 4\u001b[1;33m     \u001b[0mwords\u001b[0m \u001b[1;33m=\u001b[0m \u001b[1;34mf'{\"\".join(x[\"title\"])}, {\"\".join((x[\"description\"]))}, {\"\".join((x[\"price_category\"]))}, {\"\".join((x[\"brand\"]))} '\u001b[0m\u001b[1;33m\u001b[0m\u001b[1;33m\u001b[0m\u001b[0m\n\u001b[0m\u001b[0;32m      5\u001b[0m     \u001b[0mwords\u001b[0m \u001b[1;33m=\u001b[0m \u001b[0mre\u001b[0m\u001b[1;33m.\u001b[0m\u001b[0msub\u001b[0m\u001b[1;33m(\u001b[0m\u001b[1;34mr'\\,())&;,./'\u001b[0m\u001b[1;33m,\u001b[0m \u001b[1;34m\"\"\u001b[0m\u001b[1;33m,\u001b[0m \u001b[0mwords\u001b[0m\u001b[1;33m)\u001b[0m\u001b[1;33m\u001b[0m\u001b[1;33m\u001b[0m\u001b[0m\n\u001b[0;32m      6\u001b[0m     \u001b[0mwords\u001b[0m \u001b[1;33m=\u001b[0m \u001b[0mwords\u001b[0m\u001b[1;33m.\u001b[0m\u001b[0mlower\u001b[0m\u001b[1;33m(\u001b[0m\u001b[1;33m)\u001b[0m\u001b[1;33m\u001b[0m\u001b[1;33m\u001b[0m\u001b[0m\n",
            "\u001b[1;32m~\\Anaconda3\\lib\\site-packages\\pandas\\core\\series.py\u001b[0m in \u001b[0;36m__getitem__\u001b[1;34m(self, key)\u001b[0m\n\u001b[0;32m    851\u001b[0m \u001b[1;33m\u001b[0m\u001b[0m\n\u001b[0;32m    852\u001b[0m         \u001b[1;32melif\u001b[0m \u001b[0mkey_is_scalar\u001b[0m\u001b[1;33m:\u001b[0m\u001b[1;33m\u001b[0m\u001b[1;33m\u001b[0m\u001b[0m\n\u001b[1;32m--> 853\u001b[1;33m             \u001b[1;32mreturn\u001b[0m \u001b[0mself\u001b[0m\u001b[1;33m.\u001b[0m\u001b[0m_get_value\u001b[0m\u001b[1;33m(\u001b[0m\u001b[0mkey\u001b[0m\u001b[1;33m)\u001b[0m\u001b[1;33m\u001b[0m\u001b[1;33m\u001b[0m\u001b[0m\n\u001b[0m\u001b[0;32m    854\u001b[0m \u001b[1;33m\u001b[0m\u001b[0m\n\u001b[0;32m    855\u001b[0m         \u001b[1;32mif\u001b[0m \u001b[0mis_hashable\u001b[0m\u001b[1;33m(\u001b[0m\u001b[0mkey\u001b[0m\u001b[1;33m)\u001b[0m\u001b[1;33m:\u001b[0m\u001b[1;33m\u001b[0m\u001b[1;33m\u001b[0m\u001b[0m\n",
            "\u001b[1;32m~\\Anaconda3\\lib\\site-packages\\pandas\\core\\series.py\u001b[0m in \u001b[0;36m_get_value\u001b[1;34m(self, label, takeable)\u001b[0m\n\u001b[0;32m    959\u001b[0m \u001b[1;33m\u001b[0m\u001b[0m\n\u001b[0;32m    960\u001b[0m         \u001b[1;31m# Similar to Index.get_value, but we do not fall back to positional\u001b[0m\u001b[1;33m\u001b[0m\u001b[1;33m\u001b[0m\u001b[1;33m\u001b[0m\u001b[0m\n\u001b[1;32m--> 961\u001b[1;33m         \u001b[0mloc\u001b[0m \u001b[1;33m=\u001b[0m \u001b[0mself\u001b[0m\u001b[1;33m.\u001b[0m\u001b[0mindex\u001b[0m\u001b[1;33m.\u001b[0m\u001b[0mget_loc\u001b[0m\u001b[1;33m(\u001b[0m\u001b[0mlabel\u001b[0m\u001b[1;33m)\u001b[0m\u001b[1;33m\u001b[0m\u001b[1;33m\u001b[0m\u001b[0m\n\u001b[0m\u001b[0;32m    962\u001b[0m         \u001b[1;32mreturn\u001b[0m \u001b[0mself\u001b[0m\u001b[1;33m.\u001b[0m\u001b[0mindex\u001b[0m\u001b[1;33m.\u001b[0m\u001b[0m_get_values_for_loc\u001b[0m\u001b[1;33m(\u001b[0m\u001b[0mself\u001b[0m\u001b[1;33m,\u001b[0m \u001b[0mloc\u001b[0m\u001b[1;33m,\u001b[0m \u001b[0mlabel\u001b[0m\u001b[1;33m)\u001b[0m\u001b[1;33m\u001b[0m\u001b[1;33m\u001b[0m\u001b[0m\n\u001b[0;32m    963\u001b[0m \u001b[1;33m\u001b[0m\u001b[0m\n",
            "\u001b[1;32m~\\Anaconda3\\lib\\site-packages\\pandas\\core\\indexes\\base.py\u001b[0m in \u001b[0;36mget_loc\u001b[1;34m(self, key, method, tolerance)\u001b[0m\n\u001b[0;32m   3080\u001b[0m                 \u001b[1;32mreturn\u001b[0m \u001b[0mself\u001b[0m\u001b[1;33m.\u001b[0m\u001b[0m_engine\u001b[0m\u001b[1;33m.\u001b[0m\u001b[0mget_loc\u001b[0m\u001b[1;33m(\u001b[0m\u001b[0mcasted_key\u001b[0m\u001b[1;33m)\u001b[0m\u001b[1;33m\u001b[0m\u001b[1;33m\u001b[0m\u001b[0m\n\u001b[0;32m   3081\u001b[0m             \u001b[1;32mexcept\u001b[0m \u001b[0mKeyError\u001b[0m \u001b[1;32mas\u001b[0m \u001b[0merr\u001b[0m\u001b[1;33m:\u001b[0m\u001b[1;33m\u001b[0m\u001b[1;33m\u001b[0m\u001b[0m\n\u001b[1;32m-> 3082\u001b[1;33m                 \u001b[1;32mraise\u001b[0m \u001b[0mKeyError\u001b[0m\u001b[1;33m(\u001b[0m\u001b[0mkey\u001b[0m\u001b[1;33m)\u001b[0m \u001b[1;32mfrom\u001b[0m \u001b[0merr\u001b[0m\u001b[1;33m\u001b[0m\u001b[1;33m\u001b[0m\u001b[0m\n\u001b[0m\u001b[0;32m   3083\u001b[0m \u001b[1;33m\u001b[0m\u001b[0m\n\u001b[0;32m   3084\u001b[0m         \u001b[1;32mif\u001b[0m \u001b[0mtolerance\u001b[0m \u001b[1;32mis\u001b[0m \u001b[1;32mnot\u001b[0m \u001b[1;32mNone\u001b[0m\u001b[1;33m:\u001b[0m\u001b[1;33m\u001b[0m\u001b[1;33m\u001b[0m\u001b[0m\n",
            "\u001b[1;31mKeyError\u001b[0m: 'price_category'"
          ]
        }
      ],
      "source": [
        "metadata['feature'] = metadata.apply(concat, axis=1)\n",
        "metadata['feature'].head(10)"
      ]
    },
    {
      "cell_type": "code",
      "execution_count": 7,
      "id": "ceede637",
      "metadata": {},
      "outputs": [],
      "source": [
        "metadata = metadata[['asin', 'also_buy', 'also_view']]\n",
        "k = 10\n",
        "# 先以Also_Buy 推薦 再以Also_Review推薦 若使用者為新客戶(先前無資料 則推薦最熱門的產品)\n",
        "# 針對metadata每個購買清單也會購買的產品排序\n",
        "# also_buy\n",
        "df_also_buy = metadata[['asin', 'also_buy']].apply(pd.Series.explode).reset_index(drop=True).dropna().value_counts().reset_index(name = 'also_buy_counts')\n",
        "# also_review\n",
        "df_also_view = metadata[['asin', 'also_view']].apply(pd.Series.explode).reset_index(drop=True).dropna().value_counts().reset_index(name = 'also_view_counts')\n",
        "# df = df_also_view.merge(df_also_buy, how = 'outer', on = 'asin')\n",
        "# training_data = ratings_trainings\n",
        "# training_data.loc[:,['reviewerID']].value_counts().reset_index(name = 'counts').sort_values('counts', ascending = False)\n",
        "# 前百大熱門產品\n",
        "popularity = ratings_trainings[\"asin\"].value_counts().index.to_list()[0:100]\n"
      ]
    },
    {
      "cell_type": "markdown",
      "id": "c8Q-oT55_CVw",
      "metadata": {
        "id": "c8Q-oT55_CVw"
      },
      "source": [
        "## 結果評估"
      ]
    },
    {
      "cell_type": "code",
      "execution_count": 9,
      "id": "XpMDYALD_CVw",
      "metadata": {
        "id": "XpMDYALD_CVw",
        "outputId": "0a050c27-e929-4601-fe97-9f129b0728b1"
      },
      "outputs": [],
      "source": [
        "def evaluate(ratings_testings_by_user={}, ratings_by_user={}, method=None):\n",
        "    '''\n",
        "    * ratings_testings_by_user: dict 真實被購買的商品資料（2018-09-01 以後資料）\n",
        "    * ratings_by_user: dict 利用訓練資料學習的推薦商品\n",
        "    * method: str\n",
        "    * score: float\n",
        "    '''\n",
        "    total = 0\n",
        "    for d in ratings_testings_by_user:\n",
        "        if d in ratings_by_user:\n",
        "            total += len(set(ratings_by_user[d]) & set(ratings_testings_by_user[d]))\n",
        "\n",
        "    score = total / len(ratings_testings)\n",
        "    return score\n"
      ]
    },
    {
      "cell_type": "markdown",
      "id": "cO_Ps3V2_CVv",
      "metadata": {
        "id": "cO_Ps3V2_CVv"
      },
      "source": [
        "## 產生推薦\n",
        "### 推薦系統1. 歷史購買次數Top K"
      ]
    },
    {
      "cell_type": "code",
      "execution_count": 8,
      "id": "2e9caa20",
      "metadata": {},
      "outputs": [],
      "source": [
        "def recommender_1(training_data, users=[], k=10):\n",
        "    '''\n",
        "    * training_data: dataframe 輸入的訓練資料集（2018-09-01 以前資料）\n",
        "    * users: [] 需要被推薦的使用者\n",
        "    * k: int 每個使用者需要推薦的商品數\n",
        "    * recommendations: dict\n",
        "      {\n",
        "          使用者一： [推薦商品一, 推薦商品二, ...],\n",
        "          使用者二： [...], ...\n",
        "      }\n",
        "    '''\n",
        "    recommendations = {}\n",
        "    popularity = training_data[\"asin\"].value_counts().index.to_list()[0:k]\n",
        "    for user in users:\n",
        "      # user_recommendations = list(set(user_recommendations))[0:k]\n",
        "      recommendations[user] = popularity\n",
        "    # popularity = training_data[\"asin\"].value_counts().index.to_list()[0:k]\n",
        "    # recommendations = {x: popularity for x in users}\n",
        "    \n",
        "    return recommendations"
      ]
    },
    {
      "cell_type": "markdown",
      "id": "e2c2f1f6",
      "metadata": {},
      "source": [
        "## 推薦系統測試2 熱門前百大產品 依序推薦"
      ]
    },
    {
      "cell_type": "code",
      "execution_count": 10,
      "id": "a9RuCG2K_CVv",
      "metadata": {
        "id": "a9RuCG2K_CVv",
        "outputId": "e11277fc-0327-49d4-efb1-49d1d3d56125"
      },
      "outputs": [],
      "source": [
        "def recommender_2(training_data, users=[], k=10):\n",
        "    '''\n",
        "    * training_data: dataframe 輸入的訓練資料集（2018-09-01 以前資料）\n",
        "    * users: [] 需要被推薦的使用者\n",
        "    * k: int 每個使用者需要推薦的商品數\n",
        "    * recommendations: dict\n",
        "      {\n",
        "          使用者一： [推薦商品一, 推薦商品二, ...],\n",
        "          使用者二： [...], ...\n",
        "      }\n",
        "    '''\n",
        "    recommendations = {}\n",
        "    # 前百大熱門產品\n",
        "    popularity = training_data[\"asin\"].value_counts().index.to_list()[0:100]\n",
        "    for user in users:\n",
        "        # print(user)\n",
        "        user_review = training_data[training_data['reviewerID'] == user]\n",
        "        user_review_rank = user_review.groupby(['asin']).agg({'overall': 'mean'}).reset_index().sort_values(['overall'], ascending = False)\n",
        "        # 1.篩選最喜好的產品top k \n",
        "        user_review_rank_max = user_review_rank[user_review_rank['overall'] >= user_review_rank.overall.max()]\n",
        "        # 判斷是否有在熱門清單裡面 並重新推薦給客戶\n",
        "        popularity_and_have_buy = [item for item in user_review_rank_max.asin if item in popularity][0:k]\n",
        "        # popularity user_review_rank.asin\n",
        "        # 2.篩選買過的產品 其他人 Also_buy 在熱門清單選項\n",
        "        also_buy = df_also_buy[df_also_buy.asin.isin(user_review_rank.asin)]\n",
        "        also_buy = [item for item in also_buy.also_buy if item in popularity]\n",
        "        # 3.篩選買過的產品 其他人 Also_view 在熱門清單選項\n",
        "        also_view = df_also_view[df_also_view.asin.isin(user_review_rank.asin)]\n",
        "        also_view = [item for item in also_view.also_view if item in popularity]\n",
        "        # 4.熱門產品補滿至Topk\n",
        "        user_recommendations = popularity_and_have_buy + also_buy + also_view #+ popularity\n",
        "        # user_recommendations = popularity\n",
        "        # user_recommendations = list(set(user_recommendations))[0:k]\n",
        "        # user_recommendations = user_recommendations\n",
        "        recommendations[user] = user_recommendations[0:k]\n",
        "    return recommendations"
      ]
    },
    {
      "cell_type": "markdown",
      "id": "9476ff61",
      "metadata": {},
      "source": [
        "### 推薦系統3 : 隨機推薦Also_buy/ Also_view"
      ]
    },
    {
      "cell_type": "code",
      "execution_count": 21,
      "id": "e3aee36f",
      "metadata": {},
      "outputs": [],
      "source": [
        "def recommender_3(training_data, users=[], k=10):\n",
        "    '''\n",
        "    * training_data: dataframe 輸入的訓練資料集（2018-09-01 以前資料）\n",
        "    * users: [] 需要被推薦的使用者\n",
        "    * k: int 每個使用者需要推薦的商品數\n",
        "    * recommendations: dict\n",
        "      {\n",
        "          使用者一： [推薦商品一, 推薦商品二, ...],\n",
        "          使用者二： [...], ...\n",
        "      }\n",
        "    '''\n",
        "    recommendations = {}\n",
        "    # 前百大熱門產品\n",
        "    popularity = training_data[\"asin\"].value_counts().index.to_list()[0:100]\n",
        "    for user in users:\n",
        "        # print(user)\n",
        "        user_review = training_data[training_data['reviewerID'] == user]\n",
        "        user_review_rank = user_review.groupby(['asin']).agg({'overall': 'mean'}).reset_index().sort_values(['overall'], ascending = False)\n",
        "        # 1.篩選最喜好的產品top k \n",
        "        user_review_rank_max = user_review_rank[user_review_rank['overall'] >= user_review_rank.overall.max()]\n",
        "        # 判斷是否有在熱門清單裡面 並重新推薦給客戶\n",
        "        popularity_and_have_buy = [item for item in user_review_rank_max.asin if item in popularity][0:k]\n",
        "        # popularity user_review_rank.asin\n",
        "        # 2.篩選其他人買過的產品 \n",
        "        also_buy = df_also_buy[df_also_buy.asin.isin(user_review_rank.asin)]\n",
        "        also_buy = [item for item in also_buy.also_buy]\n",
        "        # 3.篩選其他人看過的產品\n",
        "        also_view = df_also_view[df_also_view.asin.isin(user_review_rank.asin)]\n",
        "        also_view = [item for item in also_view.also_view]\n",
        "        # 4.熱門產品補滿至Topk\n",
        "        user_recommendations = popularity_and_have_buy + also_buy + also_view + popularity\n",
        "        recommendations[user] = user_recommendations[0:k]\n",
        "    return recommendations"
      ]
    },
    {
      "cell_type": "markdown",
      "id": "0b678218",
      "metadata": {},
      "source": [
        "### 推薦系統1 評分"
      ]
    },
    {
      "cell_type": "code",
      "execution_count": 12,
      "id": "e1764751",
      "metadata": {},
      "outputs": [
        {
          "name": "stdout",
          "output_type": "stream",
          "text": [
            "Method1 Score: 0.08305084745762711\n"
          ]
        }
      ],
      "source": [
        "ratings_by_user_1 = recommender_1(ratings_trainings, users)\n",
        "method_1 = evaluate(ratings_testings_by_user, ratings_by_user_1)\n",
        "print(f'Method1 Score: {method_1}')"
      ]
    },
    {
      "cell_type": "code",
      "execution_count": 32,
      "id": "bf79c131",
      "metadata": {},
      "outputs": [
        {
          "name": "stdout",
          "output_type": "stream",
          "text": [
            "Method1 2018-06-01 - 2018-09-01 Score: 0.13389830508474576\n"
          ]
        }
      ],
      "source": [
        "# 近三個月資料\n",
        "train_start_date = \"2018-06-01\"\n",
        "train_end_date = '2018-09-01'\n",
        "train_3months = ratings_trainings[\n",
        "    (ratings_trainings['DATE'] >= train_start_date) & \n",
        "    (ratings_trainings['DATE'] < train_end_date)\n",
        "]\n",
        "ratings_by_user_1 = recommender_1(train_3months, users)\n",
        "method_1_time = evaluate(ratings_testings_by_user, ratings_by_user_1)\n",
        "print(f'Method1 {train_start_date} - {train_end_date} Score: {method_1_time}')"
      ]
    },
    {
      "cell_type": "markdown",
      "id": "c32dea49",
      "metadata": {},
      "source": [
        "### 推薦系統2 評分"
      ]
    },
    {
      "cell_type": "code",
      "execution_count": 13,
      "id": "b7VSaCQD_CVw",
      "metadata": {
        "id": "b7VSaCQD_CVw"
      },
      "outputs": [
        {
          "name": "stdout",
          "output_type": "stream",
          "text": [
            "Method2 Score: 0.0\n"
          ]
        }
      ],
      "source": [
        "ratings_by_user_2 = recommender_2(ratings_trainings, users)\n",
        "method_2 = evaluate(ratings_testings_by_user, ratings_by_user_2)\n",
        "print(f'Method2 Score: {method_2}')"
      ]
    },
    {
      "cell_type": "code",
      "execution_count": 34,
      "id": "bfc4f793",
      "metadata": {},
      "outputs": [
        {
          "name": "stdout",
          "output_type": "stream",
          "text": [
            "Method2 2018-06-01 - 2018-09-01 Score: 0.0\n"
          ]
        }
      ],
      "source": [
        "ratings_by_user_2 = recommender_2(train_3months, users)\n",
        "method_2_time = evaluate(ratings_testings_by_user, ratings_by_user_2)\n",
        "print(f'Method2 {train_start_date} - {train_end_date} Score: {method_2_time}')"
      ]
    },
    {
      "cell_type": "markdown",
      "id": "e41eae5c",
      "metadata": {},
      "source": [
        "### 推薦系統3 評分"
      ]
    },
    {
      "cell_type": "code",
      "execution_count": 22,
      "id": "62bc9a02",
      "metadata": {},
      "outputs": [
        {
          "name": "stdout",
          "output_type": "stream",
          "text": [
            "Method3 Score: 0.08305084745762711\n"
          ]
        }
      ],
      "source": [
        "ratings_by_user_3 = recommender_3(ratings_trainings, users)\n",
        "method_3 = evaluate(ratings_testings_by_user, ratings_by_user_3)\n",
        "print(f'Method3 Score: {method_3}')"
      ]
    },
    {
      "cell_type": "code",
      "execution_count": 35,
      "id": "7e7aeaf7",
      "metadata": {},
      "outputs": [
        {
          "name": "stdout",
          "output_type": "stream",
          "text": [
            "method_3 2018-06-01 - 2018-09-01 Score: 0.13389830508474576\n"
          ]
        }
      ],
      "source": [
        "ratings_by_user_3 = recommender_3(train_3months, users)\n",
        "method_3_time = evaluate(ratings_testings_by_user, ratings_by_user_3)\n",
        "print(f'method_3 {train_start_date} - {train_end_date} Score: {method_3_time}')"
      ]
    }
  ],
  "metadata": {
    "colab": {
      "name": "sample.ipynb",
      "provenance": []
    },
    "kernelspec": {
      "display_name": "Python 3",
      "language": "python",
      "name": "python3"
    },
    "language_info": {
      "codemirror_mode": {
        "name": "ipython",
        "version": 3
      },
      "file_extension": ".py",
      "mimetype": "text/x-python",
      "name": "python",
      "nbconvert_exporter": "python",
      "pygments_lexer": "ipython3",
      "version": "3.8.8"
    }
  },
  "nbformat": 4,
  "nbformat_minor": 5
}
