{
 "cells": [
  {
   "cell_type": "code",
   "execution_count": 10,
   "metadata": {},
   "outputs": [
    {
     "name": "stdout",
     "output_type": "stream",
     "text": [
      "[1]\n",
      "[1, 2]\n",
      "2\n",
      "[1, 2, 3]\n",
      "3\n",
      "True\n"
     ]
    }
   ],
   "source": [
    "# Stack ADT: \n",
    "class Stack:\n",
    "    def __init__(self) -> None:\n",
    "        self.items = []          # 空的Stack, 以list呈現\n",
    "    def push(self, item):\n",
    "        self.items.append(item)\n",
    "    def pop(self):\n",
    "        self.items.pop()\n",
    "    def peek(self):\n",
    "        print(self.items[len(self.items)-1])\n",
    "    def isEmpty(self):\n",
    "        print(len(self.items) == 0)\n",
    "    def size(self):\n",
    "        print(len(self.items))\n",
    "        \n",
    "        \n",
    "test_stack = Stack()\n",
    "test_stack.push(1)\n",
    "print(test_stack.items)\n",
    "test_stack.push(2)\n",
    "print(test_stack.items)\n",
    "test_stack.peek()\n",
    "test_stack.push(3)\n",
    "print(test_stack.items)\n",
    "test_stack.size()\n",
    "test_stack.pop()\n",
    "test_stack.pop()\n",
    "test_stack.pop()\n",
    "test_stack.isEmpty()\n"
   ]
  },
  {
   "cell_type": "code",
   "execution_count": 3,
   "metadata": {},
   "outputs": [
    {
     "data": {
      "text/plain": [
       "'\\n( ( ( () ) ) )\\nfirst (open  last) close ->次序反轉\\n'"
      ]
     },
     "execution_count": 3,
     "metadata": {},
     "output_type": "execute_result"
    }
   ],
   "source": [
    "# Stack 括號匹配\n",
    "\"\"\"\n",
    "( ( ( () ) ) )\n",
    "first (open  last) close ->次序反轉\n",
    "\"\"\"\n"
   ]
  },
  {
   "cell_type": "code",
   "execution_count": 1,
   "metadata": {},
   "outputs": [
    {
     "name": "stdout",
     "output_type": "stream",
     "text": [
      "10 5\n"
     ]
    }
   ],
   "source": [
    "# Unordered List ADT\n",
    "a = 5\n",
    "b = 10\n",
    "a, b = b, a\n",
    "print(a, b)"
   ]
  },
  {
   "cell_type": "code",
   "execution_count": null,
   "metadata": {},
   "outputs": [],
   "source": []
  }
 ],
 "metadata": {
  "interpreter": {
   "hash": "5f292722d6d50c2426abae6fd15a85386b49c5393ec98f1c35f79e4e4dd7448b"
  },
  "kernelspec": {
   "display_name": "Python 3.6.5 64-bit ('base': conda)",
   "name": "python3"
  },
  "language_info": {
   "codemirror_mode": {
    "name": "ipython",
    "version": 3
   },
   "file_extension": ".py",
   "mimetype": "text/x-python",
   "name": "python",
   "nbconvert_exporter": "python",
   "pygments_lexer": "ipython3",
   "version": "3.6.5"
  },
  "orig_nbformat": 4
 },
 "nbformat": 4,
 "nbformat_minor": 2
}
