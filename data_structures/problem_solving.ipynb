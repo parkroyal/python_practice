{
 "cells": [
  {
   "cell_type": "code",
   "execution_count": 10,
   "metadata": {},
   "outputs": [
    {
     "name": "stdout",
     "output_type": "stream",
     "text": [
      "[1]\n",
      "[1, 2]\n",
      "2\n",
      "[1, 2, 3]\n",
      "3\n",
      "True\n"
     ]
    }
   ],
   "source": [
    "# Stack ADT: \n",
    "class Stack:\n",
    "    def __init__(self) -> None:\n",
    "        self.items = []          # 空的Stack, 以list呈現\n",
    "    def push(self, item):\n",
    "        self.items.append(item)\n",
    "    def pop(self):\n",
    "        self.items.pop()\n",
    "    def peek(self):\n",
    "        print(self.items[len(self.items)-1])\n",
    "    def isEmpty(self):\n",
    "        print(len(self.items) == 0)\n",
    "    def size(self):\n",
    "        print(len(self.items))\n",
    "        \n",
    "        \n",
    "test_stack = Stack()\n",
    "test_stack.push(1)\n",
    "print(test_stack.items)\n",
    "test_stack.push(2)\n",
    "print(test_stack.items)\n",
    "test_stack.peek()\n",
    "test_stack.push(3)\n",
    "print(test_stack.items)\n",
    "test_stack.size()\n",
    "test_stack.pop()\n",
    "test_stack.pop()\n",
    "test_stack.pop()\n",
    "test_stack.isEmpty()\n"
   ]
  },
  {
   "cell_type": "code",
   "execution_count": 3,
   "metadata": {},
   "outputs": [
    {
     "data": {
      "text/plain": [
       "'\\n( ( ( () ) ) )\\nfirst (open  last) close ->次序反轉\\n'"
      ]
     },
     "execution_count": 3,
     "metadata": {},
     "output_type": "execute_result"
    }
   ],
   "source": [
    "# Stack 括號匹配\n",
    "\"\"\"\n",
    "( ( ( () ) ) )\n",
    "first (open  last) close ->次序反轉\n",
    "\"\"\"\n"
   ]
  },
  {
   "cell_type": "code",
   "execution_count": 1,
   "metadata": {},
   "outputs": [
    {
     "name": "stdout",
     "output_type": "stream",
     "text": [
      "10 5\n"
     ]
    }
   ],
   "source": [
    "# Unordered List ADT\n",
    "a = 5\n",
    "b = 10\n",
    "a, b = b, a\n",
    "print(a, b)"
   ]
  },
  {
   "cell_type": "code",
   "execution_count": 5,
   "metadata": {},
   "outputs": [
    {
     "name": "stdout",
     "output_type": "stream",
     "text": [
      "step : 1, change : 6, minCoins : 6\n",
      "step : 2, change : 5, minCoins : 5\n",
      "2\n",
      "step : 2, change : 1, minCoins : 1\n",
      "2\n"
     ]
    }
   ],
   "source": [
    "# 找零\n",
    "# 參數: 零錢列表/ 找零金額 / 最優解\n",
    "def recDC(coinList = [1, 2, 5, 10], change = 11, result = {}, step = 1):\n",
    "    # 最多得換\n",
    "    minCoins = change\n",
    "    print(f'step : {step}, change : {change}, minCoins : {minCoins}')\n",
    "    # 如果找零剛好在零錢列表則直接返還\n",
    "    if change in coinList:\n",
    "        # 儲存最優解至result\n",
    "        result[change] = 1\n",
    "        return 1\n",
    "    # 如果發現之前已經計算過最佳解了\n",
    "    elif result.get(change) != None:\n",
    "        # 直接回傳最佳解\n",
    "        return result.get(change)\n",
    "    else:\n",
    "        # 如果沒有, 使用遞歸計算此找零數的最小值紀錄在dictionary\n",
    "        for i in [c for c in coinList if c <= change]:\n",
    "            numCoins = 1 + recDC(coinList, change - i, result, step = step + 1)\n",
    "            # 如果找零硬幣數 < 最大數目\n",
    "            if numCoins < minCoins:\n",
    "                print(numCoins)\n",
    "                minCoins = numCoins\n",
    "                result[change] = minCoins\n",
    "    return minCoins\n",
    "# 儲存先前最優解\n",
    "print(recDC([1,5,10,25],6))"
   ]
  },
  {
   "cell_type": "code",
   "execution_count": 1,
   "metadata": {},
   "outputs": [
    {
     "name": "stdout",
     "output_type": "stream",
     "text": [
      "2\n",
      "True\n",
      "4 1\n",
      "1\n",
      "2\n",
      "5\n"
     ]
    }
   ],
   "source": [
    "result = {}\n",
    "result[11] = 2\n",
    "print(result.get(11))\n",
    "print(result.get(13) == None)\n",
    "\n",
    "clist = [1,2,5,10]\n",
    "change = 4\n",
    "[c for c in clist if c <= change]\n",
    "print(change, 1)\n",
    "coinValueList = [1, 2,5 , 10]\n",
    "change = 9\n",
    "for i in [c for c in coinValueList if c <= change]:\n",
    "    print(i)"
   ]
  },
  {
   "cell_type": "code",
   "execution_count": 1,
   "metadata": {},
   "outputs": [
    {
     "ename": "TypeError",
     "evalue": "__init__() got an unexpected keyword argument 'vol'",
     "output_type": "error",
     "traceback": [
      "\u001b[1;31m---------------------------------------------------------------------------\u001b[0m",
      "\u001b[1;31mTypeError\u001b[0m                                 Traceback (most recent call last)",
      "\u001b[1;32m<ipython-input-1-28a1c842a501>\u001b[0m in \u001b[0;36m<module>\u001b[1;34m\u001b[0m\n\u001b[0;32m     36\u001b[0m         \u001b[1;32mreturn\u001b[0m \u001b[0mroot\u001b[0m\u001b[1;33m.\u001b[0m\u001b[0mnext\u001b[0m\u001b[1;33m\u001b[0m\u001b[1;33m\u001b[0m\u001b[0m\n\u001b[0;32m     37\u001b[0m \u001b[1;33m\u001b[0m\u001b[0m\n\u001b[1;32m---> 38\u001b[1;33m \u001b[0ml1\u001b[0m \u001b[1;33m=\u001b[0m \u001b[0mListNode\u001b[0m\u001b[1;33m(\u001b[0m\u001b[0mvol\u001b[0m \u001b[1;33m=\u001b[0m \u001b[1;36m1\u001b[0m\u001b[1;33m)\u001b[0m\u001b[1;33m\u001b[0m\u001b[1;33m\u001b[0m\u001b[0m\n\u001b[0m\u001b[0;32m     39\u001b[0m \u001b[0mSolution\u001b[0m\u001b[1;33m.\u001b[0m\u001b[0maddTwoNumbers\u001b[0m\u001b[1;33m(\u001b[0m\u001b[1;33m[\u001b[0m\u001b[1;33m]\u001b[0m\u001b[1;33m)\u001b[0m\u001b[1;33m\u001b[0m\u001b[1;33m\u001b[0m\u001b[0m\n",
      "\u001b[1;31mTypeError\u001b[0m: __init__() got an unexpected keyword argument 'vol'"
     ]
    }
   ],
   "source": [
    "# add two number\n",
    "\n",
    "# Definition for singly-linked list.\n",
    "class ListNode:\n",
    "    def __init__(self, val=0, next=None):\n",
    "        self.val = val\n",
    "        self.next = next\n",
    "\n",
    "class UnorderedList:\n",
    "\n",
    "    def __init__(self):\n",
    "        self.head = None\n",
    "    def add(self,item):\n",
    "        temp = ListNode(item)\n",
    "        temp.setNext(self.head)\n",
    "        self.head = temp\n",
    "\n",
    "mylist = UnorderedList()\n",
    "\n",
    "\n",
    "class Solution:\n",
    "    def addTwoNumbers(self, l1, l2):\n",
    "        carry = 0\n",
    "        root = n = ListNode(0)\n",
    "        while l1 or l2 or carry:\n",
    "            v1 = v2 = 0\n",
    "            if l1:\n",
    "                v1 = l1.val\n",
    "                l1 = l1.next\n",
    "            if l2:\n",
    "                v2 = l2.val\n",
    "                l2 = l2.next\n",
    "            carry, val = divmod(v1+v2+carry, 10)\n",
    "            n.next = ListNode(val)\n",
    "            n = n.next\n",
    "        return root.next\n",
    "\n",
    "l1 = ListNode(vol = 1)\n",
    "Solution.addTwoNumbers([])\n"
   ]
  },
  {
   "cell_type": "code",
   "execution_count": null,
   "metadata": {},
   "outputs": [],
   "source": []
  }
 ],
 "metadata": {
  "interpreter": {
   "hash": "5f292722d6d50c2426abae6fd15a85386b49c5393ec98f1c35f79e4e4dd7448b"
  },
  "kernelspec": {
   "display_name": "Python 3.6.5 64-bit ('base': conda)",
   "name": "python3"
  },
  "language_info": {
   "codemirror_mode": {
    "name": "ipython",
    "version": 3
   },
   "file_extension": ".py",
   "mimetype": "text/x-python",
   "name": "python",
   "nbconvert_exporter": "python",
   "pygments_lexer": "ipython3",
   "version": "3.8.8"
  },
  "orig_nbformat": 4
 },
 "nbformat": 4,
 "nbformat_minor": 2
}
