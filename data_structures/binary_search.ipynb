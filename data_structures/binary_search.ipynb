{
 "cells": [
  {
   "cell_type": "code",
   "execution_count": 1,
   "metadata": {},
   "outputs": [
    {
     "name": "stdout",
     "output_type": "stream",
     "text": [
      "left : 0, mid : 4\n",
      "left : 0, mid : 2\n"
     ]
    },
    {
     "data": {
      "text/plain": [
       "'target index : 2'"
      ]
     },
     "execution_count": 1,
     "metadata": {},
     "output_type": "execute_result"
    }
   ],
   "source": [
    "from typing import List\n",
    "\n",
    "class Solution:\n",
    "    def searchRange(self, nums: List[int], target: int) -> List[int]:\n",
    "        left, right = 0, len(nums)\n",
    "        # 開始拆分尋找\n",
    "        while left < right:\n",
    "            mid = left + (left + right) // 2\n",
    "            print(f\"left : {left}, mid : {mid}\")\n",
    "            if target < nums[mid]:\n",
    "                right = mid\n",
    "            elif target > nums[mid]:\n",
    "                left = mid + 1\n",
    "            elif target == nums[mid]:\n",
    "                return f\"target index : {mid}\"\n",
    "        return 'Not Found'\n",
    "\n",
    "    \n",
    "obj = Solution()\n",
    "obj.searchRange([5,7,8,10,11,12,13,14,15], 8)\n"
   ]
  }
 ],
 "metadata": {
  "interpreter": {
   "hash": "5f292722d6d50c2426abae6fd15a85386b49c5393ec98f1c35f79e4e4dd7448b"
  },
  "kernelspec": {
   "display_name": "Python 3.8.8 64-bit ('base': conda)",
   "language": "python",
   "name": "python3"
  },
  "language_info": {
   "codemirror_mode": {
    "name": "ipython",
    "version": 3
   },
   "file_extension": ".py",
   "mimetype": "text/x-python",
   "name": "python",
   "nbconvert_exporter": "python",
   "pygments_lexer": "ipython3",
   "version": "3.8.8"
  },
  "orig_nbformat": 4
 },
 "nbformat": 4,
 "nbformat_minor": 2
}
