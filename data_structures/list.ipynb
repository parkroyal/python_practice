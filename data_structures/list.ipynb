{
 "cells": [
  {
   "cell_type": "code",
   "execution_count": 1,
   "metadata": {},
   "outputs": [
    {
     "data": {
      "text/plain": [
       "[(1, 5, 9), (2, 6, 10), (3, 7, 11), (4, 8, 12)]"
      ]
     },
     "execution_count": 1,
     "metadata": {},
     "output_type": "execute_result"
    }
   ],
   "source": [
    "# List Comprehensions\n",
    "# map(function, iterable, ...)\n",
    "squares = list(map(lambda x: x**2, range(1,10)))\n",
    "def square(x):\n",
    "    return(x**2)\n",
    "squares2 = list(map(square, range(1,10)))    \n",
    "# A list comprehension consists of brackets containing an expression followed by a for clause, then zero or more for or if clauses.\n",
    "[(x, y) for x in [1,2,3] for y in [3,1,4] if x != y]\n",
    "# call a method on each element\n",
    "freshfruit = ['  banana', '  loganberry ', 'passion fruit  ']\n",
    "[x.strip().upper() for x in freshfruit]\n",
    "# create a list of 2-tuples like (number, square)\n",
    "# the tuple must be parenthesized, otherwise an error is raised\n",
    "[(x, x**2) for x in range(6)]\n",
    "\"\"\"\n",
    "\n",
    "\"\"\"\n",
    "matrix = [\n",
    "[1, 2, 3, 4],\n",
    "[5, 6, 7, 8],\n",
    "[9, 10, 11, 12],\n",
    "]\n",
    "# The following list comprehension will transpose rows and columns:\n",
    "# [row for row in matrix]\n",
    "# matrix[0]\n",
    "[[row[i] for row in matrix] for i in range(4)]\n",
    "\n",
    "transposed = []\n",
    "# for i in range(4):\n",
    "#   print([row[i] for row in matrix])\n",
    "#   transposed.append([row[i] for row in matrix])\n",
    "list(zip(*matrix))"
   ]
  },
  {
   "cell_type": "code",
   "execution_count": 2,
   "metadata": {},
   "outputs": [
    {
     "data": {
      "text/plain": [
       "{'d', 'r'}"
      ]
     },
     "execution_count": 2,
     "metadata": {},
     "output_type": "execute_result"
    }
   ],
   "source": [
    "# A set is an unordered collection with no duplicate elements. \n",
    "# Basic uses include membership testing and eliminating duplicate entries. \n",
    "# Set objects also support mathematical operations like union, intersection, difference, and symmetric difference.\n",
    "set('abracadabra')\n",
    "# Similarly to list comprehensions, set comprehensions are also supported:\n",
    "{x for x in 'abracadabra' if x not in 'abc'}"
   ]
  },
  {
   "cell_type": "code",
   "execution_count": 7,
   "metadata": {},
   "outputs": [
    {
     "name": "stdout",
     "output_type": "stream",
     "text": [
      "gallahad the pure\n",
      "robin the brave\n",
      "0 tic\n",
      "1 tac\n",
      "2 toe\n",
      "What is your name?  It is lancelot.\n",
      "What is your quest?  It is the holy grail.\n",
      "What is your favorite color?  It is blue.\n"
     ]
    }
   ],
   "source": [
    "# The main operations on a dictionary are storing a value with some key and extracting the value given the key.\n",
    "# It is also possible to delete a key:value pair with del. \n",
    "# If you store using a key that is already in use, the old value associated with that key is forgotten.\n",
    "# It is an error to extract a value using a non-existent key.\n",
    "dict([('sape', 4139), ('guido', 4127), ('jack', 4098)])\n",
    "#  dict comprehensions\n",
    "{x: x**2 for x in (2, 4, 6)}\n",
    "# keys are simple strings\n",
    "dict(sape=4139, guido=4127, jack=4098)\n",
    "# When looping through dictionaries, the key and corresponding value can be retrieved at the same time using the items() method\n",
    "knights = {'gallahad': 'the pure', 'robin': 'the brave'}\n",
    "for k, v in knights.items():\n",
    "    print(k, v)\n",
    "# When looping through a sequence, the position index and corresponding value can be retrieved at the same time using the enumerate() function.\n",
    "for i, v in enumerate(['tic', 'tac', 'toe']):\n",
    "    print(i, v)\n",
    "# To loop over two or more sequences at the same time, the entries can be paired with the zip() function.\n",
    "questions = ['name', 'quest', 'favorite color']\n",
    "answers = ['lancelot', 'the holy grail', 'blue']\n",
    "for q, a in zip(questions, answers):\n",
    "    print(f'What is your {q}?  It is {a}.')\n"
   ]
  },
  {
   "cell_type": "code",
   "execution_count": 4,
   "metadata": {},
   "outputs": [
    {
     "data": {
      "text/plain": [
       "[('a', 1), ('b', 2), ('c', 3)]"
      ]
     },
     "execution_count": 4,
     "metadata": {},
     "output_type": "execute_result"
    }
   ],
   "source": [
    "\"\"\"\n",
    "zip function\n",
    "Iterate over several iterables in parallel, producing tuples with an item from each one.\n",
    "zip() is that it turns rows into columns, and columns into rows. This is similar to transposing a matrix.\n",
    "The elements won’t be processed until the iterable is iterated on, e.g. by a for loop or by wrapping in a list.\n",
    "\"\"\"\n",
    "# for item in zip([1, 2, 3], ['sugar', 'spice', 'everything nice']):\n",
    "#     print(item)\n",
    "\n",
    "a = list(zip(([1,2,3], ['sugar', 'spice', 'else'])))   # wrap\n",
    "b = zip(([1,2,3], ['sugar', 'spice', 'else']))         # not processed\n",
    "c = [zip(([1,2,3], ['sugar', 'spice', 'else']))]         # not processed\n",
    "\n",
    "# 預設執行到最短長度的iterable\n",
    "list(zip('abcd', '123'))\n",
    "# \n",
    "list(zip(('a', 'b', 'c'), (1, 2, 3), strict=True))\n"
   ]
  },
  {
   "cell_type": "code",
   "execution_count": null,
   "metadata": {},
   "outputs": [],
   "source": [
    "# two sum \n",
    "class Solution:\n",
    "   def twoSum(self, nums: list, target: int) -> list:\n",
    "       seen = {}\n",
    "       for i, value in enumerate(nums): #1\n",
    "           remaining = target - nums[i] #2\n",
    "           \n",
    "           if remaining in seen: #3\n",
    "               return [i, seen[remaining]]  #4\n",
    "           else:\n",
    "               seen[value] = i  #5\n",
    "\n",
    "test = Solution()\n",
    "test.twoSum([2,7,11,19], 18)\n",
    "\n",
    "\n",
    "class Solution:\n",
    "    def twoSum(self, numbers: list, target: int) -> list:\n",
    "        \n",
    "        seen = {}\n",
    "        for i, value in enumerate(numbers): \n",
    "            remaining = target - numbers[i] \n",
    "           \n",
    "            if remaining in seen: \n",
    "                return [seen[remaining]+1, i+1]  #4\n",
    "            else:\n",
    "                seen[value] = i  \n",
    "\n",
    "test = Solution()\n",
    "test.twoSum([2,7,11,19], 18)\n"
   ]
  }
 ],
 "metadata": {
  "interpreter": {
   "hash": "57baa5815c940fdaff4d14510622de9616cae602444507ba5d0b6727c008cbd6"
  },
  "kernelspec": {
   "display_name": "Python 3.7.8 64-bit",
   "name": "python3"
  },
  "language_info": {
   "codemirror_mode": {
    "name": "ipython",
    "version": 3
   },
   "file_extension": ".py",
   "mimetype": "text/x-python",
   "name": "python",
   "nbconvert_exporter": "python",
   "pygments_lexer": "ipython3",
   "version": "3.9.7"
  },
  "orig_nbformat": 4
 },
 "nbformat": 4,
 "nbformat_minor": 2
}
